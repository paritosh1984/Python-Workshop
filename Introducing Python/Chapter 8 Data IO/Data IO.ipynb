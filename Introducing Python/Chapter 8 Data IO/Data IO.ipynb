{
 "cells": [
  {
   "cell_type": "markdown",
   "metadata": {},
   "source": [
    "### Open and write"
   ]
  },
  {
   "cell_type": "code",
   "execution_count": 14,
   "metadata": {
    "collapsed": true
   },
   "outputs": [],
   "source": [
    "review = \"I have a few leave Bluetooth and \\\n",
    "I'm gonna say this really brings the BOOM.\\\n",
    "My music is bumping the colors are amazing \\\n",
    "and it also plays FM radio how amazing is that?!\"\n",
    "\n",
    "review_file = open('review','wt')\n",
    "review_file.write(review)\n",
    "review_file.close()"
   ]
  },
  {
   "cell_type": "markdown",
   "metadata": {},
   "source": [
    "Use <b style='color:blue'> %load <file_name> </b> to open any file and <b style='color:blue'>%ls </b> to show files in current directory."
   ]
  },
  {
   "cell_type": "code",
   "execution_count": 15,
   "metadata": {},
   "outputs": [
    {
     "name": "stdout",
     "output_type": "stream",
     "text": [
      " Volume in drive C has no label.\n",
      " Volume Serial Number is 5889-7B5D\n",
      "\n",
      " Directory of C:\\Users\\vivek\\Documents\\GitHub\\Python-Workshop\\Introducing Python\\Chapter 8\n",
      "\n",
      "08/13/2017  07:10 PM    <DIR>          .\n",
      "08/13/2017  07:10 PM    <DIR>          ..\n",
      "08/13/2017  07:06 PM    <DIR>          .ipynb_checkpoints\n",
      "08/13/2017  07:10 PM             7,799 Data IO.ipynb\n",
      "08/10/2017  06:28 PM           144,031 Data IO.pdf\n",
      "08/10/2017  06:28 PM            57,592 Data IO.synctex.gz\n",
      "08/10/2017  06:28 PM             6,871 Data IO.tex\n",
      "08/13/2017  07:10 PM               166 review\n",
      "               5 File(s)        216,459 bytes\n",
      "               3 Dir(s)  457,020,923,904 bytes free\n"
     ]
    }
   ],
   "source": [
    "%ls"
   ]
  },
  {
   "cell_type": "code",
   "execution_count": null,
   "metadata": {
    "collapsed": true
   },
   "outputs": [],
   "source": [
    "# %load review\n",
    "I have a few leave Bluetooth and I'm gonna say this really brings the BOOM.My music is bumping the colors are amazing and it also plays FM radio how amazing is that?!"
   ]
  },
  {
   "cell_type": "markdown",
   "metadata": {},
   "source": [
    "As we can see above, a new 'review' text file has been created."
   ]
  },
  {
   "cell_type": "markdown",
   "metadata": {},
   "source": [
    "### Write in Chunks"
   ]
  },
  {
   "cell_type": "code",
   "execution_count": 16,
   "metadata": {
    "collapsed": true
   },
   "outputs": [],
   "source": [
    "def write_in_chunks(text,chunk):\n",
    "    fout = open('output_file', 'wt')\n",
    "    size = len(text)\n",
    "    offset = 0\n",
    "    chunk = chunk\n",
    "    while True:\n",
    "        if offset > size:\n",
    "            break\n",
    "        fout.write(text[offset:offset+chunk])\n",
    "        offset += chunk\n",
    "    fout.close()"
   ]
  },
  {
   "cell_type": "code",
   "execution_count": 20,
   "metadata": {
    "collapsed": true
   },
   "outputs": [],
   "source": [
    "write_in_chunks(review, 10)"
   ]
  },
  {
   "cell_type": "code",
   "execution_count": null,
   "metadata": {
    "collapsed": true
   },
   "outputs": [],
   "source": [
    "# %load review\n",
    "I have a few leave Bluetooth and I'm gonna say this really brings the BOOM.My music is bumping the colors are amazing and it also plays FM radio how amazing is that?!"
   ]
  },
  {
   "cell_type": "markdown",
   "metadata": {},
   "source": [
    "### Preventing Overwriting of Critical Data"
   ]
  },
  {
   "cell_type": "code",
   "execution_count": 28,
   "metadata": {},
   "outputs": [
    {
     "name": "stdout",
     "output_type": "stream",
     "text": [
      " Volume in drive C has no label.\n",
      " Volume Serial Number is 5889-7B5D\n",
      "\n",
      " Directory of C:\\Users\\vivek\\Documents\\GitHub\\Python-Workshop\\Introducing Python\\Chapter 8\n",
      "\n",
      "08/13/2017  07:14 PM    <DIR>          .\n",
      "08/13/2017  07:14 PM    <DIR>          ..\n",
      "08/13/2017  07:06 PM    <DIR>          .ipynb_checkpoints\n",
      "08/13/2017  07:14 PM             9,215 Data IO.ipynb\n",
      "08/10/2017  06:28 PM           144,031 Data IO.pdf\n",
      "08/10/2017  06:28 PM            57,592 Data IO.synctex.gz\n",
      "08/10/2017  06:28 PM             6,871 Data IO.tex\n",
      "08/13/2017  07:13 PM               166 output_file\n",
      "08/13/2017  07:10 PM               166 review\n",
      "               6 File(s)        218,041 bytes\n",
      "               3 Dir(s)  457,020,932,096 bytes free\n"
     ]
    }
   ],
   "source": [
    "%ls"
   ]
  },
  {
   "cell_type": "markdown",
   "metadata": {},
   "source": [
    "As we can see there is already an output_file in the directory, let's try to overwrite it."
   ]
  },
  {
   "cell_type": "code",
   "execution_count": 26,
   "metadata": {},
   "outputs": [
    {
     "name": "stdout",
     "output_type": "stream",
     "text": [
      "The file already exists!.  That was a close one.\n"
     ]
    }
   ],
   "source": [
    "try:\n",
    "    fout = open('output_file','xt')\n",
    "    fout.write('Lets overwrite your data')\n",
    "except FileExistsError:\n",
    "    print('The file already exists!.  That was a close one.')\n",
    "\n"
   ]
  },
  {
   "cell_type": "markdown",
   "metadata": {},
   "source": [
    "### Read a file using Read()"
   ]
  },
  {
   "cell_type": "code",
   "execution_count": 29,
   "metadata": {},
   "outputs": [
    {
     "data": {
      "text/plain": [
       "166"
      ]
     },
     "execution_count": 29,
     "metadata": {},
     "output_type": "execute_result"
    }
   ],
   "source": [
    "review = ''\n",
    "fin = open('output_file', 'rt')\n",
    "chunk = 100\n",
    "while True:\n",
    "    fragment = fin.read(chunk)\n",
    "    if not fragment:\n",
    "        break\n",
    "    review += fragment\n",
    "fin.close()\n",
    "len(review)"
   ]
  },
  {
   "cell_type": "markdown",
   "metadata": {},
   "source": [
    "### Read a file using Iterator"
   ]
  },
  {
   "cell_type": "code",
   "execution_count": 30,
   "metadata": {},
   "outputs": [
    {
     "name": "stdout",
     "output_type": "stream",
     "text": [
      "I have a few leave Bluetooth and I'm gonna say this really brings the BOOM.My music is bumping the colors are amazing and it also plays FM radio how amazing is that?!\n"
     ]
    }
   ],
   "source": [
    "review = ''\n",
    "fin = open('review', 'rt' )\n",
    "for line in fin:\n",
    "    print(line)\n",
    "    review += line\n",
    "\n",
    "fin.close()"
   ]
  },
  {
   "cell_type": "markdown",
   "metadata": {},
   "source": [
    "### Closing files with \"with\""
   ]
  },
  {
   "cell_type": "code",
   "execution_count": 31,
   "metadata": {
    "collapsed": true
   },
   "outputs": [],
   "source": [
    "with open('review', 'wt') as fout:\n",
    "    fout.write(review)"
   ]
  },
  {
   "cell_type": "markdown",
   "metadata": {},
   "source": [
    "#### Use seek and tell\n",
    "Python keeps track of where we are in the file during read and write operations. The tell() function returns the current offset from the beginning of the file, in bytes."
   ]
  },
  {
   "cell_type": "code",
   "execution_count": 32,
   "metadata": {},
   "outputs": [
    {
     "data": {
      "text/plain": [
       "0"
      ]
     },
     "execution_count": 32,
     "metadata": {},
     "output_type": "execute_result"
    }
   ],
   "source": [
    "fin = open('review', 'rt')\n",
    "fin.tell()"
   ]
  },
  {
   "cell_type": "markdown",
   "metadata": {},
   "source": [
    "The seek() function lets us jump to another byte offset in the file. This gives us more flexibility in reading that lets us choose an offset of choice and there is no need to read every byte in a file to read the last one:"
   ]
  },
  {
   "cell_type": "code",
   "execution_count": 33,
   "metadata": {},
   "outputs": [
    {
     "data": {
      "text/plain": [
       "\"I have a few leave Bluetooth and I'm gonna say this really brings the BOOM.My music is bumping the colors are amazing and it also plays FM radio how amazing is that?!\""
      ]
     },
     "execution_count": 33,
     "metadata": {},
     "output_type": "execute_result"
    }
   ],
   "source": [
    "fin = open('review', 'rt')\n",
    "fin.read()"
   ]
  },
  {
   "cell_type": "code",
   "execution_count": 34,
   "metadata": {},
   "outputs": [
    {
     "data": {
      "text/plain": [
       "50"
      ]
     },
     "execution_count": 34,
     "metadata": {},
     "output_type": "execute_result"
    }
   ],
   "source": [
    "fin.seek(50) # read from the byte 50"
   ]
  },
  {
   "cell_type": "code",
   "execution_count": 35,
   "metadata": {},
   "outputs": [
    {
     "data": {
      "text/plain": [
       "'s really brings the BOOM.My music is bumping the colors are amazing and it also plays FM radio how amazing is that?!'"
      ]
     },
     "execution_count": 35,
     "metadata": {},
     "output_type": "execute_result"
    }
   ],
   "source": [
    "fin.read()"
   ]
  },
  {
   "cell_type": "code",
   "execution_count": 36,
   "metadata": {},
   "outputs": [
    {
     "data": {
      "text/plain": [
       "'olors are amazing and it also plays FM radio how amazing is that?!'"
      ]
     },
     "execution_count": 36,
     "metadata": {},
     "output_type": "execute_result"
    }
   ],
   "source": [
    "fin.seek(100) # read from the byte 100\n",
    "fin.read()"
   ]
  },
  {
   "cell_type": "markdown",
   "metadata": {
    "collapsed": true
   },
   "source": [
    "#### Using readlines() function to reading file one line at a time."
   ]
  },
  {
   "cell_type": "code",
   "execution_count": 37,
   "metadata": {},
   "outputs": [
    {
     "name": "stdout",
     "output_type": "stream",
     "text": [
      " Volume in drive C has no label.\n",
      " Volume Serial Number is 5889-7B5D\n",
      "\n",
      " Directory of C:\\Users\\vivek\\Documents\\GitHub\\Python-Workshop\\Introducing Python\\Chapter 8\n",
      "\n",
      "08/13/2017  07:18 PM    <DIR>          .\n",
      "08/13/2017  07:18 PM    <DIR>          ..\n",
      "08/13/2017  07:06 PM    <DIR>          .ipynb_checkpoints\n",
      "08/13/2017  07:18 PM            10,129 Data IO.ipynb\n",
      "08/10/2017  06:28 PM           144,031 Data IO.pdf\n",
      "08/10/2017  06:28 PM            57,592 Data IO.synctex.gz\n",
      "08/10/2017  06:28 PM             6,871 Data IO.tex\n",
      "08/13/2017  07:13 PM               166 output_file\n",
      "08/13/2017  07:16 PM               166 review\n",
      "               6 File(s)        218,955 bytes\n",
      "               3 Dir(s)  457,020,493,824 bytes free\n"
     ]
    }
   ],
   "source": [
    "%ls"
   ]
  },
  {
   "cell_type": "code",
   "execution_count": 39,
   "metadata": {
    "collapsed": true
   },
   "outputs": [],
   "source": [
    "fp=open('review')"
   ]
  },
  {
   "cell_type": "code",
   "execution_count": 40,
   "metadata": {
    "collapsed": true
   },
   "outputs": [],
   "source": [
    "data=fp.readlines()"
   ]
  },
  {
   "cell_type": "code",
   "execution_count": 41,
   "metadata": {
    "collapsed": true
   },
   "outputs": [],
   "source": [
    "fp.close()"
   ]
  },
  {
   "cell_type": "code",
   "execution_count": 42,
   "metadata": {},
   "outputs": [
    {
     "data": {
      "text/plain": [
       "\"I have a few leave Bluetooth and I'm gonna say this really brings the BOOM.My music is bumping the colors are amazing and it also plays FM radio how amazing is that?!\""
      ]
     },
     "execution_count": 42,
     "metadata": {},
     "output_type": "execute_result"
    }
   ],
   "source": [
    "data[0]"
   ]
  },
  {
   "cell_type": "code",
   "execution_count": 43,
   "metadata": {},
   "outputs": [
    {
     "ename": "IndexError",
     "evalue": "list index out of range",
     "output_type": "error",
     "traceback": [
      "\u001b[1;31m---------------------------------------------------------------------------\u001b[0m",
      "\u001b[1;31mIndexError\u001b[0m                                Traceback (most recent call last)",
      "\u001b[1;32m<ipython-input-43-c805864c0d75>\u001b[0m in \u001b[0;36m<module>\u001b[1;34m()\u001b[0m\n\u001b[1;32m----> 1\u001b[1;33m \u001b[0mdata\u001b[0m\u001b[1;33m[\u001b[0m\u001b[1;36m1\u001b[0m\u001b[1;33m]\u001b[0m\u001b[1;33m\u001b[0m\u001b[0m\n\u001b[0m",
      "\u001b[1;31mIndexError\u001b[0m: list index out of range"
     ]
    }
   ],
   "source": [
    "data[1]"
   ]
  },
  {
   "cell_type": "markdown",
   "metadata": {},
   "source": [
    "We get above error because the file contains only one line of text"
   ]
  },
  {
   "cell_type": "code",
   "execution_count": 49,
   "metadata": {},
   "outputs": [
    {
     "name": "stdout",
     "output_type": "stream",
     "text": [
      " Volume in drive C has no label.\n",
      " Volume Serial Number is 5889-7B5D\n",
      "\n",
      " Directory of C:\\Users\\vivek\\Documents\\GitHub\\Python-Workshop\\Introducing Python\\Chapter 8\n",
      "\n",
      "08/13/2017  07:23 PM    <DIR>          .\n",
      "08/13/2017  07:23 PM    <DIR>          ..\n",
      "08/13/2017  07:06 PM    <DIR>          .ipynb_checkpoints\n",
      "08/13/2017  07:22 PM            13,973 Data IO.ipynb\n",
      "08/10/2017  06:28 PM           144,031 Data IO.pdf\n",
      "08/10/2017  06:28 PM            57,592 Data IO.synctex.gz\n",
      "08/10/2017  06:28 PM             6,871 Data IO.tex\n",
      "08/13/2017  07:23 PM                33 json.txt\n",
      "08/13/2017  07:13 PM               166 output_file\n",
      "08/13/2017  07:16 PM               166 review\n",
      "               7 File(s)        222,832 bytes\n",
      "               3 Dir(s)  457,020,416,000 bytes free\n"
     ]
    }
   ],
   "source": [
    "%ls"
   ]
  },
  {
   "cell_type": "code",
   "execution_count": 23,
   "metadata": {
    "collapsed": true
   },
   "outputs": [],
   "source": [
    "fp=open('json.txt')"
   ]
  },
  {
   "cell_type": "code",
   "execution_count": 24,
   "metadata": {
    "collapsed": true
   },
   "outputs": [],
   "source": [
    "import json"
   ]
  },
  {
   "cell_type": "code",
   "execution_count": 25,
   "metadata": {},
   "outputs": [],
   "source": [
    "data=json.load(fp)"
   ]
  },
  {
   "cell_type": "code",
   "execution_count": 26,
   "metadata": {},
   "outputs": [
    {
     "data": {
      "text/plain": [
       "{'BOB': {'age': '21', 'country': 'USA', 'state': 'FL'}}"
      ]
     },
     "execution_count": 26,
     "metadata": {},
     "output_type": "execute_result"
    }
   ],
   "source": [
    "data"
   ]
  },
  {
   "cell_type": "code",
   "execution_count": 27,
   "metadata": {},
   "outputs": [
    {
     "data": {
      "text/plain": [
       "{'BOB': {'age': '21', 'country': 'USA', 'state': 'FL'}}"
      ]
     },
     "execution_count": 27,
     "metadata": {},
     "output_type": "execute_result"
    }
   ],
   "source": [
    "# %load json.txt\n",
    "{\"BOB\":{\"age\":\"21\",\"state\":\"FL\",\"country\":\"USA\"}}"
   ]
  },
  {
   "cell_type": "code",
   "execution_count": 28,
   "metadata": {
    "collapsed": true
   },
   "outputs": [],
   "source": [
    "# Hint to class exercise"
   ]
  },
  {
   "cell_type": "code",
   "execution_count": 35,
   "metadata": {
    "collapsed": true
   },
   "outputs": [],
   "source": [
    "fp=open('1.json')"
   ]
  },
  {
   "cell_type": "code",
   "execution_count": 36,
   "metadata": {
    "collapsed": true
   },
   "outputs": [],
   "source": [
    "data=fp.readlines()"
   ]
  },
  {
   "cell_type": "code",
   "execution_count": 37,
   "metadata": {
    "collapsed": true
   },
   "outputs": [],
   "source": [
    "fp.close()"
   ]
  },
  {
   "cell_type": "code",
   "execution_count": 38,
   "metadata": {},
   "outputs": [
    {
     "data": {
      "text/plain": [
       "'{\"created_at\":\"Wed Jun 21 14:45:37 +0000 2017\",\"id\":877537999998898177,\"id_str\":\"877537999998898177\",\"text\":\"Long stretch of Gulf Coast eyes Tropical Storm Cindy - Los Angeles Times https:\\\\/\\\\/t.co\\\\/1Q5B20TZn5 https:\\\\/\\\\/t.co\\\\/sO2SuFui9D\",\"display_text_range\":[0,96],\"source\":\"\\\\u003ca href=\\\\\"https:\\\\/\\\\/sites.google.com\\\\/site\\\\/tweentwitterclient\\\\/\\\\\" rel=\\\\\"nofollow\\\\\"\\\\u003eTween\\\\u003c\\\\/a\\\\u003e\",\"truncated\":false,\"in_reply_to_status_id\":null,\"in_reply_to_status_id_str\":null,\"in_reply_to_user_id\":null,\"in_reply_to_user_id_str\":null,\"in_reply_to_screen_name\":null,\"user\":{\"id\":928916084,\"id_str\":\"928916084\",\"name\":\"US Press World\",\"screen_name\":\"USPressWorld\",\"location\":\"Etats-Unis\",\"url\":null,\"description\":\"All the US local and national news, #realtime for you. Don\\'t miss anything, follow us!\",\"protected\":false,\"verified\":false,\"followers_count\":12011,\"friends_count\":12416,\"listed_count\":108,\"favourites_count\":675,\"statuses_count\":123510,\"created_at\":\"Tue Nov 06 03:23:50 +0000 2012\",\"utc_offset\":-25200,\"time_zone\":\"Pacific Time (US & Canada)\",\"geo_enabled\":false,\"lang\":\"en\",\"contributors_enabled\":false,\"is_translator\":false,\"profile_background_color\":\"000000\",\"profile_background_image_url\":\"http:\\\\/\\\\/abs.twimg.com\\\\/images\\\\/themes\\\\/theme1\\\\/bg.png\",\"profile_background_image_url_https\":\"https:\\\\/\\\\/abs.twimg.com\\\\/images\\\\/themes\\\\/theme1\\\\/bg.png\",\"profile_background_tile\":false,\"profile_link_color\":\"3B94D9\",\"profile_sidebar_border_color\":\"000000\",\"profile_sidebar_fill_color\":\"000000\",\"profile_text_color\":\"000000\",\"profile_use_background_image\":false,\"profile_image_url\":\"http:\\\\/\\\\/pbs.twimg.com\\\\/profile_images\\\\/692071485813440512\\\\/MxuoxAoC_normal.png\",\"profile_image_url_https\":\"https:\\\\/\\\\/pbs.twimg.com\\\\/profile_images\\\\/692071485813440512\\\\/MxuoxAoC_normal.png\",\"profile_banner_url\":\"https:\\\\/\\\\/pbs.twimg.com\\\\/profile_banners\\\\/928916084\\\\/1453837665\",\"default_profile\":false,\"default_profile_image\":false,\"following\":null,\"follow_request_sent\":null,\"notifications\":null},\"geo\":null,\"coordinates\":null,\"place\":null,\"contributors\":null,\"is_quote_status\":false,\"retweet_count\":0,\"favorite_count\":0,\"entities\":{\"hashtags\":[],\"urls\":[{\"url\":\"https:\\\\/\\\\/t.co\\\\/1Q5B20TZn5\",\"expanded_url\":\"https:\\\\/\\\\/goo.gl\\\\/TSgn9Z\",\"display_url\":\"goo.gl\\\\/TSgn9Z\",\"indices\":[73,96]}],\"user_mentions\":[],\"symbols\":[],\"media\":[{\"id\":877537997792702464,\"id_str\":\"877537997792702464\",\"indices\":[97,120],\"media_url\":\"http:\\\\/\\\\/pbs.twimg.com\\\\/media\\\\/DC2kKNtXcAA1WC4.jpg\",\"media_url_https\":\"https:\\\\/\\\\/pbs.twimg.com\\\\/media\\\\/DC2kKNtXcAA1WC4.jpg\",\"url\":\"https:\\\\/\\\\/t.co\\\\/sO2SuFui9D\",\"display_url\":\"pic.twitter.com\\\\/sO2SuFui9D\",\"expanded_url\":\"https:\\\\/\\\\/twitter.com\\\\/USPressWorld\\\\/status\\\\/877537999998898177\\\\/photo\\\\/1\",\"type\":\"photo\",\"sizes\":{\"large\":{\"w\":660,\"h\":484,\"resize\":\"fit\"},\"thumb\":{\"w\":150,\"h\":150,\"resize\":\"crop\"},\"medium\":{\"w\":660,\"h\":484,\"resize\":\"fit\"},\"small\":{\"w\":660,\"h\":484,\"resize\":\"fit\"}}}]},\"extended_entities\":{\"media\":[{\"id\":877537997792702464,\"id_str\":\"877537997792702464\",\"indices\":[97,120],\"media_url\":\"http:\\\\/\\\\/pbs.twimg.com\\\\/media\\\\/DC2kKNtXcAA1WC4.jpg\",\"media_url_https\":\"https:\\\\/\\\\/pbs.twimg.com\\\\/media\\\\/DC2kKNtXcAA1WC4.jpg\",\"url\":\"https:\\\\/\\\\/t.co\\\\/sO2SuFui9D\",\"display_url\":\"pic.twitter.com\\\\/sO2SuFui9D\",\"expanded_url\":\"https:\\\\/\\\\/twitter.com\\\\/USPressWorld\\\\/status\\\\/877537999998898177\\\\/photo\\\\/1\",\"type\":\"photo\",\"sizes\":{\"large\":{\"w\":660,\"h\":484,\"resize\":\"fit\"},\"thumb\":{\"w\":150,\"h\":150,\"resize\":\"crop\"},\"medium\":{\"w\":660,\"h\":484,\"resize\":\"fit\"},\"small\":{\"w\":660,\"h\":484,\"resize\":\"fit\"}}}]},\"favorited\":false,\"retweeted\":false,\"possibly_sensitive\":false,\"filter_level\":\"low\",\"lang\":\"en\",\"timestamp_ms\":\"1498056337724\"}\\n'"
      ]
     },
     "execution_count": 38,
     "metadata": {},
     "output_type": "execute_result"
    }
   ],
   "source": [
    "data[0]"
   ]
  },
  {
   "cell_type": "code",
   "execution_count": 39,
   "metadata": {},
   "outputs": [
    {
     "data": {
      "text/plain": [
       "'\\n'"
      ]
     },
     "execution_count": 39,
     "metadata": {},
     "output_type": "execute_result"
    }
   ],
   "source": [
    "data[1]"
   ]
  },
  {
   "cell_type": "code",
   "execution_count": 40,
   "metadata": {},
   "outputs": [
    {
     "data": {
      "text/plain": [
       "'\\n'"
      ]
     },
     "execution_count": 40,
     "metadata": {},
     "output_type": "execute_result"
    }
   ],
   "source": [
    "data[2]"
   ]
  },
  {
   "cell_type": "code",
   "execution_count": 41,
   "metadata": {},
   "outputs": [
    {
     "data": {
      "text/plain": [
       "'{\"created_at\":\"Wed Jun 21 14:45:38 +0000 2017\",\"id\":877538002460979200,\"id_str\":\"877538002460979200\",\"text\":\"RT @PrimerImpacto: Avance de la tormenta Cindy pone en alerta a poblaciones costeras del golfo de M\\\\u00e9xico https:\\\\/\\\\/t.co\\\\/CwDt5D5XcE https:\\\\/\\\\/t.\\\\u2026\",\"source\":\"\\\\u003ca href=\\\\\"http:\\\\/\\\\/twitter.com\\\\/download\\\\/android\\\\\" rel=\\\\\"nofollow\\\\\"\\\\u003eTwitter for Android\\\\u003c\\\\/a\\\\u003e\",\"truncated\":false,\"in_reply_to_status_id\":null,\"in_reply_to_status_id_str\":null,\"in_reply_to_user_id\":null,\"in_reply_to_user_id_str\":null,\"in_reply_to_screen_name\":null,\"user\":{\"id\":3740909772,\"id_str\":\"3740909772\",\"name\":\"Tuno A Alvarenga\",\"screen_name\":\"a_tuno\",\"location\":null,\"url\":null,\"description\":null,\"protected\":false,\"verified\":false,\"followers_count\":566,\"friends_count\":1424,\"listed_count\":263,\"favourites_count\":304,\"statuses_count\":141279,\"created_at\":\"Wed Sep 30 21:38:59 +0000 2015\",\"utc_offset\":null,\"time_zone\":null,\"geo_enabled\":true,\"lang\":\"es\",\"contributors_enabled\":false,\"is_translator\":false,\"profile_background_color\":\"C0DEED\",\"profile_background_image_url\":\"http:\\\\/\\\\/abs.twimg.com\\\\/images\\\\/themes\\\\/theme1\\\\/bg.png\",\"profile_background_image_url_https\":\"https:\\\\/\\\\/abs.twimg.com\\\\/images\\\\/themes\\\\/theme1\\\\/bg.png\",\"profile_background_tile\":false,\"profile_link_color\":\"1DA1F2\",\"profile_sidebar_border_color\":\"C0DEED\",\"profile_sidebar_fill_color\":\"DDEEF6\",\"profile_text_color\":\"333333\",\"profile_use_background_image\":true,\"profile_image_url\":\"http:\\\\/\\\\/pbs.twimg.com\\\\/profile_images\\\\/666348097807630336\\\\/rpEpTnZ__normal.jpg\",\"profile_image_url_https\":\"https:\\\\/\\\\/pbs.twimg.com\\\\/profile_images\\\\/666348097807630336\\\\/rpEpTnZ__normal.jpg\",\"profile_banner_url\":\"https:\\\\/\\\\/pbs.twimg.com\\\\/profile_banners\\\\/3740909772\\\\/1447704740\",\"default_profile\":true,\"default_profile_image\":false,\"following\":null,\"follow_request_sent\":null,\"notifications\":null},\"geo\":null,\"coordinates\":null,\"place\":null,\"contributors\":null,\"retweeted_status\":{\"created_at\":\"Wed Jun 21 14:20:08 +0000 2017\",\"id\":877531584961949699,\"id_str\":\"877531584961949699\",\"text\":\"Avance de la tormenta Cindy pone en alerta a poblaciones costeras del golfo de M\\\\u00e9xico https:\\\\/\\\\/t.co\\\\/CwDt5D5XcE https:\\\\/\\\\/t.co\\\\/ycFBVPJGnK\",\"display_text_range\":[0,109],\"source\":\"\\\\u003ca href=\\\\\"http:\\\\/\\\\/www.hootsuite.com\\\\\" rel=\\\\\"nofollow\\\\\"\\\\u003eHootsuite\\\\u003c\\\\/a\\\\u003e\",\"truncated\":false,\"in_reply_to_status_id\":null,\"in_reply_to_status_id_str\":null,\"in_reply_to_user_id\":null,\"in_reply_to_user_id_str\":null,\"in_reply_to_screen_name\":null,\"user\":{\"id\":119573510,\"id_str\":\"119573510\",\"name\":\"Primer Impacto\",\"screen_name\":\"PrimerImpacto\",\"location\":null,\"url\":\"http:\\\\/\\\\/www.primerimpacto.com\",\"description\":\"Las noticias e im\\\\u00e1genes m\\\\u00e1s impactantes del momento las presentamos de lunes a viernes 5\\\\/4c @Univision\",\"protected\":false,\"verified\":true,\"followers_count\":1057262,\"friends_count\":994,\"listed_count\":2842,\"favourites_count\":711,\"statuses_count\":122362,\"created_at\":\"Thu Mar 04 01:43:55 +0000 2010\",\"utc_offset\":-14400,\"time_zone\":\"Eastern Time (US & Canada)\",\"geo_enabled\":true,\"lang\":\"en\",\"contributors_enabled\":false,\"is_translator\":false,\"profile_background_color\":\"EBEBEB\",\"profile_background_image_url\":\"http:\\\\/\\\\/pbs.twimg.com\\\\/profile_background_images\\\\/378800000091384489\\\\/010d6b3bd10a512ce1a0d1e1defa2f20.png\",\"profile_background_image_url_https\":\"https:\\\\/\\\\/pbs.twimg.com\\\\/profile_background_images\\\\/378800000091384489\\\\/010d6b3bd10a512ce1a0d1e1defa2f20.png\",\"profile_background_tile\":true,\"profile_link_color\":\"990000\",\"profile_sidebar_border_color\":\"FFFFFF\",\"profile_sidebar_fill_color\":\"F3F3F3\",\"profile_text_color\":\"333333\",\"profile_use_background_image\":true,\"profile_image_url\":\"http:\\\\/\\\\/pbs.twimg.com\\\\/profile_images\\\\/847159698201686018\\\\/lage0MHe_normal.jpg\",\"profile_image_url_https\":\"https:\\\\/\\\\/pbs.twimg.com\\\\/profile_images\\\\/847159698201686018\\\\/lage0MHe_normal.jpg\",\"profile_banner_url\":\"https:\\\\/\\\\/pbs.twimg.com\\\\/profile_banners\\\\/119573510\\\\/1495633426\",\"default_profile\":false,\"default_profile_image\":false,\"following\":null,\"follow_request_sent\":null,\"notifications\":null},\"geo\":null,\"coordinates\":null,\"place\":null,\"contributors\":null,\"is_quote_status\":false,\"retweet_count\":2,\"favorite_count\":2,\"entities\":{\"hashtags\":[],\"urls\":[{\"url\":\"https:\\\\/\\\\/t.co\\\\/CwDt5D5XcE\",\"expanded_url\":\"http:\\\\/\\\\/uni.vi\\\\/1vFv30cMbig\",\"display_url\":\"uni.vi\\\\/1vFv30cMbig\",\"indices\":[86,109]}],\"user_mentions\":[],\"symbols\":[],\"media\":[{\"id\":877531582780887041,\"id_str\":\"877531582780887041\",\"indices\":[110,133],\"media_url\":\"http:\\\\/\\\\/pbs.twimg.com\\\\/media\\\\/DC2eUz7XUAEDsR8.jpg\",\"media_url_https\":\"https:\\\\/\\\\/pbs.twimg.com\\\\/media\\\\/DC2eUz7XUAEDsR8.jpg\",\"url\":\"https:\\\\/\\\\/t.co\\\\/ycFBVPJGnK\",\"display_url\":\"pic.twitter.com\\\\/ycFBVPJGnK\",\"expanded_url\":\"https:\\\\/\\\\/twitter.com\\\\/PrimerImpacto\\\\/status\\\\/877531584961949699\\\\/photo\\\\/1\",\"type\":\"photo\",\"sizes\":{\"thumb\":{\"w\":150,\"h\":150,\"resize\":\"crop\"},\"medium\":{\"w\":519,\"h\":300,\"resize\":\"fit\"},\"small\":{\"w\":519,\"h\":300,\"resize\":\"fit\"},\"large\":{\"w\":519,\"h\":300,\"resize\":\"fit\"}}}]},\"extended_entities\":{\"media\":[{\"id\":877531582780887041,\"id_str\":\"877531582780887041\",\"indices\":[110,133],\"media_url\":\"http:\\\\/\\\\/pbs.twimg.com\\\\/media\\\\/DC2eUz7XUAEDsR8.jpg\",\"media_url_https\":\"https:\\\\/\\\\/pbs.twimg.com\\\\/media\\\\/DC2eUz7XUAEDsR8.jpg\",\"url\":\"https:\\\\/\\\\/t.co\\\\/ycFBVPJGnK\",\"display_url\":\"pic.twitter.com\\\\/ycFBVPJGnK\",\"expanded_url\":\"https:\\\\/\\\\/twitter.com\\\\/PrimerImpacto\\\\/status\\\\/877531584961949699\\\\/photo\\\\/1\",\"type\":\"photo\",\"sizes\":{\"thumb\":{\"w\":150,\"h\":150,\"resize\":\"crop\"},\"medium\":{\"w\":519,\"h\":300,\"resize\":\"fit\"},\"small\":{\"w\":519,\"h\":300,\"resize\":\"fit\"},\"large\":{\"w\":519,\"h\":300,\"resize\":\"fit\"}}}]},\"favorited\":false,\"retweeted\":false,\"possibly_sensitive\":false,\"filter_level\":\"low\",\"lang\":\"es\"},\"is_quote_status\":false,\"retweet_count\":0,\"favorite_count\":0,\"entities\":{\"hashtags\":[],\"urls\":[{\"url\":\"https:\\\\/\\\\/t.co\\\\/CwDt5D5XcE\",\"expanded_url\":\"http:\\\\/\\\\/uni.vi\\\\/1vFv30cMbig\",\"display_url\":\"uni.vi\\\\/1vFv30cMbig\",\"indices\":[105,128]}],\"user_mentions\":[{\"screen_name\":\"PrimerImpacto\",\"name\":\"Primer Impacto\",\"id\":119573510,\"id_str\":\"119573510\",\"indices\":[3,17]}],\"symbols\":[]},\"favorited\":false,\"retweeted\":false,\"possibly_sensitive\":false,\"filter_level\":\"low\",\"lang\":\"es\",\"timestamp_ms\":\"1498056338311\"}\\n'"
      ]
     },
     "execution_count": 41,
     "metadata": {},
     "output_type": "execute_result"
    }
   ],
   "source": [
    "data[3]"
   ]
  },
  {
   "cell_type": "code",
   "execution_count": 12,
   "metadata": {},
   "outputs": [
    {
     "data": {
      "text/plain": [
       "6178"
      ]
     },
     "execution_count": 12,
     "metadata": {},
     "output_type": "execute_result"
    }
   ],
   "source": [
    "len(data[3])"
   ]
  },
  {
   "cell_type": "code",
   "execution_count": 13,
   "metadata": {},
   "outputs": [
    {
     "data": {
      "text/plain": [
       "1"
      ]
     },
     "execution_count": 13,
     "metadata": {},
     "output_type": "execute_result"
    }
   ],
   "source": [
    "len(data[2])"
   ]
  },
  {
   "cell_type": "code",
   "execution_count": 15,
   "metadata": {},
   "outputs": [
    {
     "name": "stdout",
     "output_type": "stream",
     "text": [
      "{\"created_at\":\"Wed Jun 21 14:45:37 +0000 2017\",\"id\":877537999998898177,\"id_str\":\"877537999998898177\",\"text\":\"Long stretch of Gulf Coast eyes Tropical Storm Cindy - Los Angeles Times https:\\/\\/t.co\\/1Q5B20TZn5 https:\\/\\/t.co\\/sO2SuFui9D\",\"display_text_range\":[0,96],\"source\":\"\\u003ca href=\\\"https:\\/\\/sites.google.com\\/site\\/tweentwitterclient\\/\\\" rel=\\\"nofollow\\\"\\u003eTween\\u003c\\/a\\u003e\",\"truncated\":false,\"in_reply_to_status_id\":null,\"in_reply_to_status_id_str\":null,\"in_reply_to_user_id\":null,\"in_reply_to_user_id_str\":null,\"in_reply_to_screen_name\":null,\"user\":{\"id\":928916084,\"id_str\":\"928916084\",\"name\":\"US Press World\",\"screen_name\":\"USPressWorld\",\"location\":\"Etats-Unis\",\"url\":null,\"description\":\"All the US local and national news, #realtime for you. Don't miss anything, follow us!\",\"protected\":false,\"verified\":false,\"followers_count\":12011,\"friends_count\":12416,\"listed_count\":108,\"favourites_count\":675,\"statuses_count\":123510,\"created_at\":\"Tue Nov 06 03:23:50 +0000 2012\",\"utc_offset\":-25200,\"time_zone\":\"Pacific Time (US & Canada)\",\"geo_enabled\":false,\"lang\":\"en\",\"contributors_enabled\":false,\"is_translator\":false,\"profile_background_color\":\"000000\",\"profile_background_image_url\":\"http:\\/\\/abs.twimg.com\\/images\\/themes\\/theme1\\/bg.png\",\"profile_background_image_url_https\":\"https:\\/\\/abs.twimg.com\\/images\\/themes\\/theme1\\/bg.png\",\"profile_background_tile\":false,\"profile_link_color\":\"3B94D9\",\"profile_sidebar_border_color\":\"000000\",\"profile_sidebar_fill_color\":\"000000\",\"profile_text_color\":\"000000\",\"profile_use_background_image\":false,\"profile_image_url\":\"http:\\/\\/pbs.twimg.com\\/profile_images\\/692071485813440512\\/MxuoxAoC_normal.png\",\"profile_image_url_https\":\"https:\\/\\/pbs.twimg.com\\/profile_images\\/692071485813440512\\/MxuoxAoC_normal.png\",\"profile_banner_url\":\"https:\\/\\/pbs.twimg.com\\/profile_banners\\/928916084\\/1453837665\",\"default_profile\":false,\"default_profile_image\":false,\"following\":null,\"follow_request_sent\":null,\"notifications\":null},\"geo\":null,\"coordinates\":null,\"place\":null,\"contributors\":null,\"is_quote_status\":false,\"retweet_count\":0,\"favorite_count\":0,\"entities\":{\"hashtags\":[],\"urls\":[{\"url\":\"https:\\/\\/t.co\\/1Q5B20TZn5\",\"expanded_url\":\"https:\\/\\/goo.gl\\/TSgn9Z\",\"display_url\":\"goo.gl\\/TSgn9Z\",\"indices\":[73,96]}],\"user_mentions\":[],\"symbols\":[],\"media\":[{\"id\":877537997792702464,\"id_str\":\"877537997792702464\",\"indices\":[97,120],\"media_url\":\"http:\\/\\/pbs.twimg.com\\/media\\/DC2kKNtXcAA1WC4.jpg\",\"media_url_https\":\"https:\\/\\/pbs.twimg.com\\/media\\/DC2kKNtXcAA1WC4.jpg\",\"url\":\"https:\\/\\/t.co\\/sO2SuFui9D\",\"display_url\":\"pic.twitter.com\\/sO2SuFui9D\",\"expanded_url\":\"https:\\/\\/twitter.com\\/USPressWorld\\/status\\/877537999998898177\\/photo\\/1\",\"type\":\"photo\",\"sizes\":{\"large\":{\"w\":660,\"h\":484,\"resize\":\"fit\"},\"thumb\":{\"w\":150,\"h\":150,\"resize\":\"crop\"},\"medium\":{\"w\":660,\"h\":484,\"resize\":\"fit\"},\"small\":{\"w\":660,\"h\":484,\"resize\":\"fit\"}}}]},\"extended_entities\":{\"media\":[{\"id\":877537997792702464,\"id_str\":\"877537997792702464\",\"indices\":[97,120],\"media_url\":\"http:\\/\\/pbs.twimg.com\\/media\\/DC2kKNtXcAA1WC4.jpg\",\"media_url_https\":\"https:\\/\\/pbs.twimg.com\\/media\\/DC2kKNtXcAA1WC4.jpg\",\"url\":\"https:\\/\\/t.co\\/sO2SuFui9D\",\"display_url\":\"pic.twitter.com\\/sO2SuFui9D\",\"expanded_url\":\"https:\\/\\/twitter.com\\/USPressWorld\\/status\\/877537999998898177\\/photo\\/1\",\"type\":\"photo\",\"sizes\":{\"large\":{\"w\":660,\"h\":484,\"resize\":\"fit\"},\"thumb\":{\"w\":150,\"h\":150,\"resize\":\"crop\"},\"medium\":{\"w\":660,\"h\":484,\"resize\":\"fit\"},\"small\":{\"w\":660,\"h\":484,\"resize\":\"fit\"}}}]},\"favorited\":false,\"retweeted\":false,\"possibly_sensitive\":false,\"filter_level\":\"low\",\"lang\":\"en\",\"timestamp_ms\":\"1498056337724\"}\n",
      "\n",
      "{\"created_at\":\"Wed Jun 21 14:45:38 +0000 2017\",\"id\":877538002460979200,\"id_str\":\"877538002460979200\",\"text\":\"RT @PrimerImpacto: Avance de la tormenta Cindy pone en alerta a poblaciones costeras del golfo de M\\u00e9xico https:\\/\\/t.co\\/CwDt5D5XcE https:\\/\\/t.\\u2026\",\"source\":\"\\u003ca href=\\\"http:\\/\\/twitter.com\\/download\\/android\\\" rel=\\\"nofollow\\\"\\u003eTwitter for Android\\u003c\\/a\\u003e\",\"truncated\":false,\"in_reply_to_status_id\":null,\"in_reply_to_status_id_str\":null,\"in_reply_to_user_id\":null,\"in_reply_to_user_id_str\":null,\"in_reply_to_screen_name\":null,\"user\":{\"id\":3740909772,\"id_str\":\"3740909772\",\"name\":\"Tuno A Alvarenga\",\"screen_name\":\"a_tuno\",\"location\":null,\"url\":null,\"description\":null,\"protected\":false,\"verified\":false,\"followers_count\":566,\"friends_count\":1424,\"listed_count\":263,\"favourites_count\":304,\"statuses_count\":141279,\"created_at\":\"Wed Sep 30 21:38:59 +0000 2015\",\"utc_offset\":null,\"time_zone\":null,\"geo_enabled\":true,\"lang\":\"es\",\"contributors_enabled\":false,\"is_translator\":false,\"profile_background_color\":\"C0DEED\",\"profile_background_image_url\":\"http:\\/\\/abs.twimg.com\\/images\\/themes\\/theme1\\/bg.png\",\"profile_background_image_url_https\":\"https:\\/\\/abs.twimg.com\\/images\\/themes\\/theme1\\/bg.png\",\"profile_background_tile\":false,\"profile_link_color\":\"1DA1F2\",\"profile_sidebar_border_color\":\"C0DEED\",\"profile_sidebar_fill_color\":\"DDEEF6\",\"profile_text_color\":\"333333\",\"profile_use_background_image\":true,\"profile_image_url\":\"http:\\/\\/pbs.twimg.com\\/profile_images\\/666348097807630336\\/rpEpTnZ__normal.jpg\",\"profile_image_url_https\":\"https:\\/\\/pbs.twimg.com\\/profile_images\\/666348097807630336\\/rpEpTnZ__normal.jpg\",\"profile_banner_url\":\"https:\\/\\/pbs.twimg.com\\/profile_banners\\/3740909772\\/1447704740\",\"default_profile\":true,\"default_profile_image\":false,\"following\":null,\"follow_request_sent\":null,\"notifications\":null},\"geo\":null,\"coordinates\":null,\"place\":null,\"contributors\":null,\"retweeted_status\":{\"created_at\":\"Wed Jun 21 14:20:08 +0000 2017\",\"id\":877531584961949699,\"id_str\":\"877531584961949699\",\"text\":\"Avance de la tormenta Cindy pone en alerta a poblaciones costeras del golfo de M\\u00e9xico https:\\/\\/t.co\\/CwDt5D5XcE https:\\/\\/t.co\\/ycFBVPJGnK\",\"display_text_range\":[0,109],\"source\":\"\\u003ca href=\\\"http:\\/\\/www.hootsuite.com\\\" rel=\\\"nofollow\\\"\\u003eHootsuite\\u003c\\/a\\u003e\",\"truncated\":false,\"in_reply_to_status_id\":null,\"in_reply_to_status_id_str\":null,\"in_reply_to_user_id\":null,\"in_reply_to_user_id_str\":null,\"in_reply_to_screen_name\":null,\"user\":{\"id\":119573510,\"id_str\":\"119573510\",\"name\":\"Primer Impacto\",\"screen_name\":\"PrimerImpacto\",\"location\":null,\"url\":\"http:\\/\\/www.primerimpacto.com\",\"description\":\"Las noticias e im\\u00e1genes m\\u00e1s impactantes del momento las presentamos de lunes a viernes 5\\/4c @Univision\",\"protected\":false,\"verified\":true,\"followers_count\":1057262,\"friends_count\":994,\"listed_count\":2842,\"favourites_count\":711,\"statuses_count\":122362,\"created_at\":\"Thu Mar 04 01:43:55 +0000 2010\",\"utc_offset\":-14400,\"time_zone\":\"Eastern Time (US & Canada)\",\"geo_enabled\":true,\"lang\":\"en\",\"contributors_enabled\":false,\"is_translator\":false,\"profile_background_color\":\"EBEBEB\",\"profile_background_image_url\":\"http:\\/\\/pbs.twimg.com\\/profile_background_images\\/378800000091384489\\/010d6b3bd10a512ce1a0d1e1defa2f20.png\",\"profile_background_image_url_https\":\"https:\\/\\/pbs.twimg.com\\/profile_background_images\\/378800000091384489\\/010d6b3bd10a512ce1a0d1e1defa2f20.png\",\"profile_background_tile\":true,\"profile_link_color\":\"990000\",\"profile_sidebar_border_color\":\"FFFFFF\",\"profile_sidebar_fill_color\":\"F3F3F3\",\"profile_text_color\":\"333333\",\"profile_use_background_image\":true,\"profile_image_url\":\"http:\\/\\/pbs.twimg.com\\/profile_images\\/847159698201686018\\/lage0MHe_normal.jpg\",\"profile_image_url_https\":\"https:\\/\\/pbs.twimg.com\\/profile_images\\/847159698201686018\\/lage0MHe_normal.jpg\",\"profile_banner_url\":\"https:\\/\\/pbs.twimg.com\\/profile_banners\\/119573510\\/1495633426\",\"default_profile\":false,\"default_profile_image\":false,\"following\":null,\"follow_request_sent\":null,\"notifications\":null},\"geo\":null,\"coordinates\":null,\"place\":null,\"contributors\":null,\"is_quote_status\":false,\"retweet_count\":2,\"favorite_count\":2,\"entities\":{\"hashtags\":[],\"urls\":[{\"url\":\"https:\\/\\/t.co\\/CwDt5D5XcE\",\"expanded_url\":\"http:\\/\\/uni.vi\\/1vFv30cMbig\",\"display_url\":\"uni.vi\\/1vFv30cMbig\",\"indices\":[86,109]}],\"user_mentions\":[],\"symbols\":[],\"media\":[{\"id\":877531582780887041,\"id_str\":\"877531582780887041\",\"indices\":[110,133],\"media_url\":\"http:\\/\\/pbs.twimg.com\\/media\\/DC2eUz7XUAEDsR8.jpg\",\"media_url_https\":\"https:\\/\\/pbs.twimg.com\\/media\\/DC2eUz7XUAEDsR8.jpg\",\"url\":\"https:\\/\\/t.co\\/ycFBVPJGnK\",\"display_url\":\"pic.twitter.com\\/ycFBVPJGnK\",\"expanded_url\":\"https:\\/\\/twitter.com\\/PrimerImpacto\\/status\\/877531584961949699\\/photo\\/1\",\"type\":\"photo\",\"sizes\":{\"thumb\":{\"w\":150,\"h\":150,\"resize\":\"crop\"},\"medium\":{\"w\":519,\"h\":300,\"resize\":\"fit\"},\"small\":{\"w\":519,\"h\":300,\"resize\":\"fit\"},\"large\":{\"w\":519,\"h\":300,\"resize\":\"fit\"}}}]},\"extended_entities\":{\"media\":[{\"id\":877531582780887041,\"id_str\":\"877531582780887041\",\"indices\":[110,133],\"media_url\":\"http:\\/\\/pbs.twimg.com\\/media\\/DC2eUz7XUAEDsR8.jpg\",\"media_url_https\":\"https:\\/\\/pbs.twimg.com\\/media\\/DC2eUz7XUAEDsR8.jpg\",\"url\":\"https:\\/\\/t.co\\/ycFBVPJGnK\",\"display_url\":\"pic.twitter.com\\/ycFBVPJGnK\",\"expanded_url\":\"https:\\/\\/twitter.com\\/PrimerImpacto\\/status\\/877531584961949699\\/photo\\/1\",\"type\":\"photo\",\"sizes\":{\"thumb\":{\"w\":150,\"h\":150,\"resize\":\"crop\"},\"medium\":{\"w\":519,\"h\":300,\"resize\":\"fit\"},\"small\":{\"w\":519,\"h\":300,\"resize\":\"fit\"},\"large\":{\"w\":519,\"h\":300,\"resize\":\"fit\"}}}]},\"favorited\":false,\"retweeted\":false,\"possibly_sensitive\":false,\"filter_level\":\"low\",\"lang\":\"es\"},\"is_quote_status\":false,\"retweet_count\":0,\"favorite_count\":0,\"entities\":{\"hashtags\":[],\"urls\":[{\"url\":\"https:\\/\\/t.co\\/CwDt5D5XcE\",\"expanded_url\":\"http:\\/\\/uni.vi\\/1vFv30cMbig\",\"display_url\":\"uni.vi\\/1vFv30cMbig\",\"indices\":[105,128]}],\"user_mentions\":[{\"screen_name\":\"PrimerImpacto\",\"name\":\"Primer Impacto\",\"id\":119573510,\"id_str\":\"119573510\",\"indices\":[3,17]}],\"symbols\":[]},\"favorited\":false,\"retweeted\":false,\"possibly_sensitive\":false,\"filter_level\":\"low\",\"lang\":\"es\",\"timestamp_ms\":\"1498056338311\"}\n",
      "\n",
      "{\"created_at\":\"Wed Jun 21 14:45:39 +0000 2017\",\"id\":877538007800324096,\"id_str\":\"877538007800324096\",\"text\":\"Cindy Taylor is trending https:\\/\\/t.co\\/tJvMowFZ3n\",\"display_text_range\":[0,24],\"source\":\"\\u003ca href=\\\"http:\\/\\/twitter.com\\\" rel=\\\"nofollow\\\"\\u003eTwitter Web Client\\u003c\\/a\\u003e\",\"truncated\":false,\"in_reply_to_status_id\":null,\"in_reply_to_status_id_str\":null,\"in_reply_to_user_id\":null,\"in_reply_to_user_id_str\":null,\"in_reply_to_screen_name\":null,\"user\":{\"id\":1229770117,\"id_str\":\"1229770117\",\"name\":\"Global Trending Map\",\"screen_name\":\"TheTrendingMap\",\"location\":null,\"url\":null,\"description\":\"We track what's trending in the multiverse\",\"protected\":false,\"verified\":false,\"followers_count\":30031,\"friends_count\":311,\"listed_count\":3,\"favourites_count\":243,\"statuses_count\":799,\"created_at\":\"Fri Mar 01 12:54:31 +0000 2013\",\"utc_offset\":-25200,\"time_zone\":\"Pacific Time (US & Canada)\",\"geo_enabled\":false,\"lang\":\"en\",\"contributors_enabled\":false,\"is_translator\":false,\"profile_background_color\":\"C0DEED\",\"profile_background_image_url\":\"http:\\/\\/pbs.twimg.com\\/profile_background_images\\/692270769611657217\\/0fBXNUHx.jpg\",\"profile_background_image_url_https\":\"https:\\/\\/pbs.twimg.com\\/profile_background_images\\/692270769611657217\\/0fBXNUHx.jpg\",\"profile_background_tile\":true,\"profile_link_color\":\"0084B4\",\"profile_sidebar_border_color\":\"FFFFFF\",\"profile_sidebar_fill_color\":\"DDEEF6\",\"profile_text_color\":\"333333\",\"profile_use_background_image\":true,\"profile_image_url\":\"http:\\/\\/pbs.twimg.com\\/profile_images\\/692273777405620224\\/ShdsM19L_normal.jpg\",\"profile_image_url_https\":\"https:\\/\\/pbs.twimg.com\\/profile_images\\/692273777405620224\\/ShdsM19L_normal.jpg\",\"profile_banner_url\":\"https:\\/\\/pbs.twimg.com\\/profile_banners\\/1229770117\\/1453885028\",\"default_profile\":false,\"default_profile_image\":false,\"following\":null,\"follow_request_sent\":null,\"notifications\":null},\"geo\":null,\"coordinates\":null,\"place\":null,\"contributors\":null,\"quoted_status_id\":877536481480454146,\"quoted_status_id_str\":\"877536481480454146\",\"quoted_status\":{\"created_at\":\"Wed Jun 21 14:39:35 +0000 2017\",\"id\":877536481480454146,\"id_str\":\"877536481480454146\",\"text\":\"'Wild On!' Host Cindy Taylor 'Memba Her?! https:\\/\\/t.co\\/W3rn0y4Ktq\",\"source\":\"\\u003ca href=\\\"http:\\/\\/www.socialflow.com\\\" rel=\\\"nofollow\\\"\\u003eSocialFlow\\u003c\\/a\\u003e\",\"truncated\":false,\"in_reply_to_status_id\":null,\"in_reply_to_status_id_str\":null,\"in_reply_to_user_id\":null,\"in_reply_to_user_id_str\":null,\"in_reply_to_screen_name\":null,\"user\":{\"id\":16331010,\"id_str\":\"16331010\",\"name\":\"TMZ\",\"screen_name\":\"TMZ\",\"location\":\"Los Angeles, CA\",\"url\":\"http:\\/\\/www.TMZ.com\",\"description\":\"TMZ has consistently been credited for breaking the biggest stories dominating the entertainment news landscape and changing the way the public gets their news.\",\"protected\":false,\"verified\":true,\"followers_count\":4611185,\"friends_count\":872,\"listed_count\":20538,\"favourites_count\":847,\"statuses_count\":169811,\"created_at\":\"Wed Sep 17 15:50:22 +0000 2008\",\"utc_offset\":-25200,\"time_zone\":\"Pacific Time (US & Canada)\",\"geo_enabled\":false,\"lang\":\"en\",\"contributors_enabled\":false,\"is_translator\":false,\"profile_background_color\":\"1A1B1F\",\"profile_background_image_url\":\"http:\\/\\/pbs.twimg.com\\/profile_background_images\\/627251415967117312\\/LiWUKffr.jpg\",\"profile_background_image_url_https\":\"https:\\/\\/pbs.twimg.com\\/profile_background_images\\/627251415967117312\\/LiWUKffr.jpg\",\"profile_background_tile\":false,\"profile_link_color\":\"FF1A1A\",\"profile_sidebar_border_color\":\"000000\",\"profile_sidebar_fill_color\":\"000000\",\"profile_text_color\":\"000000\",\"profile_use_background_image\":true,\"profile_image_url\":\"http:\\/\\/pbs.twimg.com\\/profile_images\\/757758734160400388\\/zfid9_Z__normal.jpg\",\"profile_image_url_https\":\"https:\\/\\/pbs.twimg.com\\/profile_images\\/757758734160400388\\/zfid9_Z__normal.jpg\",\"profile_banner_url\":\"https:\\/\\/pbs.twimg.com\\/profile_banners\\/16331010\\/1465917868\",\"default_profile\":false,\"default_profile_image\":false,\"following\":null,\"follow_request_sent\":null,\"notifications\":null},\"geo\":null,\"coordinates\":null,\"place\":null,\"contributors\":null,\"is_quote_status\":false,\"retweet_count\":2,\"favorite_count\":6,\"entities\":{\"hashtags\":[],\"urls\":[{\"url\":\"https:\\/\\/t.co\\/W3rn0y4Ktq\",\"expanded_url\":\"http:\\/\\/tmz.me\\/6ddmoIf\",\"display_url\":\"tmz.me\\/6ddmoIf\",\"indices\":[42,65]}],\"user_mentions\":[],\"symbols\":[]},\"favorited\":false,\"retweeted\":false,\"possibly_sensitive\":false,\"filter_level\":\"low\",\"lang\":\"en\"},\"is_quote_status\":true,\"retweet_count\":0,\"favorite_count\":0,\"entities\":{\"hashtags\":[],\"urls\":[{\"url\":\"https:\\/\\/t.co\\/tJvMowFZ3n\",\"expanded_url\":\"https:\\/\\/twitter.com\\/TMZ\\/status\\/877536481480454146\",\"display_url\":\"twitter.com\\/TMZ\\/status\\/877\\u2026\",\"indices\":[25,48]}],\"user_mentions\":[],\"symbols\":[]},\"favorited\":false,\"retweeted\":false,\"possibly_sensitive\":false,\"filter_level\":\"low\",\"lang\":\"en\",\"timestamp_ms\":\"1498056339584\"}\n",
      "\n",
      "{\"created_at\":\"Wed Jun 21 14:45:42 +0000 2017\",\"id\":877538021800787968,\"id_str\":\"877538021800787968\",\"text\":\"RT @AsNTM: It was really sad to see Cindy Chen go, and the girls are also still shaken. #AsNTM5 #AsNTM #ExpectTheUnexpected https:\\/\\/t.co\\/Ak\\u2026\",\"source\":\"\\u003ca href=\\\"http:\\/\\/twitter.com\\/download\\/android\\\" rel=\\\"nofollow\\\"\\u003eTwitter for Android\\u003c\\/a\\u003e\",\"truncated\":false,\"in_reply_to_status_id\":null,\"in_reply_to_status_id_str\":null,\"in_reply_to_user_id\":null,\"in_reply_to_user_id_str\":null,\"in_reply_to_screen_name\":null,\"user\":{\"id\":88361202,\"id_str\":\"88361202\",\"name\":\"machine gun karyn\",\"screen_name\":\"rynsanity\",\"location\":\"@n0tkaryn\",\"url\":null,\"description\":\"subtle dragona | Zabdiellyfish's \\u2728\",\"protected\":false,\"verified\":false,\"followers_count\":645,\"friends_count\":416,\"listed_count\":2,\"favourites_count\":35877,\"statuses_count\":21093,\"created_at\":\"Sun Nov 08 05:49:43 +0000 2009\",\"utc_offset\":28800,\"time_zone\":\"Chongqing\",\"geo_enabled\":true,\"lang\":\"en\",\"contributors_enabled\":false,\"is_translator\":false,\"profile_background_color\":\"FFFFFF\",\"profile_background_image_url\":\"http:\\/\\/pbs.twimg.com\\/profile_background_images\\/598784120123097088\\/YtsZe8W4.png\",\"profile_background_image_url_https\":\"https:\\/\\/pbs.twimg.com\\/profile_background_images\\/598784120123097088\\/YtsZe8W4.png\",\"profile_background_tile\":true,\"profile_link_color\":\"B49B57\",\"profile_sidebar_border_color\":\"000000\",\"profile_sidebar_fill_color\":\"7AC3EE\",\"profile_text_color\":\"3D1957\",\"profile_use_background_image\":true,\"profile_image_url\":\"http:\\/\\/pbs.twimg.com\\/profile_images\\/868286414168903680\\/1-lFaYZV_normal.jpg\",\"profile_image_url_https\":\"https:\\/\\/pbs.twimg.com\\/profile_images\\/868286414168903680\\/1-lFaYZV_normal.jpg\",\"default_profile\":false,\"default_profile_image\":false,\"following\":null,\"follow_request_sent\":null,\"notifications\":null},\"geo\":null,\"coordinates\":null,\"place\":null,\"contributors\":null,\"retweeted_status\":{\"created_at\":\"Wed Jun 21 13:02:43 +0000 2017\",\"id\":877512103707291652,\"id_str\":\"877512103707291652\",\"text\":\"It was really sad to see Cindy Chen go, and the girls are also still shaken. #AsNTM5 #AsNTM #ExpectTheUnexpected https:\\/\\/t.co\\/Ak1McAgyRO\",\"display_text_range\":[0,112],\"source\":\"\\u003ca href=\\\"http:\\/\\/twitter.com\\\" rel=\\\"nofollow\\\"\\u003eTwitter Web Client\\u003c\\/a\\u003e\",\"truncated\":false,\"in_reply_to_status_id\":null,\"in_reply_to_status_id_str\":null,\"in_reply_to_user_id\":null,\"in_reply_to_user_id_str\":null,\"in_reply_to_screen_name\":null,\"user\":{\"id\":1552242006,\"id_str\":\"1552242006\",\"name\":\"#AsNTM\",\"screen_name\":\"AsNTM\",\"location\":null,\"url\":\"http:\\/\\/www.asntm.com\\/videos\",\"description\":\"Expect the unexpected! Asia's Next Top Model s5 every Wednesday at 9pm | 8pm JKT VN on #StarWorld #AsNTM5 #AsNTM\",\"protected\":false,\"verified\":true,\"followers_count\":47001,\"friends_count\":184,\"listed_count\":39,\"favourites_count\":2056,\"statuses_count\":2199,\"created_at\":\"Fri Jun 28 05:15:58 +0000 2013\",\"utc_offset\":28800,\"time_zone\":\"Beijing\",\"geo_enabled\":false,\"lang\":\"en\",\"contributors_enabled\":false,\"is_translator\":false,\"profile_background_color\":\"000000\",\"profile_background_image_url\":\"http:\\/\\/abs.twimg.com\\/images\\/themes\\/theme1\\/bg.png\",\"profile_background_image_url_https\":\"https:\\/\\/abs.twimg.com\\/images\\/themes\\/theme1\\/bg.png\",\"profile_background_tile\":false,\"profile_link_color\":\"ABB8C2\",\"profile_sidebar_border_color\":\"000000\",\"profile_sidebar_fill_color\":\"000000\",\"profile_text_color\":\"000000\",\"profile_use_background_image\":false,\"profile_image_url\":\"http:\\/\\/pbs.twimg.com\\/profile_images\\/826791151273283585\\/xyT4MF5G_normal.jpg\",\"profile_image_url_https\":\"https:\\/\\/pbs.twimg.com\\/profile_images\\/826791151273283585\\/xyT4MF5G_normal.jpg\",\"profile_banner_url\":\"https:\\/\\/pbs.twimg.com\\/profile_banners\\/1552242006\\/1491456900\",\"default_profile\":false,\"default_profile_image\":false,\"following\":null,\"follow_request_sent\":null,\"notifications\":null},\"geo\":null,\"coordinates\":null,\"place\":null,\"contributors\":null,\"is_quote_status\":false,\"retweet_count\":692,\"favorite_count\":2499,\"entities\":{\"hashtags\":[{\"text\":\"AsNTM5\",\"indices\":[77,84]},{\"text\":\"AsNTM\",\"indices\":[85,91]},{\"text\":\"ExpectTheUnexpected\",\"indices\":[92,112]}],\"urls\":[],\"user_mentions\":[],\"symbols\":[],\"media\":[{\"id\":877511306894385153,\"id_str\":\"877511306894385153\",\"indices\":[113,136],\"media_url\":\"http:\\/\\/pbs.twimg.com\\/media\\/DC2L4mXUIAEu6UO.jpg\",\"media_url_https\":\"https:\\/\\/pbs.twimg.com\\/media\\/DC2L4mXUIAEu6UO.jpg\",\"url\":\"https:\\/\\/t.co\\/Ak1McAgyRO\",\"display_url\":\"pic.twitter.com\\/Ak1McAgyRO\",\"expanded_url\":\"https:\\/\\/twitter.com\\/AsNTM\\/status\\/877512103707291652\\/photo\\/1\",\"type\":\"photo\",\"sizes\":{\"medium\":{\"w\":1200,\"h\":675,\"resize\":\"fit\"},\"large\":{\"w\":1920,\"h\":1080,\"resize\":\"fit\"},\"small\":{\"w\":680,\"h\":383,\"resize\":\"fit\"},\"thumb\":{\"w\":150,\"h\":150,\"resize\":\"crop\"}}}]},\"extended_entities\":{\"media\":[{\"id\":877511306894385153,\"id_str\":\"877511306894385153\",\"indices\":[113,136],\"media_url\":\"http:\\/\\/pbs.twimg.com\\/media\\/DC2L4mXUIAEu6UO.jpg\",\"media_url_https\":\"https:\\/\\/pbs.twimg.com\\/media\\/DC2L4mXUIAEu6UO.jpg\",\"url\":\"https:\\/\\/t.co\\/Ak1McAgyRO\",\"display_url\":\"pic.twitter.com\\/Ak1McAgyRO\",\"expanded_url\":\"https:\\/\\/twitter.com\\/AsNTM\\/status\\/877512103707291652\\/photo\\/1\",\"type\":\"photo\",\"sizes\":{\"medium\":{\"w\":1200,\"h\":675,\"resize\":\"fit\"},\"large\":{\"w\":1920,\"h\":1080,\"resize\":\"fit\"},\"small\":{\"w\":680,\"h\":383,\"resize\":\"fit\"},\"thumb\":{\"w\":150,\"h\":150,\"resize\":\"crop\"}}}]},\"favorited\":false,\"retweeted\":false,\"possibly_sensitive\":false,\"filter_level\":\"low\",\"lang\":\"en\"},\"is_quote_status\":false,\"retweet_count\":0,\"favorite_count\":0,\"entities\":{\"hashtags\":[{\"text\":\"AsNTM5\",\"indices\":[88,95]},{\"text\":\"AsNTM\",\"indices\":[96,102]},{\"text\":\"ExpectTheUnexpected\",\"indices\":[103,123]}],\"urls\":[],\"user_mentions\":[{\"screen_name\":\"AsNTM\",\"name\":\"#AsNTM\",\"id\":1552242006,\"id_str\":\"1552242006\",\"indices\":[3,9]}],\"symbols\":[]},\"favorited\":false,\"retweeted\":false,\"filter_level\":\"low\",\"lang\":\"en\",\"timestamp_ms\":\"1498056342922\"}\n",
      "\n",
      "{\"created_at\":\"Wed Jun 21 14:45:46 +0000 2017\",\"id\":877538037781209088,\"id_str\":\"877538037781209088\",\"text\":\"RT @WSJ: The storm surge from Tropical Storm Cindy could produce inundation of 1 to 3 feet along the Gulf Coast https:\\/\\/t.co\\/JfoaCsRfpt\",\"source\":\"\\u003ca href=\\\"https:\\/\\/mobile.twitter.com\\\" rel=\\\"nofollow\\\"\\u003eTwitter Lite\\u003c\\/a\\u003e\",\"truncated\":false,\"in_reply_to_status_id\":null,\"in_reply_to_status_id_str\":null,\"in_reply_to_user_id\":null,\"in_reply_to_user_id_str\":null,\"in_reply_to_screen_name\":null,\"user\":{\"id\":2966165067,\"id_str\":\"2966165067\",\"name\":\"Crowley Not\\u00edcias\",\"screen_name\":\"alisson2662151\",\"location\":null,\"url\":null,\"description\":null,\"protected\":false,\"verified\":false,\"followers_count\":111,\"friends_count\":230,\"listed_count\":3,\"favourites_count\":10230,\"statuses_count\":10427,\"created_at\":\"Wed Jan 07 15:52:35 +0000 2015\",\"utc_offset\":null,\"time_zone\":null,\"geo_enabled\":false,\"lang\":\"en\",\"contributors_enabled\":false,\"is_translator\":false,\"profile_background_color\":\"C0DEED\",\"profile_background_image_url\":\"http:\\/\\/abs.twimg.com\\/images\\/themes\\/theme1\\/bg.png\",\"profile_background_image_url_https\":\"https:\\/\\/abs.twimg.com\\/images\\/themes\\/theme1\\/bg.png\",\"profile_background_tile\":false,\"profile_link_color\":\"1DA1F2\",\"profile_sidebar_border_color\":\"C0DEED\",\"profile_sidebar_fill_color\":\"DDEEF6\",\"profile_text_color\":\"333333\",\"profile_use_background_image\":true,\"profile_image_url\":\"http:\\/\\/pbs.twimg.com\\/profile_images\\/635894753557655552\\/Qck00nIr_normal.jpg\",\"profile_image_url_https\":\"https:\\/\\/pbs.twimg.com\\/profile_images\\/635894753557655552\\/Qck00nIr_normal.jpg\",\"default_profile\":true,\"default_profile_image\":false,\"following\":null,\"follow_request_sent\":null,\"notifications\":null},\"geo\":null,\"coordinates\":null,\"place\":null,\"contributors\":null,\"retweeted_status\":{\"created_at\":\"Wed Jun 21 14:27:12 +0000 2017\",\"id\":877533364026265601,\"id_str\":\"877533364026265601\",\"text\":\"The storm surge from Tropical Storm Cindy could produce inundation of 1 to 3 feet along the Gulf Coast https:\\/\\/t.co\\/JfoaCsRfpt\",\"source\":\"\\u003ca href=\\\"http:\\/\\/www.socialflow.com\\\" rel=\\\"nofollow\\\"\\u003eSocialFlow\\u003c\\/a\\u003e\",\"truncated\":false,\"in_reply_to_status_id\":null,\"in_reply_to_status_id_str\":null,\"in_reply_to_user_id\":null,\"in_reply_to_user_id_str\":null,\"in_reply_to_screen_name\":null,\"user\":{\"id\":3108351,\"id_str\":\"3108351\",\"name\":\"Wall Street Journal\",\"screen_name\":\"WSJ\",\"location\":\"New York, NY\",\"url\":\"http:\\/\\/wsj.com\",\"description\":\"Breaking news and features from the WSJ.\",\"protected\":false,\"verified\":true,\"followers_count\":14227741,\"friends_count\":1070,\"listed_count\":105909,\"favourites_count\":1293,\"statuses_count\":203424,\"created_at\":\"Sun Apr 01 06:22:13 +0000 2007\",\"utc_offset\":-14400,\"time_zone\":\"Eastern Time (US & Canada)\",\"geo_enabled\":true,\"lang\":\"en\",\"contributors_enabled\":false,\"is_translator\":false,\"profile_background_color\":\"EDF2F5\",\"profile_background_image_url\":\"http:\\/\\/pbs.twimg.com\\/profile_background_images\\/378800000026078008\\/c07ad7d60f01c3a836dd701fc3f71233.jpeg\",\"profile_background_image_url_https\":\"https:\\/\\/pbs.twimg.com\\/profile_background_images\\/378800000026078008\\/c07ad7d60f01c3a836dd701fc3f71233.jpeg\",\"profile_background_tile\":false,\"profile_link_color\":\"1164B8\",\"profile_sidebar_border_color\":\"FFFFFF\",\"profile_sidebar_fill_color\":\"EFEFEF\",\"profile_text_color\":\"333333\",\"profile_use_background_image\":false,\"profile_image_url\":\"http:\\/\\/pbs.twimg.com\\/profile_images\\/685113343204585473\\/jV72Zljq_normal.jpg\",\"profile_image_url_https\":\"https:\\/\\/pbs.twimg.com\\/profile_images\\/685113343204585473\\/jV72Zljq_normal.jpg\",\"profile_banner_url\":\"https:\\/\\/pbs.twimg.com\\/profile_banners\\/3108351\\/1462483236\",\"default_profile\":false,\"default_profile_image\":false,\"following\":null,\"follow_request_sent\":null,\"notifications\":null},\"geo\":null,\"coordinates\":null,\"place\":null,\"contributors\":null,\"is_quote_status\":false,\"retweet_count\":29,\"favorite_count\":20,\"entities\":{\"hashtags\":[],\"urls\":[{\"url\":\"https:\\/\\/t.co\\/JfoaCsRfpt\",\"expanded_url\":\"http:\\/\\/on.wsj.com\\/2sTz6kg\",\"display_url\":\"on.wsj.com\\/2sTz6kg\",\"indices\":[103,126]}],\"user_mentions\":[],\"symbols\":[]},\"favorited\":false,\"retweeted\":false,\"possibly_sensitive\":false,\"filter_level\":\"low\",\"lang\":\"en\"},\"is_quote_status\":false,\"retweet_count\":0,\"favorite_count\":0,\"entities\":{\"hashtags\":[],\"urls\":[{\"url\":\"https:\\/\\/t.co\\/JfoaCsRfpt\",\"expanded_url\":\"http:\\/\\/on.wsj.com\\/2sTz6kg\",\"display_url\":\"on.wsj.com\\/2sTz6kg\",\"indices\":[112,135]}],\"user_mentions\":[{\"screen_name\":\"WSJ\",\"name\":\"Wall Street Journal\",\"id\":3108351,\"id_str\":\"3108351\",\"indices\":[3,7]}],\"symbols\":[]},\"favorited\":false,\"retweeted\":false,\"possibly_sensitive\":false,\"filter_level\":\"low\",\"lang\":\"en\",\"timestamp_ms\":\"1498056346732\"}\n",
      "\n",
      "{\"created_at\":\"Wed Jun 21 14:45:46 +0000 2017\",\"id\":877538038200532992,\"id_str\":\"877538038200532992\",\"text\":\"RT @KATCTV3: Governor John Bel Edwards has declared a state of emergency in the wake of Tropical Storm Cindy.\\u00a0\\u2026 \",\"source\":\"\\u003ca href=\\\"http:\\/\\/twitter.com\\/download\\/iphone\\\" rel=\\\"nofollow\\\"\\u003eTwitter for iPhone\\u003c\\/a\\u003e\",\"truncated\":false,\"in_reply_to_status_id\":null,\"in_reply_to_status_id_str\":null,\"in_reply_to_user_id\":null,\"in_reply_to_user_id_str\":null,\"in_reply_to_screen_name\":null,\"user\":{\"id\":279357538,\"id_str\":\"279357538\",\"name\":\"\\u27b05\\/4\\u00ae\\u2379\",\"screen_name\":\"Whhyyyyy4\",\"location\":\"Lafayette, LA\",\"url\":null,\"description\":null,\"protected\":false,\"verified\":false,\"followers_count\":517,\"friends_count\":446,\"listed_count\":3,\"favourites_count\":1159,\"statuses_count\":40636,\"created_at\":\"Sat Apr 09 03:26:25 +0000 2011\",\"utc_offset\":-25200,\"time_zone\":\"Pacific Time (US & Canada)\",\"geo_enabled\":true,\"lang\":\"en\",\"contributors_enabled\":false,\"is_translator\":false,\"profile_background_color\":\"FFF04D\",\"profile_background_image_url\":\"http:\\/\\/pbs.twimg.com\\/profile_background_images\\/749066179\\/f363f44cd94fd06f82fed642a0577f6d.jpeg\",\"profile_background_image_url_https\":\"https:\\/\\/pbs.twimg.com\\/profile_background_images\\/749066179\\/f363f44cd94fd06f82fed642a0577f6d.jpeg\",\"profile_background_tile\":true,\"profile_link_color\":\"0099CC\",\"profile_sidebar_border_color\":\"FFFFFF\",\"profile_sidebar_fill_color\":\"F6FFD1\",\"profile_text_color\":\"333333\",\"profile_use_background_image\":false,\"profile_image_url\":\"http:\\/\\/pbs.twimg.com\\/profile_images\\/821600512810348545\\/UGDfghYt_normal.jpg\",\"profile_image_url_https\":\"https:\\/\\/pbs.twimg.com\\/profile_images\\/821600512810348545\\/UGDfghYt_normal.jpg\",\"profile_banner_url\":\"https:\\/\\/pbs.twimg.com\\/profile_banners\\/279357538\\/1460753044\",\"default_profile\":false,\"default_profile_image\":false,\"following\":null,\"follow_request_sent\":null,\"notifications\":null},\"geo\":null,\"coordinates\":null,\"place\":null,\"contributors\":null,\"retweeted_status\":{\"created_at\":\"Wed Jun 21 13:39:34 +0000 2017\",\"id\":877521377976344576,\"id_str\":\"877521377976344576\",\"text\":\"Governor John Bel Edwards has declared a state of emergency in the wake of Tropical Storm Cindy.\\u00a0\\u2026 https:\\/\\/t.co\\/hu47QK6vdS\",\"display_text_range\":[0,140],\"source\":\"\\u003ca href=\\\"http:\\/\\/www.socialnewsdesk.com\\\" rel=\\\"nofollow\\\"\\u003eSocialNewsDesk\\u003c\\/a\\u003e\",\"truncated\":true,\"in_reply_to_status_id\":null,\"in_reply_to_status_id_str\":null,\"in_reply_to_user_id\":null,\"in_reply_to_user_id_str\":null,\"in_reply_to_screen_name\":null,\"user\":{\"id\":22714473,\"id_str\":\"22714473\",\"name\":\"KATC TV3\",\"screen_name\":\"KATCTV3\",\"location\":\"Lafayette, LA\",\"url\":\"http:\\/\\/www.katc.com\",\"description\":\"Real tweets from KATC.  News tip?  E-mail: news@katctv.com or call (337) 236-6351.\",\"protected\":false,\"verified\":true,\"followers_count\":76121,\"friends_count\":355,\"listed_count\":510,\"favourites_count\":286,\"statuses_count\":113624,\"created_at\":\"Wed Mar 04 01:36:23 +0000 2009\",\"utc_offset\":-21600,\"time_zone\":\"Mountain Time (US & Canada)\",\"geo_enabled\":false,\"lang\":\"en\",\"contributors_enabled\":false,\"is_translator\":false,\"profile_background_color\":\"131516\",\"profile_background_image_url\":\"http:\\/\\/abs.twimg.com\\/images\\/themes\\/theme14\\/bg.gif\",\"profile_background_image_url_https\":\"https:\\/\\/abs.twimg.com\\/images\\/themes\\/theme14\\/bg.gif\",\"profile_background_tile\":true,\"profile_link_color\":\"009999\",\"profile_sidebar_border_color\":\"EEEEEE\",\"profile_sidebar_fill_color\":\"EFEFEF\",\"profile_text_color\":\"333333\",\"profile_use_background_image\":true,\"profile_image_url\":\"http:\\/\\/pbs.twimg.com\\/profile_images\\/824754479241297922\\/Klvo8WcM_normal.jpg\",\"profile_image_url_https\":\"https:\\/\\/pbs.twimg.com\\/profile_images\\/824754479241297922\\/Klvo8WcM_normal.jpg\",\"profile_banner_url\":\"https:\\/\\/pbs.twimg.com\\/profile_banners\\/22714473\\/1485471830\",\"default_profile\":false,\"default_profile_image\":false,\"following\":null,\"follow_request_sent\":null,\"notifications\":null},\"geo\":null,\"coordinates\":null,\"place\":null,\"contributors\":null,\"is_quote_status\":false,\"extended_tweet\":{\"full_text\":\"Governor John Bel Edwards has declared a state of emergency in the wake of Tropical Storm Cindy.\\u00a0  https:\\/\\/t.co\\/I9rXwjAtuj https:\\/\\/t.co\\/WMo7ytUfsV\",\"display_text_range\":[0,122],\"entities\":{\"hashtags\":[],\"urls\":[{\"url\":\"https:\\/\\/t.co\\/I9rXwjAtuj\",\"expanded_url\":\"http:\\/\\/www.katc.com\\/story\\/35714867\\/governor-declares-state-of-emergency\",\"display_url\":\"katc.com\\/story\\/35714867\\u2026\",\"indices\":[99,122]}],\"user_mentions\":[],\"symbols\":[],\"media\":[{\"id\":877521368501321728,\"id_str\":\"877521368501321728\",\"indices\":[123,146],\"media_url\":\"http:\\/\\/pbs.twimg.com\\/media\\/DC2VCQxWAAAcE6j.jpg\",\"media_url_https\":\"https:\\/\\/pbs.twimg.com\\/media\\/DC2VCQxWAAAcE6j.jpg\",\"url\":\"https:\\/\\/t.co\\/WMo7ytUfsV\",\"display_url\":\"pic.twitter.com\\/WMo7ytUfsV\",\"expanded_url\":\"https:\\/\\/twitter.com\\/KATCTV3\\/status\\/877521377976344576\\/photo\\/1\",\"type\":\"photo\",\"sizes\":{\"large\":{\"w\":575,\"h\":326,\"resize\":\"fit\"},\"medium\":{\"w\":575,\"h\":326,\"resize\":\"fit\"},\"thumb\":{\"w\":150,\"h\":150,\"resize\":\"crop\"},\"small\":{\"w\":575,\"h\":326,\"resize\":\"fit\"}}}]},\"extended_entities\":{\"media\":[{\"id\":877521368501321728,\"id_str\":\"877521368501321728\",\"indices\":[123,146],\"media_url\":\"http:\\/\\/pbs.twimg.com\\/media\\/DC2VCQxWAAAcE6j.jpg\",\"media_url_https\":\"https:\\/\\/pbs.twimg.com\\/media\\/DC2VCQxWAAAcE6j.jpg\",\"url\":\"https:\\/\\/t.co\\/WMo7ytUfsV\",\"display_url\":\"pic.twitter.com\\/WMo7ytUfsV\",\"expanded_url\":\"https:\\/\\/twitter.com\\/KATCTV3\\/status\\/877521377976344576\\/photo\\/1\",\"type\":\"photo\",\"sizes\":{\"large\":{\"w\":575,\"h\":326,\"resize\":\"fit\"},\"medium\":{\"w\":575,\"h\":326,\"resize\":\"fit\"},\"thumb\":{\"w\":150,\"h\":150,\"resize\":\"crop\"},\"small\":{\"w\":575,\"h\":326,\"resize\":\"fit\"}}}]}},\"retweet_count\":18,\"favorite_count\":6,\"entities\":{\"hashtags\":[],\"urls\":[{\"url\":\"https:\\/\\/t.co\\/hu47QK6vdS\",\"expanded_url\":\"https:\\/\\/twitter.com\\/i\\/web\\/status\\/877521377976344576\",\"display_url\":\"twitter.com\\/i\\/web\\/status\\/8\\u2026\",\"indices\":[99,122]}],\"user_mentions\":[],\"symbols\":[]},\"favorited\":false,\"retweeted\":false,\"possibly_sensitive\":false,\"filter_level\":\"low\",\"lang\":\"en\"},\"is_quote_status\":false,\"retweet_count\":0,\"favorite_count\":0,\"entities\":{\"hashtags\":[],\"urls\":[{\"url\":\"\",\"expanded_url\":null,\"indices\":[112,112]}],\"user_mentions\":[{\"screen_name\":\"KATCTV3\",\"name\":\"KATC TV3\",\"id\":22714473,\"id_str\":\"22714473\",\"indices\":[3,11]}],\"symbols\":[]},\"favorited\":false,\"retweeted\":false,\"possibly_sensitive\":false,\"filter_level\":\"low\",\"lang\":\"en\",\"timestamp_ms\":\"1498056346832\"}\n",
      "\n",
      "{\"created_at\":\"Wed Jun 21 14:45:47 +0000 2017\",\"id\":877538041207734273,\"id_str\":\"877538041207734273\",\"text\":\"RT @jaimeluke7: Tu to Xiao Qing: I want you to go home! \\nCindy: Xiao Qing, please come up and join us in the judging panel.\\nTu be l\\u2026 \",\"source\":\"\\u003ca href=\\\"http:\\/\\/twitter.com\\/download\\/iphone\\\" rel=\\\"nofollow\\\"\\u003eTwitter for iPhone\\u003c\\/a\\u003e\",\"truncated\":false,\"in_reply_to_status_id\":null,\"in_reply_to_status_id_str\":null,\"in_reply_to_user_id\":null,\"in_reply_to_user_id_str\":null,\"in_reply_to_screen_name\":null,\"user\":{\"id\":175716600,\"id_str\":\"175716600\",\"name\":\"gravity \\ud83d\\udc41\",\"screen_name\":\"jeyembwi\",\"location\":\"vdps\",\"url\":\"http:\\/\\/johnmarkv.tumblr.com\",\"description\":\"heavydirtysoul \\/\\/ 12-HUMSS \\/\\/ sc: jeyemmmmmm ig: johnmarkv_ \\/\\/\",\"protected\":false,\"verified\":false,\"followers_count\":1644,\"friends_count\":2510,\"listed_count\":10,\"favourites_count\":54766,\"statuses_count\":50476,\"created_at\":\"Sat Aug 07 11:41:39 +0000 2010\",\"utc_offset\":28800,\"time_zone\":\"Hong Kong\",\"geo_enabled\":true,\"lang\":\"en\",\"contributors_enabled\":false,\"is_translator\":false,\"profile_background_color\":\"12EB8A\",\"profile_background_image_url\":\"http:\\/\\/pbs.twimg.com\\/profile_background_images\\/707603468496691200\\/00QjNdQC.jpg\",\"profile_background_image_url_https\":\"https:\\/\\/pbs.twimg.com\\/profile_background_images\\/707603468496691200\\/00QjNdQC.jpg\",\"profile_background_tile\":true,\"profile_link_color\":\"666666\",\"profile_sidebar_border_color\":\"000000\",\"profile_sidebar_fill_color\":\"EADEAA\",\"profile_text_color\":\"333333\",\"profile_use_background_image\":true,\"profile_image_url\":\"http:\\/\\/pbs.twimg.com\\/profile_images\\/876085423365267457\\/f_Wv9v06_normal.jpg\",\"profile_image_url_https\":\"https:\\/\\/pbs.twimg.com\\/profile_images\\/876085423365267457\\/f_Wv9v06_normal.jpg\",\"profile_banner_url\":\"https:\\/\\/pbs.twimg.com\\/profile_banners\\/175716600\\/1494866703\",\"default_profile\":false,\"default_profile_image\":false,\"following\":null,\"follow_request_sent\":null,\"notifications\":null},\"geo\":null,\"coordinates\":null,\"place\":null,\"contributors\":null,\"retweeted_status\":{\"created_at\":\"Wed Jun 21 13:22:00 +0000 2017\",\"id\":877516954285727744,\"id_str\":\"877516954285727744\",\"text\":\"Tu to Xiao Qing: I want you to go home! \\nCindy: Xiao Qing, please come up and join us in the judging panel.\\nTu be l\\u2026 https:\\/\\/t.co\\/tLTza6VN08\",\"display_text_range\":[0,140],\"source\":\"\\u003ca href=\\\"http:\\/\\/twitter.com\\/download\\/android\\\" rel=\\\"nofollow\\\"\\u003eTwitter for Android\\u003c\\/a\\u003e\",\"truncated\":true,\"in_reply_to_status_id\":null,\"in_reply_to_status_id_str\":null,\"in_reply_to_user_id\":null,\"in_reply_to_user_id_str\":null,\"in_reply_to_screen_name\":null,\"user\":{\"id\":773736968060596226,\"id_str\":\"773736968060596226\",\"name\":\"Jaime_Luke\\ud83d\\udc28\",\"screen_name\":\"jaimeluke7\",\"location\":\"West fairview, Quezon city\",\"url\":null,\"description\":\"Draco Dormiens Nunquam Titillandus || Never tickle a sleeping dragon || born in 1999 || IG:jaime_luke || Snapchat: jaimeluke2\",\"protected\":false,\"verified\":false,\"followers_count\":118,\"friends_count\":207,\"listed_count\":0,\"favourites_count\":1630,\"statuses_count\":1167,\"created_at\":\"Thu Sep 08 04:17:23 +0000 2016\",\"utc_offset\":null,\"time_zone\":null,\"geo_enabled\":true,\"lang\":\"en\",\"contributors_enabled\":false,\"is_translator\":false,\"profile_background_color\":\"F5F8FA\",\"profile_background_image_url\":\"\",\"profile_background_image_url_https\":\"\",\"profile_background_tile\":false,\"profile_link_color\":\"1DA1F2\",\"profile_sidebar_border_color\":\"C0DEED\",\"profile_sidebar_fill_color\":\"DDEEF6\",\"profile_text_color\":\"333333\",\"profile_use_background_image\":true,\"profile_image_url\":\"http:\\/\\/pbs.twimg.com\\/profile_images\\/863240400013713410\\/NguOHQYB_normal.jpg\",\"profile_image_url_https\":\"https:\\/\\/pbs.twimg.com\\/profile_images\\/863240400013713410\\/NguOHQYB_normal.jpg\",\"profile_banner_url\":\"https:\\/\\/pbs.twimg.com\\/profile_banners\\/773736968060596226\\/1492957783\",\"default_profile\":true,\"default_profile_image\":false,\"following\":null,\"follow_request_sent\":null,\"notifications\":null},\"geo\":null,\"coordinates\":null,\"place\":null,\"contributors\":null,\"is_quote_status\":false,\"extended_tweet\":{\"full_text\":\"Tu to Xiao Qing: I want you to go home! \\nCindy: Xiao Qing, please come up and join us in the judging panel.\\nTu be like:\\n #AsNTM #AsNTM5 https:\\/\\/t.co\\/Ld9amjoUTV\",\"display_text_range\":[0,135],\"entities\":{\"hashtags\":[{\"text\":\"AsNTM\",\"indices\":[121,127]},{\"text\":\"AsNTM5\",\"indices\":[128,135]}],\"urls\":[],\"user_mentions\":[],\"symbols\":[],\"media\":[{\"id\":877516793719341060,\"id_str\":\"877516793719341060\",\"indices\":[136,159],\"media_url\":\"http:\\/\\/pbs.twimg.com\\/media\\/DC2Q3-YUwAQ2RLF.jpg\",\"media_url_https\":\"https:\\/\\/pbs.twimg.com\\/media\\/DC2Q3-YUwAQ2RLF.jpg\",\"url\":\"https:\\/\\/t.co\\/Ld9amjoUTV\",\"display_url\":\"pic.twitter.com\\/Ld9amjoUTV\",\"expanded_url\":\"https:\\/\\/twitter.com\\/jaimeluke7\\/status\\/877516954285727744\\/photo\\/1\",\"type\":\"photo\",\"sizes\":{\"medium\":{\"w\":480,\"h\":854,\"resize\":\"fit\"},\"thumb\":{\"w\":150,\"h\":150,\"resize\":\"crop\"},\"large\":{\"w\":480,\"h\":854,\"resize\":\"fit\"},\"small\":{\"w\":382,\"h\":680,\"resize\":\"fit\"}}}]},\"extended_entities\":{\"media\":[{\"id\":877516793719341060,\"id_str\":\"877516793719341060\",\"indices\":[136,159],\"media_url\":\"http:\\/\\/pbs.twimg.com\\/media\\/DC2Q3-YUwAQ2RLF.jpg\",\"media_url_https\":\"https:\\/\\/pbs.twimg.com\\/media\\/DC2Q3-YUwAQ2RLF.jpg\",\"url\":\"https:\\/\\/t.co\\/Ld9amjoUTV\",\"display_url\":\"pic.twitter.com\\/Ld9amjoUTV\",\"expanded_url\":\"https:\\/\\/twitter.com\\/jaimeluke7\\/status\\/877516954285727744\\/photo\\/1\",\"type\":\"photo\",\"sizes\":{\"medium\":{\"w\":480,\"h\":854,\"resize\":\"fit\"},\"thumb\":{\"w\":150,\"h\":150,\"resize\":\"crop\"},\"large\":{\"w\":480,\"h\":854,\"resize\":\"fit\"},\"small\":{\"w\":382,\"h\":680,\"resize\":\"fit\"}}}]}},\"retweet_count\":88,\"favorite_count\":183,\"entities\":{\"hashtags\":[],\"urls\":[{\"url\":\"https:\\/\\/t.co\\/tLTza6VN08\",\"expanded_url\":\"https:\\/\\/twitter.com\\/i\\/web\\/status\\/877516954285727744\",\"display_url\":\"twitter.com\\/i\\/web\\/status\\/8\\u2026\",\"indices\":[117,140]}],\"user_mentions\":[],\"symbols\":[]},\"favorited\":false,\"retweeted\":false,\"possibly_sensitive\":false,\"filter_level\":\"low\",\"lang\":\"en\"},\"is_quote_status\":false,\"retweet_count\":0,\"favorite_count\":0,\"entities\":{\"hashtags\":[],\"urls\":[{\"url\":\"\",\"expanded_url\":null,\"indices\":[133,133]}],\"user_mentions\":[{\"screen_name\":\"jaimeluke7\",\"name\":\"Jaime_Luke\\ud83d\\udc28\",\"id\":773736968060596226,\"id_str\":\"773736968060596226\",\"indices\":[3,14]}],\"symbols\":[]},\"favorited\":false,\"retweeted\":false,\"filter_level\":\"low\",\"lang\":\"en\",\"timestamp_ms\":\"1498056347549\"}\n",
      "\n",
      "{\"created_at\":\"Wed Jun 21 14:45:50 +0000 2017\",\"id\":877538055116267521,\"id_str\":\"877538055116267521\",\"text\":\"RT @kwspope: @reginamiIlz miss and love you Cindy, thank you babe\\ud83d\\udc93\",\"source\":\"\\u003ca href=\\\"http:\\/\\/twitter.com\\/download\\/iphone\\\" rel=\\\"nofollow\\\"\\u003eTwitter for iPhone\\u003c\\/a\\u003e\",\"truncated\":false,\"in_reply_to_status_id\":null,\"in_reply_to_status_id_str\":null,\"in_reply_to_user_id\":null,\"in_reply_to_user_id_str\":null,\"in_reply_to_screen_name\":null,\"user\":{\"id\":2667327632,\"id_str\":\"2667327632\",\"name\":\"cindy \\/ exams\",\"screen_name\":\"reginamiIlz\",\"location\":\"VIII\",\"url\":null,\"description\":null,\"protected\":false,\"verified\":false,\"followers_count\":3419,\"friends_count\":101,\"listed_count\":73,\"favourites_count\":28653,\"statuses_count\":21762,\"created_at\":\"Mon Jul 21 22:14:30 +0000 2014\",\"utc_offset\":25200,\"time_zone\":\"Krasnoyarsk\",\"geo_enabled\":true,\"lang\":\"en\",\"contributors_enabled\":false,\"is_translator\":false,\"profile_background_color\":\"000000\",\"profile_background_image_url\":\"http:\\/\\/abs.twimg.com\\/images\\/themes\\/theme1\\/bg.png\",\"profile_background_image_url_https\":\"https:\\/\\/abs.twimg.com\\/images\\/themes\\/theme1\\/bg.png\",\"profile_background_tile\":false,\"profile_link_color\":\"000000\",\"profile_sidebar_border_color\":\"000000\",\"profile_sidebar_fill_color\":\"000000\",\"profile_text_color\":\"000000\",\"profile_use_background_image\":false,\"profile_image_url\":\"http:\\/\\/pbs.twimg.com\\/profile_images\\/876451736663330817\\/ps4cPb9-_normal.jpg\",\"profile_image_url_https\":\"https:\\/\\/pbs.twimg.com\\/profile_images\\/876451736663330817\\/ps4cPb9-_normal.jpg\",\"profile_banner_url\":\"https:\\/\\/pbs.twimg.com\\/profile_banners\\/2667327632\\/1497797353\",\"default_profile\":false,\"default_profile_image\":false,\"following\":null,\"follow_request_sent\":null,\"notifications\":null},\"geo\":null,\"coordinates\":null,\"place\":null,\"contributors\":null,\"retweeted_status\":{\"created_at\":\"Tue Jun 20 11:22:19 +0000 2017\",\"id\":877124450562560000,\"id_str\":\"877124450562560000\",\"text\":\"@reginamiIlz miss and love you Cindy, thank you babe\\ud83d\\udc93\",\"display_text_range\":[13,53],\"source\":\"\\u003ca href=\\\"http:\\/\\/twitter.com\\/download\\/iphone\\\" rel=\\\"nofollow\\\"\\u003eTwitter for iPhone\\u003c\\/a\\u003e\",\"truncated\":false,\"in_reply_to_status_id\":877105002040487937,\"in_reply_to_status_id_str\":\"877105002040487937\",\"in_reply_to_user_id\":2667327632,\"in_reply_to_user_id_str\":\"2667327632\",\"in_reply_to_screen_name\":\"reginamiIlz\",\"user\":{\"id\":3208719671,\"id_str\":\"3208719671\",\"name\":\"s\",\"screen_name\":\"kwspope\",\"location\":null,\"url\":\"https:\\/\\/twitter.com\\/kerrywashington\\/status\\/756585835575648258\",\"description\":\"a woman in power is a nasty woman.\",\"protected\":false,\"verified\":false,\"followers_count\":1347,\"friends_count\":80,\"listed_count\":19,\"favourites_count\":43752,\"statuses_count\":15625,\"created_at\":\"Sun Apr 26 18:05:43 +0000 2015\",\"utc_offset\":-25200,\"time_zone\":\"Pacific Time (US & Canada)\",\"geo_enabled\":true,\"lang\":\"en\",\"contributors_enabled\":false,\"is_translator\":false,\"profile_background_color\":\"000000\",\"profile_background_image_url\":\"http:\\/\\/abs.twimg.com\\/images\\/themes\\/theme1\\/bg.png\",\"profile_background_image_url_https\":\"https:\\/\\/abs.twimg.com\\/images\\/themes\\/theme1\\/bg.png\",\"profile_background_tile\":false,\"profile_link_color\":\"F5ABB5\",\"profile_sidebar_border_color\":\"000000\",\"profile_sidebar_fill_color\":\"000000\",\"profile_text_color\":\"000000\",\"profile_use_background_image\":false,\"profile_image_url\":\"http:\\/\\/pbs.twimg.com\\/profile_images\\/876938510367936513\\/Kd5M9QsE_normal.jpg\",\"profile_image_url_https\":\"https:\\/\\/pbs.twimg.com\\/profile_images\\/876938510367936513\\/Kd5M9QsE_normal.jpg\",\"profile_banner_url\":\"https:\\/\\/pbs.twimg.com\\/profile_banners\\/3208719671\\/1496184890\",\"default_profile\":false,\"default_profile_image\":false,\"following\":null,\"follow_request_sent\":null,\"notifications\":null},\"geo\":null,\"coordinates\":null,\"place\":null,\"contributors\":null,\"is_quote_status\":false,\"retweet_count\":1,\"favorite_count\":1,\"entities\":{\"hashtags\":[],\"urls\":[],\"user_mentions\":[{\"screen_name\":\"reginamiIlz\",\"name\":\"cindy \\/ exams\",\"id\":2667327632,\"id_str\":\"2667327632\",\"indices\":[0,12]}],\"symbols\":[]},\"favorited\":false,\"retweeted\":false,\"filter_level\":\"low\",\"lang\":\"en\"},\"is_quote_status\":false,\"retweet_count\":0,\"favorite_count\":0,\"entities\":{\"hashtags\":[],\"urls\":[],\"user_mentions\":[{\"screen_name\":\"kwspope\",\"name\":\"s\",\"id\":3208719671,\"id_str\":\"3208719671\",\"indices\":[3,11]},{\"screen_name\":\"reginamiIlz\",\"name\":\"cindy \\/ exams\",\"id\":2667327632,\"id_str\":\"2667327632\",\"indices\":[13,25]}],\"symbols\":[]},\"favorited\":false,\"retweeted\":false,\"filter_level\":\"low\",\"lang\":\"en\",\"timestamp_ms\":\"1498056350865\"}\n",
      "\n",
      "{\"created_at\":\"Wed Jun 21 14:45:51 +0000 2017\",\"id\":877538057947361281,\"id_str\":\"877538057947361281\",\"text\":\"RT @DanLindsey77: Sunrise view of TS #Cindy zoomed on the center of circulation. Scales resolvable by #GOES16 = amazing. Data prelim.\\u2026 \",\"source\":\"\\u003ca href=\\\"http:\\/\\/twitter.com\\/download\\/iphone\\\" rel=\\\"nofollow\\\"\\u003eTwitter for iPhone\\u003c\\/a\\u003e\",\"truncated\":false,\"in_reply_to_status_id\":null,\"in_reply_to_status_id_str\":null,\"in_reply_to_user_id\":null,\"in_reply_to_user_id_str\":null,\"in_reply_to_screen_name\":null,\"user\":{\"id\":15807856,\"id_str\":\"15807856\",\"name\":\"lineback kerkman\",\"screen_name\":\"lineback\",\"location\":\"Dallas, TX\",\"url\":\"http:\\/\\/Www.foxnews.com\",\"description\":\"Field Producer, Fox News Channel, Dallas Bureau. Covering Texas, Oklahoma, Louisiana, Arkansas and beyond. RTs & links aren't endorsements. Favs are bookmarks.\",\"protected\":false,\"verified\":false,\"followers_count\":3441,\"friends_count\":3196,\"listed_count\":82,\"favourites_count\":643,\"statuses_count\":5360,\"created_at\":\"Mon Aug 11 13:09:16 +0000 2008\",\"utc_offset\":-18000,\"time_zone\":\"Central Time (US & Canada)\",\"geo_enabled\":false,\"lang\":\"en\",\"contributors_enabled\":false,\"is_translator\":false,\"profile_background_color\":\"709397\",\"profile_background_image_url\":\"http:\\/\\/abs.twimg.com\\/images\\/themes\\/theme6\\/bg.gif\",\"profile_background_image_url_https\":\"https:\\/\\/abs.twimg.com\\/images\\/themes\\/theme6\\/bg.gif\",\"profile_background_tile\":false,\"profile_link_color\":\"FF3300\",\"profile_sidebar_border_color\":\"86A4A6\",\"profile_sidebar_fill_color\":\"A0C5C7\",\"profile_text_color\":\"333333\",\"profile_use_background_image\":true,\"profile_image_url\":\"http:\\/\\/pbs.twimg.com\\/profile_images\\/574888894\\/office_normal.bmp\",\"profile_image_url_https\":\"https:\\/\\/pbs.twimg.com\\/profile_images\\/574888894\\/office_normal.bmp\",\"profile_banner_url\":\"https:\\/\\/pbs.twimg.com\\/profile_banners\\/15807856\\/1465903930\",\"default_profile\":false,\"default_profile_image\":false,\"following\":null,\"follow_request_sent\":null,\"notifications\":null},\"geo\":null,\"coordinates\":null,\"place\":null,\"contributors\":null,\"retweeted_status\":{\"created_at\":\"Wed Jun 21 14:24:19 +0000 2017\",\"id\":877532639296704512,\"id_str\":\"877532639296704512\",\"text\":\"Sunrise view of TS #Cindy zoomed on the center of circulation. Scales resolvable by #GOES16 = amazing. Data prelim.\\u2026 https:\\/\\/t.co\\/V5QmX7TlRK\",\"display_text_range\":[0,140],\"source\":\"\\u003ca href=\\\"http:\\/\\/twitter.com\\\" rel=\\\"nofollow\\\"\\u003eTwitter Web Client\\u003c\\/a\\u003e\",\"truncated\":true,\"in_reply_to_status_id\":null,\"in_reply_to_status_id_str\":null,\"in_reply_to_user_id\":null,\"in_reply_to_user_id_str\":null,\"in_reply_to_screen_name\":null,\"user\":{\"id\":2719719666,\"id_str\":\"2719719666\",\"name\":\"Dan Lindsey\",\"screen_name\":\"DanLindsey77\",\"location\":null,\"url\":null,\"description\":\"Atmospheric scientist with NOAA\\/NESDIS at CIRA\\/Colorado State Univ. in Ft. Collins, CO.  UGA\\/CSU\\/CSU. Views posted here are my own.\",\"protected\":false,\"verified\":false,\"followers_count\":3279,\"friends_count\":296,\"listed_count\":214,\"favourites_count\":1677,\"statuses_count\":1443,\"created_at\":\"Sat Aug 09 17:16:37 +0000 2014\",\"utc_offset\":null,\"time_zone\":null,\"geo_enabled\":false,\"lang\":\"en\",\"contributors_enabled\":false,\"is_translator\":false,\"profile_background_color\":\"C0DEED\",\"profile_background_image_url\":\"http:\\/\\/abs.twimg.com\\/images\\/themes\\/theme1\\/bg.png\",\"profile_background_image_url_https\":\"https:\\/\\/abs.twimg.com\\/images\\/themes\\/theme1\\/bg.png\",\"profile_background_tile\":false,\"profile_link_color\":\"1DA1F2\",\"profile_sidebar_border_color\":\"C0DEED\",\"profile_sidebar_fill_color\":\"DDEEF6\",\"profile_text_color\":\"333333\",\"profile_use_background_image\":true,\"profile_image_url\":\"http:\\/\\/pbs.twimg.com\\/profile_images\\/739582495469895680\\/-3rSTqCo_normal.jpg\",\"profile_image_url_https\":\"https:\\/\\/pbs.twimg.com\\/profile_images\\/739582495469895680\\/-3rSTqCo_normal.jpg\",\"profile_banner_url\":\"https:\\/\\/pbs.twimg.com\\/profile_banners\\/2719719666\\/1407611624\",\"default_profile\":true,\"default_profile_image\":false,\"following\":null,\"follow_request_sent\":null,\"notifications\":null},\"geo\":null,\"coordinates\":null,\"place\":null,\"contributors\":null,\"is_quote_status\":false,\"extended_tweet\":{\"full_text\":\"Sunrise view of TS #Cindy zoomed on the center of circulation. Scales resolvable by #GOES16 = amazing. Data prelim. and nonoperational https:\\/\\/t.co\\/JczZ1z4kqX\",\"display_text_range\":[0,134],\"entities\":{\"hashtags\":[{\"text\":\"Cindy\",\"indices\":[19,25]},{\"text\":\"GOES16\",\"indices\":[84,91]}],\"urls\":[],\"user_mentions\":[],\"symbols\":[],\"media\":[{\"id\":877532276774453248,\"id_str\":\"877532276774453248\",\"indices\":[135,158],\"media_url\":\"http:\\/\\/pbs.twimg.com\\/ext_tw_video_thumb\\/877532276774453248\\/pu\\/img\\/2rShmmJTnigG6eSA.jpg\",\"media_url_https\":\"https:\\/\\/pbs.twimg.com\\/ext_tw_video_thumb\\/877532276774453248\\/pu\\/img\\/2rShmmJTnigG6eSA.jpg\",\"url\":\"https:\\/\\/t.co\\/JczZ1z4kqX\",\"display_url\":\"pic.twitter.com\\/JczZ1z4kqX\",\"expanded_url\":\"https:\\/\\/twitter.com\\/DanLindsey77\\/status\\/877532639296704512\\/video\\/1\",\"type\":\"video\",\"sizes\":{\"large\":{\"w\":960,\"h\":720,\"resize\":\"fit\"},\"small\":{\"w\":340,\"h\":255,\"resize\":\"fit\"},\"medium\":{\"w\":600,\"h\":450,\"resize\":\"fit\"},\"thumb\":{\"w\":150,\"h\":150,\"resize\":\"crop\"}},\"video_info\":{\"aspect_ratio\":[4,3],\"duration_millis\":5772,\"variants\":[{\"bitrate\":832000,\"content_type\":\"video\\/mp4\",\"url\":\"https:\\/\\/video.twimg.com\\/ext_tw_video\\/877532276774453248\\/pu\\/vid\\/480x360\\/CWZ89rDi4cx3_0pW.mp4\"},{\"bitrate\":320000,\"content_type\":\"video\\/mp4\",\"url\":\"https:\\/\\/video.twimg.com\\/ext_tw_video\\/877532276774453248\\/pu\\/vid\\/240x180\\/OlIdzABVQQjJEBOX.mp4\"},{\"content_type\":\"application\\/x-mpegURL\",\"url\":\"https:\\/\\/video.twimg.com\\/ext_tw_video\\/877532276774453248\\/pu\\/pl\\/mg9JwnSkPi8zm7Oa.m3u8\"},{\"bitrate\":2176000,\"content_type\":\"video\\/mp4\",\"url\":\"https:\\/\\/video.twimg.com\\/ext_tw_video\\/877532276774453248\\/pu\\/vid\\/960x720\\/Rx8dAn5-lBFbkX7U.mp4\"}]}}]},\"extended_entities\":{\"media\":[{\"id\":877532276774453248,\"id_str\":\"877532276774453248\",\"indices\":[135,158],\"media_url\":\"http:\\/\\/pbs.twimg.com\\/ext_tw_video_thumb\\/877532276774453248\\/pu\\/img\\/2rShmmJTnigG6eSA.jpg\",\"media_url_https\":\"https:\\/\\/pbs.twimg.com\\/ext_tw_video_thumb\\/877532276774453248\\/pu\\/img\\/2rShmmJTnigG6eSA.jpg\",\"url\":\"https:\\/\\/t.co\\/JczZ1z4kqX\",\"display_url\":\"pic.twitter.com\\/JczZ1z4kqX\",\"expanded_url\":\"https:\\/\\/twitter.com\\/DanLindsey77\\/status\\/877532639296704512\\/video\\/1\",\"type\":\"video\",\"sizes\":{\"large\":{\"w\":960,\"h\":720,\"resize\":\"fit\"},\"small\":{\"w\":340,\"h\":255,\"resize\":\"fit\"},\"medium\":{\"w\":600,\"h\":450,\"resize\":\"fit\"},\"thumb\":{\"w\":150,\"h\":150,\"resize\":\"crop\"}},\"video_info\":{\"aspect_ratio\":[4,3],\"duration_millis\":5772,\"variants\":[{\"bitrate\":832000,\"content_type\":\"video\\/mp4\",\"url\":\"https:\\/\\/video.twimg.com\\/ext_tw_video\\/877532276774453248\\/pu\\/vid\\/480x360\\/CWZ89rDi4cx3_0pW.mp4\"},{\"bitrate\":320000,\"content_type\":\"video\\/mp4\",\"url\":\"https:\\/\\/video.twimg.com\\/ext_tw_video\\/877532276774453248\\/pu\\/vid\\/240x180\\/OlIdzABVQQjJEBOX.mp4\"},{\"content_type\":\"application\\/x-mpegURL\",\"url\":\"https:\\/\\/video.twimg.com\\/ext_tw_video\\/877532276774453248\\/pu\\/pl\\/mg9JwnSkPi8zm7Oa.m3u8\"},{\"bitrate\":2176000,\"content_type\":\"video\\/mp4\",\"url\":\"https:\\/\\/video.twimg.com\\/ext_tw_video\\/877532276774453248\\/pu\\/vid\\/960x720\\/Rx8dAn5-lBFbkX7U.mp4\"}]}}]}},\"retweet_count\":8,\"favorite_count\":9,\"entities\":{\"hashtags\":[{\"text\":\"Cindy\",\"indices\":[19,25]},{\"text\":\"GOES16\",\"indices\":[84,91]}],\"urls\":[{\"url\":\"https:\\/\\/t.co\\/V5QmX7TlRK\",\"expanded_url\":\"https:\\/\\/twitter.com\\/i\\/web\\/status\\/877532639296704512\",\"display_url\":\"twitter.com\\/i\\/web\\/status\\/8\\u2026\",\"indices\":[117,140]}],\"user_mentions\":[],\"symbols\":[]},\"favorited\":false,\"retweeted\":false,\"possibly_sensitive\":false,\"filter_level\":\"low\",\"lang\":\"en\"},\"is_quote_status\":false,\"retweet_count\":0,\"favorite_count\":0,\"entities\":{\"hashtags\":[{\"text\":\"Cindy\",\"indices\":[37,43]},{\"text\":\"GOES16\",\"indices\":[102,109]}],\"urls\":[{\"url\":\"\",\"expanded_url\":null,\"indices\":[135,135]}],\"user_mentions\":[{\"screen_name\":\"DanLindsey77\",\"name\":\"Dan Lindsey\",\"id\":2719719666,\"id_str\":\"2719719666\",\"indices\":[3,16]}],\"symbols\":[]},\"favorited\":false,\"retweeted\":false,\"filter_level\":\"low\",\"lang\":\"en\",\"timestamp_ms\":\"1498056351540\"}\n",
      "\n",
      "{\"created_at\":\"Wed Jun 21 14:45:51 +0000 2017\",\"id\":877538059641815041,\"id_str\":\"877538059641815041\",\"text\":\"https:\\/\\/t.co\\/ApuFn3KClH Long stretch of Gulf Coast eyes Tropical Storm Cindy \\u2013 Los Angeles Times #News #sport\\u2026 https:\\/\\/t.co\\/FYtkjn6UrW\",\"display_text_range\":[0,140],\"source\":\"\\u003ca href=\\\"https:\\/\\/ifttt.com\\\" rel=\\\"nofollow\\\"\\u003eIFTTT\\u003c\\/a\\u003e\",\"truncated\":true,\"in_reply_to_status_id\":null,\"in_reply_to_status_id_str\":null,\"in_reply_to_user_id\":null,\"in_reply_to_user_id_str\":null,\"in_reply_to_screen_name\":null,\"user\":{\"id\":754599193298268160,\"id_str\":\"754599193298268160\",\"name\":\"Plus News\",\"screen_name\":\"plusnews6\",\"location\":null,\"url\":null,\"description\":null,\"protected\":false,\"verified\":false,\"followers_count\":18,\"friends_count\":0,\"listed_count\":2,\"favourites_count\":0,\"statuses_count\":15636,\"created_at\":\"Sun Jul 17 08:50:42 +0000 2016\",\"utc_offset\":null,\"time_zone\":null,\"geo_enabled\":false,\"lang\":\"ar\",\"contributors_enabled\":false,\"is_translator\":false,\"profile_background_color\":\"F5F8FA\",\"profile_background_image_url\":\"\",\"profile_background_image_url_https\":\"\",\"profile_background_tile\":false,\"profile_link_color\":\"1DA1F2\",\"profile_sidebar_border_color\":\"C0DEED\",\"profile_sidebar_fill_color\":\"DDEEF6\",\"profile_text_color\":\"333333\",\"profile_use_background_image\":true,\"profile_image_url\":\"http:\\/\\/pbs.twimg.com\\/profile_images\\/754599715145125888\\/rytg-SYM_normal.jpg\",\"profile_image_url_https\":\"https:\\/\\/pbs.twimg.com\\/profile_images\\/754599715145125888\\/rytg-SYM_normal.jpg\",\"profile_banner_url\":\"https:\\/\\/pbs.twimg.com\\/profile_banners\\/754599193298268160\\/1468745587\",\"default_profile\":true,\"default_profile_image\":false,\"following\":null,\"follow_request_sent\":null,\"notifications\":null},\"geo\":null,\"coordinates\":null,\"place\":null,\"contributors\":null,\"is_quote_status\":false,\"extended_tweet\":{\"full_text\":\"https:\\/\\/t.co\\/ApuFn3KClH Long stretch of Gulf Coast eyes Tropical Storm Cindy \\u2013 Los Angeles Times #News #sport #realmadrid #goals #american\\u2026 https:\\/\\/t.co\\/CdPSf5eY0M\",\"display_text_range\":[0,139],\"entities\":{\"hashtags\":[{\"text\":\"News\",\"indices\":[97,102]},{\"text\":\"sport\",\"indices\":[103,109]},{\"text\":\"realmadrid\",\"indices\":[110,121]},{\"text\":\"goals\",\"indices\":[122,128]},{\"text\":\"american\",\"indices\":[129,138]}],\"urls\":[{\"url\":\"https:\\/\\/t.co\\/ApuFn3KClH\",\"expanded_url\":\"http:\\/\\/ift.tt\\/2rVsAo2\",\"display_url\":\"ift.tt\\/2rVsAo2\",\"indices\":[0,23]}],\"user_mentions\":[],\"symbols\":[],\"media\":[{\"id\":877538057867726852,\"id_str\":\"877538057867726852\",\"indices\":[140,163],\"media_url\":\"http:\\/\\/pbs.twimg.com\\/media\\/DC2kNtgXkAQwHYm.jpg\",\"media_url_https\":\"https:\\/\\/pbs.twimg.com\\/media\\/DC2kNtgXkAQwHYm.jpg\",\"url\":\"https:\\/\\/t.co\\/CdPSf5eY0M\",\"display_url\":\"pic.twitter.com\\/CdPSf5eY0M\",\"expanded_url\":\"https:\\/\\/twitter.com\\/plusnews6\\/status\\/877538059641815041\\/photo\\/1\",\"type\":\"photo\",\"sizes\":{\"large\":{\"w\":400,\"h\":247,\"resize\":\"fit\"},\"thumb\":{\"w\":150,\"h\":150,\"resize\":\"crop\"},\"medium\":{\"w\":400,\"h\":247,\"resize\":\"fit\"},\"small\":{\"w\":400,\"h\":247,\"resize\":\"fit\"}}}]},\"extended_entities\":{\"media\":[{\"id\":877538057867726852,\"id_str\":\"877538057867726852\",\"indices\":[140,163],\"media_url\":\"http:\\/\\/pbs.twimg.com\\/media\\/DC2kNtgXkAQwHYm.jpg\",\"media_url_https\":\"https:\\/\\/pbs.twimg.com\\/media\\/DC2kNtgXkAQwHYm.jpg\",\"url\":\"https:\\/\\/t.co\\/CdPSf5eY0M\",\"display_url\":\"pic.twitter.com\\/CdPSf5eY0M\",\"expanded_url\":\"https:\\/\\/twitter.com\\/plusnews6\\/status\\/877538059641815041\\/photo\\/1\",\"type\":\"photo\",\"sizes\":{\"large\":{\"w\":400,\"h\":247,\"resize\":\"fit\"},\"thumb\":{\"w\":150,\"h\":150,\"resize\":\"crop\"},\"medium\":{\"w\":400,\"h\":247,\"resize\":\"fit\"},\"small\":{\"w\":400,\"h\":247,\"resize\":\"fit\"}}}]}},\"retweet_count\":0,\"favorite_count\":0,\"entities\":{\"hashtags\":[{\"text\":\"News\",\"indices\":[97,102]},{\"text\":\"sport\",\"indices\":[103,109]}],\"urls\":[{\"url\":\"https:\\/\\/t.co\\/ApuFn3KClH\",\"expanded_url\":\"http:\\/\\/ift.tt\\/2rVsAo2\",\"display_url\":\"ift.tt\\/2rVsAo2\",\"indices\":[0,23]},{\"url\":\"https:\\/\\/t.co\\/FYtkjn6UrW\",\"expanded_url\":\"https:\\/\\/twitter.com\\/i\\/web\\/status\\/877538059641815041\",\"display_url\":\"twitter.com\\/i\\/web\\/status\\/8\\u2026\",\"indices\":[111,134]}],\"user_mentions\":[],\"symbols\":[]},\"favorited\":false,\"retweeted\":false,\"possibly_sensitive\":false,\"filter_level\":\"low\",\"lang\":\"en\",\"timestamp_ms\":\"1498056351944\"}\n",
      "\n",
      "{\"created_at\":\"Wed Jun 21 14:45:52 +0000 2017\",\"id\":877538061168635906,\"id_str\":\"877538061168635906\",\"text\":\"RT @TXGulfCoastShop: Tropical Storm Cindy Triggers Flooding Along Gulf Coast; State of Emergency Declared in Alabama @weatherchannel https:\\u2026\",\"source\":\"\\u003ca href=\\\"http:\\/\\/twitter.com\\/download\\/android\\\" rel=\\\"nofollow\\\"\\u003eTwitter for Android\\u003c\\/a\\u003e\",\"truncated\":false,\"in_reply_to_status_id\":null,\"in_reply_to_status_id_str\":null,\"in_reply_to_user_id\":null,\"in_reply_to_user_id_str\":null,\"in_reply_to_screen_name\":null,\"user\":{\"id\":20126604,\"id_str\":\"20126604\",\"name\":\"Lisa\",\"screen_name\":\"deepbluesealove\",\"location\":\"In a bunker, a cat on my lap\",\"url\":\"https:\\/\\/www.scottsmarketplace.com\\/store\\/txgulfcoastcreations\",\"description\":\"'All that is necessary for the forces of evil to prevail in the world, is for enough good people to do nothing.' ~Edmund Burke\",\"protected\":false,\"verified\":false,\"followers_count\":7259,\"friends_count\":6991,\"listed_count\":722,\"favourites_count\":56121,\"statuses_count\":340823,\"created_at\":\"Thu Feb 05 07:51:32 +0000 2009\",\"utc_offset\":-18000,\"time_zone\":\"Central Time (US & Canada)\",\"geo_enabled\":false,\"lang\":\"en\",\"contributors_enabled\":false,\"is_translator\":false,\"profile_background_color\":\"B90076\",\"profile_background_image_url\":\"http:\\/\\/pbs.twimg.com\\/profile_background_images\\/35263309\\/pretty_pink_flower_background.jpg\",\"profile_background_image_url_https\":\"https:\\/\\/pbs.twimg.com\\/profile_background_images\\/35263309\\/pretty_pink_flower_background.jpg\",\"profile_background_tile\":false,\"profile_link_color\":\"0099B9\",\"profile_sidebar_border_color\":\"DC5ECC\",\"profile_sidebar_fill_color\":\"EC95E3\",\"profile_text_color\":\"148999\",\"profile_use_background_image\":true,\"profile_image_url\":\"http:\\/\\/pbs.twimg.com\\/profile_images\\/1819004922\\/Seamus_Twitter_Profile_Pic_with_heart_box_normal.jpg\",\"profile_image_url_https\":\"https:\\/\\/pbs.twimg.com\\/profile_images\\/1819004922\\/Seamus_Twitter_Profile_Pic_with_heart_box_normal.jpg\",\"profile_banner_url\":\"https:\\/\\/pbs.twimg.com\\/profile_banners\\/20126604\\/1373489540\",\"default_profile\":false,\"default_profile_image\":false,\"following\":null,\"follow_request_sent\":null,\"notifications\":null},\"geo\":null,\"coordinates\":null,\"place\":null,\"contributors\":null,\"retweeted_status\":{\"created_at\":\"Wed Jun 21 13:25:48 +0000 2017\",\"id\":877517911564447744,\"id_str\":\"877517911564447744\",\"text\":\"Tropical Storm Cindy Triggers Flooding Along Gulf Coast; State of Emergency Declared in Alabama @weatherchannel https:\\/\\/t.co\\/t2ZGbqY2gQ\",\"source\":\"\\u003ca href=\\\"http:\\/\\/twitter.com\\\" rel=\\\"nofollow\\\"\\u003eTwitter Web Client\\u003c\\/a\\u003e\",\"truncated\":false,\"in_reply_to_status_id\":null,\"in_reply_to_status_id_str\":null,\"in_reply_to_user_id\":null,\"in_reply_to_user_id_str\":null,\"in_reply_to_screen_name\":null,\"user\":{\"id\":1424564905,\"id_str\":\"1424564905\",\"name\":\"TXGulfCoastCreations\",\"screen_name\":\"TXGulfCoastShop\",\"location\":\"Texas Gulf Coast\",\"url\":\"https:\\/\\/www.aftcra.com\\/TXGulfCoastCreations\",\"description\":\"I'm a jewelry designer & handcrafter on the Texas Gulf Coast. Please visit my Aftcra and ScottsMarketplace shops. I take care of \\ud83d\\udc3estrays \\ud83d\\udc3ewith the $$ I make.\",\"protected\":false,\"verified\":false,\"followers_count\":2826,\"friends_count\":1837,\"listed_count\":723,\"favourites_count\":3731,\"statuses_count\":109183,\"created_at\":\"Mon May 13 03:34:29 +0000 2013\",\"utc_offset\":null,\"time_zone\":null,\"geo_enabled\":false,\"lang\":\"en\",\"contributors_enabled\":false,\"is_translator\":false,\"profile_background_color\":\"C0DEED\",\"profile_background_image_url\":\"http:\\/\\/abs.twimg.com\\/images\\/themes\\/theme1\\/bg.png\",\"profile_background_image_url_https\":\"https:\\/\\/abs.twimg.com\\/images\\/themes\\/theme1\\/bg.png\",\"profile_background_tile\":false,\"profile_link_color\":\"1DA1F2\",\"profile_sidebar_border_color\":\"C0DEED\",\"profile_sidebar_fill_color\":\"DDEEF6\",\"profile_text_color\":\"333333\",\"profile_use_background_image\":true,\"profile_image_url\":\"http:\\/\\/pbs.twimg.com\\/profile_images\\/658075555833622528\\/7Pk9LArh_normal.jpg\",\"profile_image_url_https\":\"https:\\/\\/pbs.twimg.com\\/profile_images\\/658075555833622528\\/7Pk9LArh_normal.jpg\",\"profile_banner_url\":\"https:\\/\\/pbs.twimg.com\\/profile_banners\\/1424564905\\/1405887147\",\"default_profile\":true,\"default_profile_image\":false,\"following\":null,\"follow_request_sent\":null,\"notifications\":null},\"geo\":null,\"coordinates\":null,\"place\":null,\"contributors\":null,\"is_quote_status\":false,\"retweet_count\":1,\"favorite_count\":0,\"entities\":{\"hashtags\":[],\"urls\":[{\"url\":\"https:\\/\\/t.co\\/t2ZGbqY2gQ\",\"expanded_url\":\"https:\\/\\/weather.com\\/storms\\/hurricane\\/news\\/tropical-storm-cindy-impacts-gulf-coast?utm_medium=social&utm_source=twitter&cm_ven=Twitter&cm_cat=www.twitter.com&cm_pla=tw_feed&cm_ite=tw_social_tweet\",\"display_url\":\"weather.com\\/storms\\/hurrica\\u2026\",\"indices\":[112,135]}],\"user_mentions\":[{\"screen_name\":\"weatherchannel\",\"name\":\"The Weather Channel\",\"id\":20998647,\"id_str\":\"20998647\",\"indices\":[96,111]}],\"symbols\":[]},\"favorited\":false,\"retweeted\":false,\"possibly_sensitive\":false,\"filter_level\":\"low\",\"lang\":\"en\"},\"is_quote_status\":false,\"retweet_count\":0,\"favorite_count\":0,\"entities\":{\"hashtags\":[],\"urls\":[],\"user_mentions\":[{\"screen_name\":\"TXGulfCoastShop\",\"name\":\"TXGulfCoastCreations\",\"id\":1424564905,\"id_str\":\"1424564905\",\"indices\":[3,19]},{\"screen_name\":\"weatherchannel\",\"name\":\"The Weather Channel\",\"id\":20998647,\"id_str\":\"20998647\",\"indices\":[117,132]}],\"symbols\":[]},\"favorited\":false,\"retweeted\":false,\"filter_level\":\"low\",\"lang\":\"en\",\"timestamp_ms\":\"1498056352308\"}\n",
      "\n",
      "{\"created_at\":\"Wed Jun 21 14:45:53 +0000 2017\",\"id\":877538067401379840,\"id_str\":\"877538067401379840\",\"text\":\"17 Millionen Menschen betroffen: \\\"Cindy\\\" fegt \\u00fcber Golfk\\u00fcste der USA https:\\/\\/t.co\\/c2EBV6MSwZ https:\\/\\/t.co\\/vDtWU8ofgE\",\"display_text_range\":[0,92],\"source\":\"\\u003ca href=\\\"https:\\/\\/secure.echoboxapp.com\\\" rel=\\\"nofollow\\\"\\u003eEchobox Social\\u003c\\/a\\u003e\",\"truncated\":false,\"in_reply_to_status_id\":null,\"in_reply_to_status_id_str\":null,\"in_reply_to_user_id\":null,\"in_reply_to_user_id_str\":null,\"in_reply_to_screen_name\":null,\"user\":{\"id\":266664975,\"id_str\":\"266664975\",\"name\":\"euronews Deutsch\",\"screen_name\":\"euronewsde\",\"location\":\"Europe\",\"url\":\"http:\\/\\/de.euronews.com\",\"description\":\"@euronews ist der meistgesehene Nachrichtensender in Europa\",\"protected\":false,\"verified\":true,\"followers_count\":7401,\"friends_count\":1416,\"listed_count\":328,\"favourites_count\":696,\"statuses_count\":69245,\"created_at\":\"Tue Mar 15 16:06:06 +0000 2011\",\"utc_offset\":7200,\"time_zone\":\"Bern\",\"geo_enabled\":false,\"lang\":\"de\",\"contributors_enabled\":false,\"is_translator\":false,\"profile_background_color\":\"626262\",\"profile_background_image_url\":\"http:\\/\\/pbs.twimg.com\\/profile_background_images\\/450916545544196096\\/gWWQg9V9.png\",\"profile_background_image_url_https\":\"https:\\/\\/pbs.twimg.com\\/profile_background_images\\/450916545544196096\\/gWWQg9V9.png\",\"profile_background_tile\":false,\"profile_link_color\":\"0084B4\",\"profile_sidebar_border_color\":\"FFFFFF\",\"profile_sidebar_fill_color\":\"DDEEF6\",\"profile_text_color\":\"333333\",\"profile_use_background_image\":true,\"profile_image_url\":\"http:\\/\\/pbs.twimg.com\\/profile_images\\/732666503888310274\\/gVSrY6WG_normal.jpg\",\"profile_image_url_https\":\"https:\\/\\/pbs.twimg.com\\/profile_images\\/732666503888310274\\/gVSrY6WG_normal.jpg\",\"profile_banner_url\":\"https:\\/\\/pbs.twimg.com\\/profile_banners\\/266664975\\/1416910432\",\"default_profile\":false,\"default_profile_image\":false,\"following\":null,\"follow_request_sent\":null,\"notifications\":null},\"geo\":null,\"coordinates\":null,\"place\":null,\"contributors\":null,\"is_quote_status\":false,\"retweet_count\":0,\"favorite_count\":0,\"entities\":{\"hashtags\":[],\"urls\":[{\"url\":\"https:\\/\\/t.co\\/c2EBV6MSwZ\",\"expanded_url\":\"http:\\/\\/bit.ly\\/2rCCOdW\",\"display_url\":\"bit.ly\\/2rCCOdW\",\"indices\":[69,92]}],\"user_mentions\":[],\"symbols\":[],\"media\":[{\"id\":877538064624693249,\"id_str\":\"877538064624693249\",\"indices\":[93,116],\"media_url\":\"http:\\/\\/pbs.twimg.com\\/media\\/DC2kOGrWsAESNII.jpg\",\"media_url_https\":\"https:\\/\\/pbs.twimg.com\\/media\\/DC2kOGrWsAESNII.jpg\",\"url\":\"https:\\/\\/t.co\\/vDtWU8ofgE\",\"display_url\":\"pic.twitter.com\\/vDtWU8ofgE\",\"expanded_url\":\"https:\\/\\/twitter.com\\/euronewsde\\/status\\/877538067401379840\\/photo\\/1\",\"type\":\"photo\",\"sizes\":{\"small\":{\"w\":680,\"h\":383,\"resize\":\"fit\"},\"thumb\":{\"w\":150,\"h\":150,\"resize\":\"crop\"},\"large\":{\"w\":1000,\"h\":563,\"resize\":\"fit\"},\"medium\":{\"w\":1000,\"h\":563,\"resize\":\"fit\"}}}]},\"extended_entities\":{\"media\":[{\"id\":877538064624693249,\"id_str\":\"877538064624693249\",\"indices\":[93,116],\"media_url\":\"http:\\/\\/pbs.twimg.com\\/media\\/DC2kOGrWsAESNII.jpg\",\"media_url_https\":\"https:\\/\\/pbs.twimg.com\\/media\\/DC2kOGrWsAESNII.jpg\",\"url\":\"https:\\/\\/t.co\\/vDtWU8ofgE\",\"display_url\":\"pic.twitter.com\\/vDtWU8ofgE\",\"expanded_url\":\"https:\\/\\/twitter.com\\/euronewsde\\/status\\/877538067401379840\\/photo\\/1\",\"type\":\"photo\",\"sizes\":{\"small\":{\"w\":680,\"h\":383,\"resize\":\"fit\"},\"thumb\":{\"w\":150,\"h\":150,\"resize\":\"crop\"},\"large\":{\"w\":1000,\"h\":563,\"resize\":\"fit\"},\"medium\":{\"w\":1000,\"h\":563,\"resize\":\"fit\"}}}]},\"favorited\":false,\"retweeted\":false,\"possibly_sensitive\":false,\"filter_level\":\"low\",\"lang\":\"de\",\"timestamp_ms\":\"1498056353794\"}\n",
      "\n"
     ]
    }
   ],
   "source": [
    "for i in data:\n",
    "    if(len(i)>1):\n",
    "        print(i)"
   ]
  },
  {
   "cell_type": "code",
   "execution_count": 42,
   "metadata": {},
   "outputs": [
    {
     "data": {
      "text/plain": [
       "'{\"created_at\":\"Wed Jun 21 14:45:37 +0000 2017\",\"id\":877537999998898177,\"id_str\":\"877537999998898177\",\"text\":\"Long stretch of Gulf Coast eyes Tropical Storm Cindy - Los Angeles Times https:\\\\/\\\\/t.co\\\\/1Q5B20TZn5 https:\\\\/\\\\/t.co\\\\/sO2SuFui9D\",\"display_text_range\":[0,96],\"source\":\"\\\\u003ca href=\\\\\"https:\\\\/\\\\/sites.google.com\\\\/site\\\\/tweentwitterclient\\\\/\\\\\" rel=\\\\\"nofollow\\\\\"\\\\u003eTween\\\\u003c\\\\/a\\\\u003e\",\"truncated\":false,\"in_reply_to_status_id\":null,\"in_reply_to_status_id_str\":null,\"in_reply_to_user_id\":null,\"in_reply_to_user_id_str\":null,\"in_reply_to_screen_name\":null,\"user\":{\"id\":928916084,\"id_str\":\"928916084\",\"name\":\"US Press World\",\"screen_name\":\"USPressWorld\",\"location\":\"Etats-Unis\",\"url\":null,\"description\":\"All the US local and national news, #realtime for you. Don\\'t miss anything, follow us!\",\"protected\":false,\"verified\":false,\"followers_count\":12011,\"friends_count\":12416,\"listed_count\":108,\"favourites_count\":675,\"statuses_count\":123510,\"created_at\":\"Tue Nov 06 03:23:50 +0000 2012\",\"utc_offset\":-25200,\"time_zone\":\"Pacific Time (US & Canada)\",\"geo_enabled\":false,\"lang\":\"en\",\"contributors_enabled\":false,\"is_translator\":false,\"profile_background_color\":\"000000\",\"profile_background_image_url\":\"http:\\\\/\\\\/abs.twimg.com\\\\/images\\\\/themes\\\\/theme1\\\\/bg.png\",\"profile_background_image_url_https\":\"https:\\\\/\\\\/abs.twimg.com\\\\/images\\\\/themes\\\\/theme1\\\\/bg.png\",\"profile_background_tile\":false,\"profile_link_color\":\"3B94D9\",\"profile_sidebar_border_color\":\"000000\",\"profile_sidebar_fill_color\":\"000000\",\"profile_text_color\":\"000000\",\"profile_use_background_image\":false,\"profile_image_url\":\"http:\\\\/\\\\/pbs.twimg.com\\\\/profile_images\\\\/692071485813440512\\\\/MxuoxAoC_normal.png\",\"profile_image_url_https\":\"https:\\\\/\\\\/pbs.twimg.com\\\\/profile_images\\\\/692071485813440512\\\\/MxuoxAoC_normal.png\",\"profile_banner_url\":\"https:\\\\/\\\\/pbs.twimg.com\\\\/profile_banners\\\\/928916084\\\\/1453837665\",\"default_profile\":false,\"default_profile_image\":false,\"following\":null,\"follow_request_sent\":null,\"notifications\":null},\"geo\":null,\"coordinates\":null,\"place\":null,\"contributors\":null,\"is_quote_status\":false,\"retweet_count\":0,\"favorite_count\":0,\"entities\":{\"hashtags\":[],\"urls\":[{\"url\":\"https:\\\\/\\\\/t.co\\\\/1Q5B20TZn5\",\"expanded_url\":\"https:\\\\/\\\\/goo.gl\\\\/TSgn9Z\",\"display_url\":\"goo.gl\\\\/TSgn9Z\",\"indices\":[73,96]}],\"user_mentions\":[],\"symbols\":[],\"media\":[{\"id\":877537997792702464,\"id_str\":\"877537997792702464\",\"indices\":[97,120],\"media_url\":\"http:\\\\/\\\\/pbs.twimg.com\\\\/media\\\\/DC2kKNtXcAA1WC4.jpg\",\"media_url_https\":\"https:\\\\/\\\\/pbs.twimg.com\\\\/media\\\\/DC2kKNtXcAA1WC4.jpg\",\"url\":\"https:\\\\/\\\\/t.co\\\\/sO2SuFui9D\",\"display_url\":\"pic.twitter.com\\\\/sO2SuFui9D\",\"expanded_url\":\"https:\\\\/\\\\/twitter.com\\\\/USPressWorld\\\\/status\\\\/877537999998898177\\\\/photo\\\\/1\",\"type\":\"photo\",\"sizes\":{\"large\":{\"w\":660,\"h\":484,\"resize\":\"fit\"},\"thumb\":{\"w\":150,\"h\":150,\"resize\":\"crop\"},\"medium\":{\"w\":660,\"h\":484,\"resize\":\"fit\"},\"small\":{\"w\":660,\"h\":484,\"resize\":\"fit\"}}}]},\"extended_entities\":{\"media\":[{\"id\":877537997792702464,\"id_str\":\"877537997792702464\",\"indices\":[97,120],\"media_url\":\"http:\\\\/\\\\/pbs.twimg.com\\\\/media\\\\/DC2kKNtXcAA1WC4.jpg\",\"media_url_https\":\"https:\\\\/\\\\/pbs.twimg.com\\\\/media\\\\/DC2kKNtXcAA1WC4.jpg\",\"url\":\"https:\\\\/\\\\/t.co\\\\/sO2SuFui9D\",\"display_url\":\"pic.twitter.com\\\\/sO2SuFui9D\",\"expanded_url\":\"https:\\\\/\\\\/twitter.com\\\\/USPressWorld\\\\/status\\\\/877537999998898177\\\\/photo\\\\/1\",\"type\":\"photo\",\"sizes\":{\"large\":{\"w\":660,\"h\":484,\"resize\":\"fit\"},\"thumb\":{\"w\":150,\"h\":150,\"resize\":\"crop\"},\"medium\":{\"w\":660,\"h\":484,\"resize\":\"fit\"},\"small\":{\"w\":660,\"h\":484,\"resize\":\"fit\"}}}]},\"favorited\":false,\"retweeted\":false,\"possibly_sensitive\":false,\"filter_level\":\"low\",\"lang\":\"en\",\"timestamp_ms\":\"1498056337724\"}\\n'"
      ]
     },
     "execution_count": 42,
     "metadata": {},
     "output_type": "execute_result"
    }
   ],
   "source": [
    "data[0]"
   ]
  },
  {
   "cell_type": "code",
   "execution_count": 17,
   "metadata": {
    "collapsed": true
   },
   "outputs": [],
   "source": [
    "import json"
   ]
  },
  {
   "cell_type": "code",
   "execution_count": 43,
   "metadata": {},
   "outputs": [
    {
     "data": {
      "text/plain": [
       "{'contributors': None,\n",
       " 'coordinates': None,\n",
       " 'created_at': 'Wed Jun 21 14:45:37 +0000 2017',\n",
       " 'display_text_range': [0, 96],\n",
       " 'entities': {'hashtags': [],\n",
       "  'media': [{'display_url': 'pic.twitter.com/sO2SuFui9D',\n",
       "    'expanded_url': 'https://twitter.com/USPressWorld/status/877537999998898177/photo/1',\n",
       "    'id': 877537997792702464,\n",
       "    'id_str': '877537997792702464',\n",
       "    'indices': [97, 120],\n",
       "    'media_url': 'http://pbs.twimg.com/media/DC2kKNtXcAA1WC4.jpg',\n",
       "    'media_url_https': 'https://pbs.twimg.com/media/DC2kKNtXcAA1WC4.jpg',\n",
       "    'sizes': {'large': {'h': 484, 'resize': 'fit', 'w': 660},\n",
       "     'medium': {'h': 484, 'resize': 'fit', 'w': 660},\n",
       "     'small': {'h': 484, 'resize': 'fit', 'w': 660},\n",
       "     'thumb': {'h': 150, 'resize': 'crop', 'w': 150}},\n",
       "    'type': 'photo',\n",
       "    'url': 'https://t.co/sO2SuFui9D'}],\n",
       "  'symbols': [],\n",
       "  'urls': [{'display_url': 'goo.gl/TSgn9Z',\n",
       "    'expanded_url': 'https://goo.gl/TSgn9Z',\n",
       "    'indices': [73, 96],\n",
       "    'url': 'https://t.co/1Q5B20TZn5'}],\n",
       "  'user_mentions': []},\n",
       " 'extended_entities': {'media': [{'display_url': 'pic.twitter.com/sO2SuFui9D',\n",
       "    'expanded_url': 'https://twitter.com/USPressWorld/status/877537999998898177/photo/1',\n",
       "    'id': 877537997792702464,\n",
       "    'id_str': '877537997792702464',\n",
       "    'indices': [97, 120],\n",
       "    'media_url': 'http://pbs.twimg.com/media/DC2kKNtXcAA1WC4.jpg',\n",
       "    'media_url_https': 'https://pbs.twimg.com/media/DC2kKNtXcAA1WC4.jpg',\n",
       "    'sizes': {'large': {'h': 484, 'resize': 'fit', 'w': 660},\n",
       "     'medium': {'h': 484, 'resize': 'fit', 'w': 660},\n",
       "     'small': {'h': 484, 'resize': 'fit', 'w': 660},\n",
       "     'thumb': {'h': 150, 'resize': 'crop', 'w': 150}},\n",
       "    'type': 'photo',\n",
       "    'url': 'https://t.co/sO2SuFui9D'}]},\n",
       " 'favorite_count': 0,\n",
       " 'favorited': False,\n",
       " 'filter_level': 'low',\n",
       " 'geo': None,\n",
       " 'id': 877537999998898177,\n",
       " 'id_str': '877537999998898177',\n",
       " 'in_reply_to_screen_name': None,\n",
       " 'in_reply_to_status_id': None,\n",
       " 'in_reply_to_status_id_str': None,\n",
       " 'in_reply_to_user_id': None,\n",
       " 'in_reply_to_user_id_str': None,\n",
       " 'is_quote_status': False,\n",
       " 'lang': 'en',\n",
       " 'place': None,\n",
       " 'possibly_sensitive': False,\n",
       " 'retweet_count': 0,\n",
       " 'retweeted': False,\n",
       " 'source': '<a href=\"https://sites.google.com/site/tweentwitterclient/\" rel=\"nofollow\">Tween</a>',\n",
       " 'text': 'Long stretch of Gulf Coast eyes Tropical Storm Cindy - Los Angeles Times https://t.co/1Q5B20TZn5 https://t.co/sO2SuFui9D',\n",
       " 'timestamp_ms': '1498056337724',\n",
       " 'truncated': False,\n",
       " 'user': {'contributors_enabled': False,\n",
       "  'created_at': 'Tue Nov 06 03:23:50 +0000 2012',\n",
       "  'default_profile': False,\n",
       "  'default_profile_image': False,\n",
       "  'description': \"All the US local and national news, #realtime for you. Don't miss anything, follow us!\",\n",
       "  'favourites_count': 675,\n",
       "  'follow_request_sent': None,\n",
       "  'followers_count': 12011,\n",
       "  'following': None,\n",
       "  'friends_count': 12416,\n",
       "  'geo_enabled': False,\n",
       "  'id': 928916084,\n",
       "  'id_str': '928916084',\n",
       "  'is_translator': False,\n",
       "  'lang': 'en',\n",
       "  'listed_count': 108,\n",
       "  'location': 'Etats-Unis',\n",
       "  'name': 'US Press World',\n",
       "  'notifications': None,\n",
       "  'profile_background_color': '000000',\n",
       "  'profile_background_image_url': 'http://abs.twimg.com/images/themes/theme1/bg.png',\n",
       "  'profile_background_image_url_https': 'https://abs.twimg.com/images/themes/theme1/bg.png',\n",
       "  'profile_background_tile': False,\n",
       "  'profile_banner_url': 'https://pbs.twimg.com/profile_banners/928916084/1453837665',\n",
       "  'profile_image_url': 'http://pbs.twimg.com/profile_images/692071485813440512/MxuoxAoC_normal.png',\n",
       "  'profile_image_url_https': 'https://pbs.twimg.com/profile_images/692071485813440512/MxuoxAoC_normal.png',\n",
       "  'profile_link_color': '3B94D9',\n",
       "  'profile_sidebar_border_color': '000000',\n",
       "  'profile_sidebar_fill_color': '000000',\n",
       "  'profile_text_color': '000000',\n",
       "  'profile_use_background_image': False,\n",
       "  'protected': False,\n",
       "  'screen_name': 'USPressWorld',\n",
       "  'statuses_count': 123510,\n",
       "  'time_zone': 'Pacific Time (US & Canada)',\n",
       "  'url': None,\n",
       "  'utc_offset': -25200,\n",
       "  'verified': False}}"
      ]
     },
     "execution_count": 43,
     "metadata": {},
     "output_type": "execute_result"
    }
   ],
   "source": [
    "json.loads(data[0])"
   ]
  },
  {
   "cell_type": "code",
   "execution_count": 44,
   "metadata": {
    "collapsed": true
   },
   "outputs": [],
   "source": [
    "myjson=json.loads(data[0])"
   ]
  },
  {
   "cell_type": "code",
   "execution_count": 45,
   "metadata": {},
   "outputs": [
    {
     "data": {
      "text/plain": [
       "{'contributors': None,\n",
       " 'coordinates': None,\n",
       " 'created_at': 'Wed Jun 21 14:45:37 +0000 2017',\n",
       " 'display_text_range': [0, 96],\n",
       " 'entities': {'hashtags': [],\n",
       "  'media': [{'display_url': 'pic.twitter.com/sO2SuFui9D',\n",
       "    'expanded_url': 'https://twitter.com/USPressWorld/status/877537999998898177/photo/1',\n",
       "    'id': 877537997792702464,\n",
       "    'id_str': '877537997792702464',\n",
       "    'indices': [97, 120],\n",
       "    'media_url': 'http://pbs.twimg.com/media/DC2kKNtXcAA1WC4.jpg',\n",
       "    'media_url_https': 'https://pbs.twimg.com/media/DC2kKNtXcAA1WC4.jpg',\n",
       "    'sizes': {'large': {'h': 484, 'resize': 'fit', 'w': 660},\n",
       "     'medium': {'h': 484, 'resize': 'fit', 'w': 660},\n",
       "     'small': {'h': 484, 'resize': 'fit', 'w': 660},\n",
       "     'thumb': {'h': 150, 'resize': 'crop', 'w': 150}},\n",
       "    'type': 'photo',\n",
       "    'url': 'https://t.co/sO2SuFui9D'}],\n",
       "  'symbols': [],\n",
       "  'urls': [{'display_url': 'goo.gl/TSgn9Z',\n",
       "    'expanded_url': 'https://goo.gl/TSgn9Z',\n",
       "    'indices': [73, 96],\n",
       "    'url': 'https://t.co/1Q5B20TZn5'}],\n",
       "  'user_mentions': []},\n",
       " 'extended_entities': {'media': [{'display_url': 'pic.twitter.com/sO2SuFui9D',\n",
       "    'expanded_url': 'https://twitter.com/USPressWorld/status/877537999998898177/photo/1',\n",
       "    'id': 877537997792702464,\n",
       "    'id_str': '877537997792702464',\n",
       "    'indices': [97, 120],\n",
       "    'media_url': 'http://pbs.twimg.com/media/DC2kKNtXcAA1WC4.jpg',\n",
       "    'media_url_https': 'https://pbs.twimg.com/media/DC2kKNtXcAA1WC4.jpg',\n",
       "    'sizes': {'large': {'h': 484, 'resize': 'fit', 'w': 660},\n",
       "     'medium': {'h': 484, 'resize': 'fit', 'w': 660},\n",
       "     'small': {'h': 484, 'resize': 'fit', 'w': 660},\n",
       "     'thumb': {'h': 150, 'resize': 'crop', 'w': 150}},\n",
       "    'type': 'photo',\n",
       "    'url': 'https://t.co/sO2SuFui9D'}]},\n",
       " 'favorite_count': 0,\n",
       " 'favorited': False,\n",
       " 'filter_level': 'low',\n",
       " 'geo': None,\n",
       " 'id': 877537999998898177,\n",
       " 'id_str': '877537999998898177',\n",
       " 'in_reply_to_screen_name': None,\n",
       " 'in_reply_to_status_id': None,\n",
       " 'in_reply_to_status_id_str': None,\n",
       " 'in_reply_to_user_id': None,\n",
       " 'in_reply_to_user_id_str': None,\n",
       " 'is_quote_status': False,\n",
       " 'lang': 'en',\n",
       " 'place': None,\n",
       " 'possibly_sensitive': False,\n",
       " 'retweet_count': 0,\n",
       " 'retweeted': False,\n",
       " 'source': '<a href=\"https://sites.google.com/site/tweentwitterclient/\" rel=\"nofollow\">Tween</a>',\n",
       " 'text': 'Long stretch of Gulf Coast eyes Tropical Storm Cindy - Los Angeles Times https://t.co/1Q5B20TZn5 https://t.co/sO2SuFui9D',\n",
       " 'timestamp_ms': '1498056337724',\n",
       " 'truncated': False,\n",
       " 'user': {'contributors_enabled': False,\n",
       "  'created_at': 'Tue Nov 06 03:23:50 +0000 2012',\n",
       "  'default_profile': False,\n",
       "  'default_profile_image': False,\n",
       "  'description': \"All the US local and national news, #realtime for you. Don't miss anything, follow us!\",\n",
       "  'favourites_count': 675,\n",
       "  'follow_request_sent': None,\n",
       "  'followers_count': 12011,\n",
       "  'following': None,\n",
       "  'friends_count': 12416,\n",
       "  'geo_enabled': False,\n",
       "  'id': 928916084,\n",
       "  'id_str': '928916084',\n",
       "  'is_translator': False,\n",
       "  'lang': 'en',\n",
       "  'listed_count': 108,\n",
       "  'location': 'Etats-Unis',\n",
       "  'name': 'US Press World',\n",
       "  'notifications': None,\n",
       "  'profile_background_color': '000000',\n",
       "  'profile_background_image_url': 'http://abs.twimg.com/images/themes/theme1/bg.png',\n",
       "  'profile_background_image_url_https': 'https://abs.twimg.com/images/themes/theme1/bg.png',\n",
       "  'profile_background_tile': False,\n",
       "  'profile_banner_url': 'https://pbs.twimg.com/profile_banners/928916084/1453837665',\n",
       "  'profile_image_url': 'http://pbs.twimg.com/profile_images/692071485813440512/MxuoxAoC_normal.png',\n",
       "  'profile_image_url_https': 'https://pbs.twimg.com/profile_images/692071485813440512/MxuoxAoC_normal.png',\n",
       "  'profile_link_color': '3B94D9',\n",
       "  'profile_sidebar_border_color': '000000',\n",
       "  'profile_sidebar_fill_color': '000000',\n",
       "  'profile_text_color': '000000',\n",
       "  'profile_use_background_image': False,\n",
       "  'protected': False,\n",
       "  'screen_name': 'USPressWorld',\n",
       "  'statuses_count': 123510,\n",
       "  'time_zone': 'Pacific Time (US & Canada)',\n",
       "  'url': None,\n",
       "  'utc_offset': -25200,\n",
       "  'verified': False}}"
      ]
     },
     "execution_count": 45,
     "metadata": {},
     "output_type": "execute_result"
    }
   ],
   "source": [
    "myjson"
   ]
  },
  {
   "cell_type": "code",
   "execution_count": 48,
   "metadata": {},
   "outputs": [
    {
     "data": {
      "text/plain": [
       "'Wed Jun 21 14:45:37 +0000 2017'"
      ]
     },
     "execution_count": 48,
     "metadata": {},
     "output_type": "execute_result"
    }
   ],
   "source": [
    "myjson['created_at']"
   ]
  },
  {
   "cell_type": "code",
   "execution_count": 49,
   "metadata": {},
   "outputs": [
    {
     "data": {
      "text/plain": [
       "877537999998898177"
      ]
     },
     "execution_count": 49,
     "metadata": {},
     "output_type": "execute_result"
    }
   ],
   "source": [
    "myjson['id']"
   ]
  },
  {
   "cell_type": "code",
   "execution_count": 50,
   "metadata": {},
   "outputs": [
    {
     "data": {
      "text/plain": [
       "'Long stretch of Gulf Coast eyes Tropical Storm Cindy - Los Angeles Times https://t.co/1Q5B20TZn5 https://t.co/sO2SuFui9D'"
      ]
     },
     "execution_count": 50,
     "metadata": {},
     "output_type": "execute_result"
    }
   ],
   "source": [
    "myjson['text']"
   ]
  },
  {
   "cell_type": "code",
   "execution_count": 51,
   "metadata": {},
   "outputs": [
    {
     "data": {
      "text/plain": [
       "{'contributors_enabled': False,\n",
       " 'created_at': 'Tue Nov 06 03:23:50 +0000 2012',\n",
       " 'default_profile': False,\n",
       " 'default_profile_image': False,\n",
       " 'description': \"All the US local and national news, #realtime for you. Don't miss anything, follow us!\",\n",
       " 'favourites_count': 675,\n",
       " 'follow_request_sent': None,\n",
       " 'followers_count': 12011,\n",
       " 'following': None,\n",
       " 'friends_count': 12416,\n",
       " 'geo_enabled': False,\n",
       " 'id': 928916084,\n",
       " 'id_str': '928916084',\n",
       " 'is_translator': False,\n",
       " 'lang': 'en',\n",
       " 'listed_count': 108,\n",
       " 'location': 'Etats-Unis',\n",
       " 'name': 'US Press World',\n",
       " 'notifications': None,\n",
       " 'profile_background_color': '000000',\n",
       " 'profile_background_image_url': 'http://abs.twimg.com/images/themes/theme1/bg.png',\n",
       " 'profile_background_image_url_https': 'https://abs.twimg.com/images/themes/theme1/bg.png',\n",
       " 'profile_background_tile': False,\n",
       " 'profile_banner_url': 'https://pbs.twimg.com/profile_banners/928916084/1453837665',\n",
       " 'profile_image_url': 'http://pbs.twimg.com/profile_images/692071485813440512/MxuoxAoC_normal.png',\n",
       " 'profile_image_url_https': 'https://pbs.twimg.com/profile_images/692071485813440512/MxuoxAoC_normal.png',\n",
       " 'profile_link_color': '3B94D9',\n",
       " 'profile_sidebar_border_color': '000000',\n",
       " 'profile_sidebar_fill_color': '000000',\n",
       " 'profile_text_color': '000000',\n",
       " 'profile_use_background_image': False,\n",
       " 'protected': False,\n",
       " 'screen_name': 'USPressWorld',\n",
       " 'statuses_count': 123510,\n",
       " 'time_zone': 'Pacific Time (US & Canada)',\n",
       " 'url': None,\n",
       " 'utc_offset': -25200,\n",
       " 'verified': False}"
      ]
     },
     "execution_count": 51,
     "metadata": {},
     "output_type": "execute_result"
    }
   ],
   "source": [
    "myjson['user']"
   ]
  },
  {
   "cell_type": "code",
   "execution_count": 53,
   "metadata": {},
   "outputs": [
    {
     "data": {
      "text/plain": [
       "12011"
      ]
     },
     "execution_count": 53,
     "metadata": {},
     "output_type": "execute_result"
    }
   ],
   "source": [
    "myjson['user']['followers_count']"
   ]
  },
  {
   "cell_type": "code",
   "execution_count": null,
   "metadata": {
    "collapsed": true
   },
   "outputs": [],
   "source": []
  }
 ],
 "metadata": {
  "kernelspec": {
   "display_name": "Python 3",
   "language": "python",
   "name": "python3"
  },
  "language_info": {
   "codemirror_mode": {
    "name": "ipython",
    "version": 3
   },
   "file_extension": ".py",
   "mimetype": "text/x-python",
   "name": "python",
   "nbconvert_exporter": "python",
   "pygments_lexer": "ipython3",
   "version": "3.6.1"
  }
 },
 "nbformat": 4,
 "nbformat_minor": 2
}
