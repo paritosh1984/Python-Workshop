{
 "cells": [
  {
   "cell_type": "markdown",
   "metadata": {},
   "source": [
    "### Open and write"
   ]
  },
  {
   "cell_type": "code",
   "execution_count": 14,
   "metadata": {
    "collapsed": true
   },
   "outputs": [],
   "source": [
    "review = \"I have a few leave Bluetooth and \\\n",
    "I'm gonna say this really brings the BOOM.\\\n",
    "My music is bumping the colors are amazing \\\n",
    "and it also plays FM radio how amazing is that?!\"\n",
    "\n",
    "review_file = open('review','wt')\n",
    "review_file.write(review)\n",
    "review_file.close()"
   ]
  },
  {
   "cell_type": "markdown",
   "metadata": {},
   "source": [
    "Use <b style='color:blue'> %load <file_name> </b> to open any file and <b style='color:blue'>%ls </b> to show files in current directory."
   ]
  },
  {
   "cell_type": "code",
   "execution_count": 15,
   "metadata": {},
   "outputs": [
    {
     "name": "stdout",
     "output_type": "stream",
     "text": [
      " Volume in drive C has no label.\n",
      " Volume Serial Number is 5889-7B5D\n",
      "\n",
      " Directory of C:\\Users\\vivek\\Documents\\GitHub\\Python-Workshop\\Introducing Python\\Chapter 8\n",
      "\n",
      "08/13/2017  07:10 PM    <DIR>          .\n",
      "08/13/2017  07:10 PM    <DIR>          ..\n",
      "08/13/2017  07:06 PM    <DIR>          .ipynb_checkpoints\n",
      "08/13/2017  07:10 PM             7,799 Data IO.ipynb\n",
      "08/10/2017  06:28 PM           144,031 Data IO.pdf\n",
      "08/10/2017  06:28 PM            57,592 Data IO.synctex.gz\n",
      "08/10/2017  06:28 PM             6,871 Data IO.tex\n",
      "08/13/2017  07:10 PM               166 review\n",
      "               5 File(s)        216,459 bytes\n",
      "               3 Dir(s)  457,020,923,904 bytes free\n"
     ]
    }
   ],
   "source": [
    "%ls"
   ]
  },
  {
   "cell_type": "code",
   "execution_count": null,
   "metadata": {},
   "outputs": [],
   "source": [
    "# %load review\n",
    "I have a few leave Bluetooth and I'm gonna say this really brings the BOOM.My music is bumping the colors are amazing and it also plays FM radio how amazing is that?!"
   ]
  },
  {
   "cell_type": "markdown",
   "metadata": {},
   "source": [
    "As we can see above, a new 'review' text file has been created."
   ]
  },
  {
   "cell_type": "markdown",
   "metadata": {},
   "source": [
    "### Write in Chunks"
   ]
  },
  {
   "cell_type": "code",
   "execution_count": 16,
   "metadata": {
    "collapsed": true
   },
   "outputs": [],
   "source": [
    "def write_in_chunks(text,chunk):\n",
    "    fout = open('output_file', 'wt')\n",
    "    size = len(text)\n",
    "    offset = 0\n",
    "    chunk = chunk\n",
    "    while True:\n",
    "        if offset > size:\n",
    "            break\n",
    "        fout.write(text[offset:offset+chunk])\n",
    "        offset += chunk\n",
    "    fout.close()"
   ]
  },
  {
   "cell_type": "code",
   "execution_count": 20,
   "metadata": {
    "collapsed": true
   },
   "outputs": [],
   "source": [
    "write_in_chunks(review, 10)"
   ]
  },
  {
   "cell_type": "code",
   "execution_count": null,
   "metadata": {},
   "outputs": [],
   "source": [
    "# %load review\n",
    "I have a few leave Bluetooth and I'm gonna say this really brings the BOOM.My music is bumping the colors are amazing and it also plays FM radio how amazing is that?!"
   ]
  },
  {
   "cell_type": "markdown",
   "metadata": {},
   "source": [
    "### Preventing Overwriting of Critical Data"
   ]
  },
  {
   "cell_type": "code",
   "execution_count": 28,
   "metadata": {},
   "outputs": [
    {
     "name": "stdout",
     "output_type": "stream",
     "text": [
      " Volume in drive C has no label.\n",
      " Volume Serial Number is 5889-7B5D\n",
      "\n",
      " Directory of C:\\Users\\vivek\\Documents\\GitHub\\Python-Workshop\\Introducing Python\\Chapter 8\n",
      "\n",
      "08/13/2017  07:14 PM    <DIR>          .\n",
      "08/13/2017  07:14 PM    <DIR>          ..\n",
      "08/13/2017  07:06 PM    <DIR>          .ipynb_checkpoints\n",
      "08/13/2017  07:14 PM             9,215 Data IO.ipynb\n",
      "08/10/2017  06:28 PM           144,031 Data IO.pdf\n",
      "08/10/2017  06:28 PM            57,592 Data IO.synctex.gz\n",
      "08/10/2017  06:28 PM             6,871 Data IO.tex\n",
      "08/13/2017  07:13 PM               166 output_file\n",
      "08/13/2017  07:10 PM               166 review\n",
      "               6 File(s)        218,041 bytes\n",
      "               3 Dir(s)  457,020,932,096 bytes free\n"
     ]
    }
   ],
   "source": [
    "%ls"
   ]
  },
  {
   "cell_type": "markdown",
   "metadata": {},
   "source": [
    "As we can see there is already an output_file in the directory, let's try to overwrite it."
   ]
  },
  {
   "cell_type": "code",
   "execution_count": 26,
   "metadata": {},
   "outputs": [
    {
     "name": "stdout",
     "output_type": "stream",
     "text": [
      "The file already exists!.  That was a close one.\n"
     ]
    }
   ],
   "source": [
    "try:\n",
    "    fout = open('output_file','xt')\n",
    "    fout.write('Lets overwrite your data')\n",
    "except FileExistsError:\n",
    "    print('The file already exists!.  That was a close one.')\n",
    "\n"
   ]
  },
  {
   "cell_type": "markdown",
   "metadata": {},
   "source": [
    "### Read a file using Read()"
   ]
  },
  {
   "cell_type": "code",
   "execution_count": 29,
   "metadata": {},
   "outputs": [
    {
     "data": {
      "text/plain": [
       "166"
      ]
     },
     "execution_count": 29,
     "metadata": {},
     "output_type": "execute_result"
    }
   ],
   "source": [
    "review = ''\n",
    "fin = open('output_file', 'rt')\n",
    "chunk = 100\n",
    "while True:\n",
    "    fragment = fin.read(chunk)\n",
    "    if not fragment:\n",
    "        break\n",
    "    review += fragment\n",
    "fin.close()\n",
    "len(review)"
   ]
  },
  {
   "cell_type": "markdown",
   "metadata": {},
   "source": [
    "### Read a file using Iterator"
   ]
  },
  {
   "cell_type": "code",
   "execution_count": 30,
   "metadata": {},
   "outputs": [
    {
     "name": "stdout",
     "output_type": "stream",
     "text": [
      "I have a few leave Bluetooth and I'm gonna say this really brings the BOOM.My music is bumping the colors are amazing and it also plays FM radio how amazing is that?!\n"
     ]
    }
   ],
   "source": [
    "review = ''\n",
    "fin = open('review', 'rt' )\n",
    "for line in fin:\n",
    "    print(line)\n",
    "    review += line\n",
    "\n",
    "fin.close()"
   ]
  },
  {
   "cell_type": "markdown",
   "metadata": {},
   "source": [
    "### Closing files with \"with\""
   ]
  },
  {
   "cell_type": "code",
   "execution_count": 31,
   "metadata": {
    "collapsed": true
   },
   "outputs": [],
   "source": [
    "with open('review', 'wt') as fout:\n",
    "    fout.write(review)"
   ]
  },
  {
   "cell_type": "markdown",
   "metadata": {},
   "source": [
    "#### Use seek and tell\n",
    "Python keeps track of where we are in the file during read and write operations. The tell() function returns the current offset from the beginning of the file, in bytes."
   ]
  },
  {
   "cell_type": "code",
   "execution_count": 32,
   "metadata": {},
   "outputs": [
    {
     "data": {
      "text/plain": [
       "0"
      ]
     },
     "execution_count": 32,
     "metadata": {},
     "output_type": "execute_result"
    }
   ],
   "source": [
    "fin = open('review', 'rt')\n",
    "fin.tell()"
   ]
  },
  {
   "cell_type": "markdown",
   "metadata": {},
   "source": [
    "The seek() function lets us jump to another byte offset in the file. This gives us more flexibility in reading that lets us choose an offset of choice and there is no need to read every byte in a file to read the last one:"
   ]
  },
  {
   "cell_type": "code",
   "execution_count": 33,
   "metadata": {},
   "outputs": [
    {
     "data": {
      "text/plain": [
       "\"I have a few leave Bluetooth and I'm gonna say this really brings the BOOM.My music is bumping the colors are amazing and it also plays FM radio how amazing is that?!\""
      ]
     },
     "execution_count": 33,
     "metadata": {},
     "output_type": "execute_result"
    }
   ],
   "source": [
    "fin = open('review', 'rt')\n",
    "fin.read()"
   ]
  },
  {
   "cell_type": "code",
   "execution_count": 34,
   "metadata": {},
   "outputs": [
    {
     "data": {
      "text/plain": [
       "50"
      ]
     },
     "execution_count": 34,
     "metadata": {},
     "output_type": "execute_result"
    }
   ],
   "source": [
    "fin.seek(50) # read from the byte 50"
   ]
  },
  {
   "cell_type": "code",
   "execution_count": 35,
   "metadata": {},
   "outputs": [
    {
     "data": {
      "text/plain": [
       "'s really brings the BOOM.My music is bumping the colors are amazing and it also plays FM radio how amazing is that?!'"
      ]
     },
     "execution_count": 35,
     "metadata": {},
     "output_type": "execute_result"
    }
   ],
   "source": [
    "fin.read()"
   ]
  },
  {
   "cell_type": "code",
   "execution_count": 36,
   "metadata": {},
   "outputs": [
    {
     "data": {
      "text/plain": [
       "'olors are amazing and it also plays FM radio how amazing is that?!'"
      ]
     },
     "execution_count": 36,
     "metadata": {},
     "output_type": "execute_result"
    }
   ],
   "source": [
    "fin.seek(100) # read from the byte 100\n",
    "fin.read()"
   ]
  },
  {
   "cell_type": "markdown",
   "metadata": {
    "collapsed": true
   },
   "source": [
    "#### Using readlines() function to reading file one line at a time."
   ]
  },
  {
   "cell_type": "code",
   "execution_count": 37,
   "metadata": {},
   "outputs": [
    {
     "name": "stdout",
     "output_type": "stream",
     "text": [
      " Volume in drive C has no label.\n",
      " Volume Serial Number is 5889-7B5D\n",
      "\n",
      " Directory of C:\\Users\\vivek\\Documents\\GitHub\\Python-Workshop\\Introducing Python\\Chapter 8\n",
      "\n",
      "08/13/2017  07:18 PM    <DIR>          .\n",
      "08/13/2017  07:18 PM    <DIR>          ..\n",
      "08/13/2017  07:06 PM    <DIR>          .ipynb_checkpoints\n",
      "08/13/2017  07:18 PM            10,129 Data IO.ipynb\n",
      "08/10/2017  06:28 PM           144,031 Data IO.pdf\n",
      "08/10/2017  06:28 PM            57,592 Data IO.synctex.gz\n",
      "08/10/2017  06:28 PM             6,871 Data IO.tex\n",
      "08/13/2017  07:13 PM               166 output_file\n",
      "08/13/2017  07:16 PM               166 review\n",
      "               6 File(s)        218,955 bytes\n",
      "               3 Dir(s)  457,020,493,824 bytes free\n"
     ]
    }
   ],
   "source": [
    "%ls"
   ]
  },
  {
   "cell_type": "code",
   "execution_count": 39,
   "metadata": {},
   "outputs": [],
   "source": [
    "fp=open('review')"
   ]
  },
  {
   "cell_type": "code",
   "execution_count": 40,
   "metadata": {
    "collapsed": true
   },
   "outputs": [],
   "source": [
    "data=fp.readlines()"
   ]
  },
  {
   "cell_type": "code",
   "execution_count": 41,
   "metadata": {
    "collapsed": true
   },
   "outputs": [],
   "source": [
    "fp.close()"
   ]
  },
  {
   "cell_type": "code",
   "execution_count": 42,
   "metadata": {},
   "outputs": [
    {
     "data": {
      "text/plain": [
       "\"I have a few leave Bluetooth and I'm gonna say this really brings the BOOM.My music is bumping the colors are amazing and it also plays FM radio how amazing is that?!\""
      ]
     },
     "execution_count": 42,
     "metadata": {},
     "output_type": "execute_result"
    }
   ],
   "source": [
    "data[0]"
   ]
  },
  {
   "cell_type": "code",
   "execution_count": 43,
   "metadata": {},
   "outputs": [
    {
     "ename": "IndexError",
     "evalue": "list index out of range",
     "output_type": "error",
     "traceback": [
      "\u001b[1;31m---------------------------------------------------------------------------\u001b[0m",
      "\u001b[1;31mIndexError\u001b[0m                                Traceback (most recent call last)",
      "\u001b[1;32m<ipython-input-43-c805864c0d75>\u001b[0m in \u001b[0;36m<module>\u001b[1;34m()\u001b[0m\n\u001b[1;32m----> 1\u001b[1;33m \u001b[0mdata\u001b[0m\u001b[1;33m[\u001b[0m\u001b[1;36m1\u001b[0m\u001b[1;33m]\u001b[0m\u001b[1;33m\u001b[0m\u001b[0m\n\u001b[0m",
      "\u001b[1;31mIndexError\u001b[0m: list index out of range"
     ]
    }
   ],
   "source": [
    "data[1]"
   ]
  },
  {
   "cell_type": "markdown",
   "metadata": {},
   "source": [
    "We get above error because the file contains only one line of text"
   ]
  },
  {
   "cell_type": "code",
   "execution_count": 49,
   "metadata": {},
   "outputs": [
    {
     "name": "stdout",
     "output_type": "stream",
     "text": [
      " Volume in drive C has no label.\n",
      " Volume Serial Number is 5889-7B5D\n",
      "\n",
      " Directory of C:\\Users\\vivek\\Documents\\GitHub\\Python-Workshop\\Introducing Python\\Chapter 8\n",
      "\n",
      "08/13/2017  07:23 PM    <DIR>          .\n",
      "08/13/2017  07:23 PM    <DIR>          ..\n",
      "08/13/2017  07:06 PM    <DIR>          .ipynb_checkpoints\n",
      "08/13/2017  07:22 PM            13,973 Data IO.ipynb\n",
      "08/10/2017  06:28 PM           144,031 Data IO.pdf\n",
      "08/10/2017  06:28 PM            57,592 Data IO.synctex.gz\n",
      "08/10/2017  06:28 PM             6,871 Data IO.tex\n",
      "08/13/2017  07:23 PM                33 json.txt\n",
      "08/13/2017  07:13 PM               166 output_file\n",
      "08/13/2017  07:16 PM               166 review\n",
      "               7 File(s)        222,832 bytes\n",
      "               3 Dir(s)  457,020,416,000 bytes free\n"
     ]
    }
   ],
   "source": [
    "%ls"
   ]
  },
  {
   "cell_type": "code",
   "execution_count": 66,
   "metadata": {},
   "outputs": [],
   "source": [
    "fp=open('json.txt')"
   ]
  },
  {
   "cell_type": "code",
   "execution_count": 67,
   "metadata": {
    "collapsed": true
   },
   "outputs": [],
   "source": [
    "import json"
   ]
  },
  {
   "cell_type": "code",
   "execution_count": 68,
   "metadata": {},
   "outputs": [],
   "source": [
    "data=json.load(fp)"
   ]
  },
  {
   "cell_type": "code",
   "execution_count": 69,
   "metadata": {},
   "outputs": [
    {
     "data": {
      "text/plain": [
       "{'BOB': {'age': '21', 'country': 'USA', 'state': 'FL'}}"
      ]
     },
     "execution_count": 69,
     "metadata": {},
     "output_type": "execute_result"
    }
   ],
   "source": [
    "data"
   ]
  },
  {
   "cell_type": "code",
   "execution_count": null,
   "metadata": {
    "collapsed": true
   },
   "outputs": [],
   "source": [
    "# %load json.txt\n",
    "{\"BOB\":{\"age\":\"21\",\"state\":\"FL\",\"country\":\"USA\"}}"
   ]
  },
  {
   "cell_type": "code",
   "execution_count": null,
   "metadata": {
    "collapsed": true
   },
   "outputs": [],
   "source": []
  }
 ],
 "metadata": {
  "kernelspec": {
   "display_name": "Python 3",
   "language": "python",
   "name": "python3"
  },
  "language_info": {
   "codemirror_mode": {
    "name": "ipython",
    "version": 3
   },
   "file_extension": ".py",
   "mimetype": "text/x-python",
   "name": "python",
   "nbconvert_exporter": "python",
   "pygments_lexer": "ipython3",
   "version": "3.6.1"
  }
 },
 "nbformat": 4,
 "nbformat_minor": 2
}
