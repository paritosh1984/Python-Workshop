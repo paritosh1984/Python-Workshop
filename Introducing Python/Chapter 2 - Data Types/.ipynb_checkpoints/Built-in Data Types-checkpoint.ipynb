{
 "cells": [
  {
   "cell_type": "markdown",
   "metadata": {},
   "source": [
    "### Objects in Python\n",
    "\n",
    "Python supports the object-oriented programming paradigm. This means that Python considers data to be the focal point of the problem-solving process. In Python, as well as in any other object-oriented programming language, we define a class to be a description of what the data looks like (the state) and what the data can do (the behavior). \n",
    "\n",
    "Data items are called <b>objects</b> in the object-oriented paradigm. An object is an instance of a class."
   ]
  },
  {
   "cell_type": "markdown",
   "metadata": {},
   "source": [
    "### Built-in Atomic Data Types"
   ]
  },
  {
   "cell_type": "markdown",
   "metadata": {},
   "source": [
    "Let's discuss the atomic data types. Python has two main built-in numeric classes that implement the integer and floating point data types. \n",
    "\n",
    "These Python classes are called int and float. The standard arithmetic operations, +, -, *, /, and ** (exponentiation), can be used with parentheses, forcing the order of operations away from normal operator precedence. Other very useful operations are the remainder (modulo) operator, %, and integer division, //. Note that when two integers are divided, the result is a floating point. The integer division operator returns the integer portion of the quotient by truncating any fractional part."
   ]
  },
  {
   "cell_type": "markdown",
   "metadata": {},
   "source": [
    "### Examples"
   ]
  },
  {
   "cell_type": "code",
   "execution_count": 1,
   "metadata": {},
   "outputs": [
    {
     "name": "stdout",
     "output_type": "stream",
     "text": [
      "1024\n",
      "3.0\n",
      "3.5\n",
      "3.6\n",
      "3\n",
      "3\n"
     ]
    }
   ],
   "source": [
    "# Python has an exponentiation operator using the double stars \"**\"\n",
    "# Raise 2 to the power 10\n",
    "print(2**10)\n",
    "\n",
    "# Note that when two integers are divided, the result is a floating point. \n",
    "print(6/2)\n",
    "print(7/2)\n",
    "print(7.2/2)\n",
    "\n",
    "# We have an integer division operator '//' . The result we see is the \n",
    "print(6//2)\n",
    "print(7//2)"
   ]
  },
  {
   "cell_type": "markdown",
   "metadata": {},
   "source": [
    "In Python 3, 5 / 2 will return 2.5 and 5 // 2 will return 2. The former is the floating point division, and the latter is floor division, sometimes also called integer division.\n",
    "\n",
    "In Python 2.2 or later in the 2.x line, there is no difference for integers unless you perform a from __future__ import division, which causes Python 2.x to adopt the behavior of 3.0\n",
    "\n",
    "Regardless of the future import, 5.0 // 2 will return 2.0 since that's the floor division result of the operation."
   ]
  },
  {
   "cell_type": "code",
   "execution_count": 2,
   "metadata": {},
   "outputs": [
    {
     "name": "stdout",
     "output_type": "stream",
     "text": [
      "2.5\n",
      "2\n",
      "2.0\n",
      "2.1\n",
      "2.0\n"
     ]
    }
   ],
   "source": [
    "# Floating point division\n",
    "print(5/2)\n",
    "# FLoor division or integer division\n",
    "print(5//2)\n",
    "# Regardless of the future import in Python 2.x, 5.0 // 2 will return 2.0 since that's the floor division result.\n",
    "# and in python 3\n",
    "print(5.0//2) # because its floor division, it chops off the decimal part.\n",
    "# Some more examples\n",
    "print(4.2/2) # floating point division.\n",
    "print(4.2//2) # because its floor division, it chops off the decimal part."
   ]
  },
  {
   "cell_type": "markdown",
   "metadata": {},
   "source": [
    "Floor division always returns the integral part of the quotient. http://python-reference.readthedocs.io/en/latest/docs/operators/floor_division.html"
   ]
  },
  {
   "cell_type": "markdown",
   "metadata": {},
   "source": [
    "### A few more examples"
   ]
  },
  {
   "cell_type": "code",
   "execution_count": 17,
   "metadata": {},
   "outputs": [
    {
     "name": "stdout",
     "output_type": "stream",
     "text": [
      "0.5\n"
     ]
    }
   ],
   "source": [
    "# This operation will return the quotient part of the result\n",
    "print(3/6)"
   ]
  },
  {
   "cell_type": "code",
   "execution_count": 3,
   "metadata": {},
   "outputs": [
    {
     "name": "stdout",
     "output_type": "stream",
     "text": [
      "0\n"
     ]
    }
   ],
   "source": [
    "# The floor division will ignore the portion after the decimal point and hence the result will be zero.\n",
    "print(3//6)"
   ]
  },
  {
   "cell_type": "code",
   "execution_count": 4,
   "metadata": {},
   "outputs": [
    {
     "name": "stdout",
     "output_type": "stream",
     "text": [
      "0.5714285714285714\n",
      "0\n"
     ]
    }
   ],
   "source": [
    "print(4/7)\n",
    "print(4//7)"
   ]
  },
  {
   "cell_type": "markdown",
   "metadata": {},
   "source": [
    "### The modulo operator"
   ]
  },
  {
   "cell_type": "code",
   "execution_count": 5,
   "metadata": {},
   "outputs": [
    {
     "name": "stdout",
     "output_type": "stream",
     "text": [
      "1\n"
     ]
    }
   ],
   "source": [
    "# Always returns the remainder part of a division operation\n",
    "print(7%3)"
   ]
  },
  {
   "cell_type": "code",
   "execution_count": 4,
   "metadata": {},
   "outputs": [
    {
     "name": "stdout",
     "output_type": "stream",
     "text": [
      "0.3000000000000007\n"
     ]
    }
   ],
   "source": [
    "# Dividing a fractional number with modulo operator\n",
    "print(9.3%3)"
   ]
  },
  {
   "cell_type": "code",
   "execution_count": 7,
   "metadata": {},
   "outputs": [
    {
     "name": "stdout",
     "output_type": "stream",
     "text": [
      "3\n"
     ]
    }
   ],
   "source": [
    "# The following example is worth noticing as the remainder from the division operation\n",
    "# is the numerator of the fraction itself!!\n",
    "print(3%6)"
   ]
  },
  {
   "cell_type": "code",
   "execution_count": null,
   "metadata": {
    "collapsed": true
   },
   "outputs": [],
   "source": []
  },
  {
   "cell_type": "markdown",
   "metadata": {},
   "source": [
    "## Identifiers in Python\n",
    "Identifiers are used in programming languages as names. In Python, identifiers start with a letter or an underscore (_), are case sensitive, and can be of any length. Remember that it is always a good idea to use names that convey meaning so that your code is easier to read and understand.\n",
    "\n",
    "A Python variable is created when a name is used for the first time on the left-hand side of an assignment statement. Assignment statements provide a way to associate a name with a value. The variable will hold a reference to a piece of data and not the data itself. Consider the following session:"
   ]
  },
  {
   "cell_type": "code",
   "execution_count": 39,
   "metadata": {
    "collapsed": true
   },
   "outputs": [],
   "source": [
    "theSum = 0\n",
    "theSum = 'zero'\n",
    "theSum = True"
   ]
  },
  {
   "cell_type": "markdown",
   "metadata": {},
   "source": [
    "The assignment statement theSum = 0 creates a variable called theSum and lets it hold the reference to the data object containing the data '0'. \n",
    "\n",
    "In general, the right-hand side of the assignment statement is evaluated and a reference to the resulting data object is “assigned” to the name on the left-hand side. \n",
    "\n",
    "At this point in our example, the type of the variable is integer as that is the type of the data currently being referred to by theSum."
   ]
  },
  {
   "cell_type": "markdown",
   "metadata": {},
   "source": [
    "### Dynamic Typing In Python\n",
    "\n",
    "If the type of the data changes, as shown above with the boolean value True, so does the type of the variable (theSum is now of the type boolean). For example,"
   ]
  },
  {
   "cell_type": "code",
   "execution_count": 10,
   "metadata": {},
   "outputs": [
    {
     "data": {
      "text/plain": [
       "int"
      ]
     },
     "execution_count": 10,
     "metadata": {},
     "output_type": "execute_result"
    }
   ],
   "source": [
    "a = 0\n",
    "type(a) # results in int"
   ]
  },
  {
   "cell_type": "code",
   "execution_count": 11,
   "metadata": {},
   "outputs": [
    {
     "data": {
      "text/plain": [
       "bool"
      ]
     },
     "execution_count": 11,
     "metadata": {},
     "output_type": "execute_result"
    }
   ],
   "source": [
    "# Assign a Boolean object to a\n",
    "a = True\n",
    "type(a) # results in bool"
   ]
  },
  {
   "cell_type": "markdown",
   "metadata": {},
   "source": [
    "\n",
    "The assignment statement changes the reference being held by the variable. This is a dynamic characteristic of Python. The same variable can refer to many different types of data."
   ]
  },
  {
   "cell_type": "code",
   "execution_count": null,
   "metadata": {
    "collapsed": true
   },
   "outputs": [],
   "source": []
  }
 ],
 "metadata": {
  "anaconda-cloud": {},
  "kernelspec": {
   "display_name": "Python 3",
   "language": "python",
   "name": "python3"
  },
  "language_info": {
   "codemirror_mode": {
    "name": "ipython",
    "version": 3
   },
   "file_extension": ".py",
   "mimetype": "text/x-python",
   "name": "python",
   "nbconvert_exporter": "python",
   "pygments_lexer": "ipython3",
   "version": "3.6.4"
  }
 },
 "nbformat": 4,
 "nbformat_minor": 1
}
