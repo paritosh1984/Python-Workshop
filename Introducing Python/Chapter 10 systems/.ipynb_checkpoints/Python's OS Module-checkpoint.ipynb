{
 "cells": [
  {
   "cell_type": "markdown",
   "metadata": {},
   "source": [
    "Python provides a variety of system functions through the \"os\" module (for “operating system”), which we’ll import for all the programs in this chapter."
   ]
  },
  {
   "cell_type": "code",
   "execution_count": 1,
   "metadata": {
    "collapsed": true
   },
   "outputs": [],
   "source": [
    "import os"
   ]
  },
  {
   "cell_type": "markdown",
   "metadata": {},
   "source": [
    "## File Operations"
   ]
  },
  {
   "cell_type": "markdown",
   "metadata": {},
   "source": [
    "### Create a file with open()\n",
    "open() creates a new file if it doesn't exist already."
   ]
  },
  {
   "cell_type": "code",
   "execution_count": 2,
   "metadata": {
    "collapsed": true
   },
   "outputs": [],
   "source": [
    "fout = open('my_file.txt', 'wt')"
   ]
  },
  {
   "cell_type": "code",
   "execution_count": 3,
   "metadata": {
    "collapsed": true
   },
   "outputs": [],
   "source": [
    "fout.close()"
   ]
  },
  {
   "cell_type": "markdown",
   "metadata": {},
   "source": [
    "### Check if the file has been created with exists()"
   ]
  },
  {
   "cell_type": "code",
   "execution_count": 5,
   "metadata": {},
   "outputs": [
    {
     "data": {
      "text/plain": [
       "True"
      ]
     },
     "execution_count": 5,
     "metadata": {},
     "output_type": "execute_result"
    }
   ],
   "source": [
    "os.path.exists('my_file.txt')"
   ]
  },
  {
   "cell_type": "code",
   "execution_count": 6,
   "metadata": {},
   "outputs": [
    {
     "name": "stdout",
     "output_type": "stream",
     "text": [
      " Volume in drive C has no label.\n",
      " Volume Serial Number is 5889-7B5D\n",
      "\n",
      " Directory of C:\\Users\\vivek\\Documents\\GitHub\\Python-Workshop\\Introducing Python\\Chapter 10\n",
      "\n",
      "08/14/2017  06:03 AM    <DIR>          .\n",
      "08/14/2017  06:03 AM    <DIR>          ..\n",
      "08/14/2017  06:02 AM    <DIR>          .ipynb_checkpoints\n",
      "08/14/2017  06:03 AM                 0 my_file.txt\n",
      "08/10/2017  06:28 PM            16,227 Python's OS Module.ipynb\n",
      "08/14/2017  06:02 AM             1,749 Systems.aux\n",
      "08/14/2017  06:02 AM            49,162 Systems.log\n",
      "08/14/2017  06:02 AM               763 Systems.nav\n",
      "08/14/2017  06:02 AM                 0 Systems.out\n",
      "08/14/2017  06:02 AM           121,583 Systems.pdf\n",
      "08/14/2017  06:02 AM                 0 Systems.snm\n",
      "08/14/2017  06:02 AM            22,271 Systems.synctex.gz\n",
      "08/14/2017  06:02 AM             2,957 Systems.tex\n",
      "08/14/2017  06:02 AM                 0 Systems.toc\n",
      "08/14/2017  06:02 AM               329 Systems.vrb\n",
      "              12 File(s)        215,041 bytes\n",
      "               3 Dir(s)  455,358,951,424 bytes free\n"
     ]
    }
   ],
   "source": [
    "%ls"
   ]
  },
  {
   "cell_type": "code",
   "execution_count": 7,
   "metadata": {},
   "outputs": [
    {
     "data": {
      "text/plain": [
       "False"
      ]
     },
     "execution_count": 7,
     "metadata": {},
     "output_type": "execute_result"
    }
   ],
   "source": [
    "# let's check if it is a false alarm.\n",
    "os.path.exists('does_it_exist.txt')"
   ]
  },
  {
   "cell_type": "markdown",
   "metadata": {},
   "source": [
    "### To check if a name refers to a file"
   ]
  },
  {
   "cell_type": "code",
   "execution_count": 8,
   "metadata": {},
   "outputs": [
    {
     "data": {
      "text/plain": [
       "True"
      ]
     },
     "execution_count": 8,
     "metadata": {},
     "output_type": "execute_result"
    }
   ],
   "source": [
    "name = 'my_file.txt'\n",
    "os.path.isfile(name)"
   ]
  },
  {
   "cell_type": "code",
   "execution_count": 9,
   "metadata": {},
   "outputs": [
    {
     "data": {
      "text/plain": [
       "False"
      ]
     },
     "execution_count": 9,
     "metadata": {},
     "output_type": "execute_result"
    }
   ],
   "source": [
    "# to check if its a directory\n",
    "os.path.isdir(name)"
   ]
  },
  {
   "cell_type": "code",
   "execution_count": 11,
   "metadata": {},
   "outputs": [
    {
     "data": {
      "text/plain": [
       "'C:\\\\Users\\\\vivek\\\\Documents\\\\GitHub\\\\Python-Workshop\\\\Introducing Python\\\\Chapter 10'"
      ]
     },
     "execution_count": 11,
     "metadata": {},
     "output_type": "execute_result"
    }
   ],
   "source": [
    "# Get the current working directory\n",
    "os.getcwd()"
   ]
  },
  {
   "cell_type": "markdown",
   "metadata": {},
   "source": [
    "Note that the above path represents the working directory from which you started anaconda."
   ]
  },
  {
   "cell_type": "code",
   "execution_count": 13,
   "metadata": {
    "collapsed": true
   },
   "outputs": [],
   "source": [
    "name=os.getcwd()"
   ]
  },
  {
   "cell_type": "code",
   "execution_count": 14,
   "metadata": {},
   "outputs": [
    {
     "data": {
      "text/plain": [
       "'C:\\\\Users\\\\vivek\\\\Documents\\\\GitHub\\\\Python-Workshop\\\\Introducing Python\\\\Chapter 10'"
      ]
     },
     "execution_count": 14,
     "metadata": {},
     "output_type": "execute_result"
    }
   ],
   "source": [
    "name"
   ]
  },
  {
   "cell_type": "code",
   "execution_count": 15,
   "metadata": {},
   "outputs": [
    {
     "data": {
      "text/plain": [
       "True"
      ]
     },
     "execution_count": 15,
     "metadata": {},
     "output_type": "execute_result"
    }
   ],
   "source": [
    "os.path.isdir(name)"
   ]
  },
  {
   "cell_type": "markdown",
   "metadata": {},
   "source": [
    "The shorthand of this is to use a single dot (.) which points to the current directory, and two dots (..) which stands for the parent directory."
   ]
  },
  {
   "cell_type": "code",
   "execution_count": 16,
   "metadata": {},
   "outputs": [
    {
     "data": {
      "text/plain": [
       "True"
      ]
     },
     "execution_count": 16,
     "metadata": {},
     "output_type": "execute_result"
    }
   ],
   "source": [
    "os.path.isdir('.') # This will of course result in True as it points to the parent directory"
   ]
  },
  {
   "cell_type": "markdown",
   "metadata": {},
   "source": [
    "##### The copy() function in the shutil module can be used to copy the content of one file on to another:"
   ]
  },
  {
   "cell_type": "code",
   "execution_count": 18,
   "metadata": {},
   "outputs": [
    {
     "data": {
      "text/plain": [
       "'new_file.txt'"
      ]
     },
     "execution_count": 18,
     "metadata": {},
     "output_type": "execute_result"
    }
   ],
   "source": [
    "import shutil\n",
    "shutil.copy('my_file.txt','new_file.txt')"
   ]
  },
  {
   "cell_type": "code",
   "execution_count": 19,
   "metadata": {},
   "outputs": [
    {
     "name": "stdout",
     "output_type": "stream",
     "text": [
      " Volume in drive C has no label.\n",
      " Volume Serial Number is 5889-7B5D\n",
      "\n",
      " Directory of C:\\Users\\vivek\\Documents\\GitHub\\Python-Workshop\\Introducing Python\\Chapter 10\n",
      "\n",
      "08/14/2017  06:05 AM    <DIR>          .\n",
      "08/14/2017  06:05 AM    <DIR>          ..\n",
      "08/14/2017  06:04 AM    <DIR>          .ipynb_checkpoints\n",
      "08/14/2017  06:03 AM                 0 my_file.txt\n",
      "08/14/2017  06:05 AM                 0 new_file.txt\n",
      "08/14/2017  06:04 AM            16,545 Python's OS Module.ipynb\n",
      "08/14/2017  06:02 AM             1,749 Systems.aux\n",
      "08/14/2017  06:02 AM            49,162 Systems.log\n",
      "08/14/2017  06:02 AM               763 Systems.nav\n",
      "08/14/2017  06:02 AM                 0 Systems.out\n",
      "08/14/2017  06:02 AM           121,583 Systems.pdf\n",
      "08/14/2017  06:02 AM                 0 Systems.snm\n",
      "08/14/2017  06:02 AM            22,271 Systems.synctex.gz\n",
      "08/14/2017  06:02 AM             2,957 Systems.tex\n",
      "08/14/2017  06:02 AM                 0 Systems.toc\n",
      "08/14/2017  06:02 AM               329 Systems.vrb\n",
      "              13 File(s)        215,359 bytes\n",
      "               3 Dir(s)  455,192,633,344 bytes free\n"
     ]
    }
   ],
   "source": [
    "%ls"
   ]
  },
  {
   "cell_type": "code",
   "execution_count": 21,
   "metadata": {},
   "outputs": [],
   "source": [
    "# Lets read the content of the newly created file:\n",
    "f = open('new_file.txt')\n",
    "f.read()\n",
    "f.close()"
   ]
  },
  {
   "cell_type": "markdown",
   "metadata": {},
   "source": [
    "### Change name of a file with rename()"
   ]
  },
  {
   "cell_type": "code",
   "execution_count": 23,
   "metadata": {},
   "outputs": [
    {
     "ename": "FileNotFoundError",
     "evalue": "[WinError 2] The system cannot find the file specified: 'my_file.txt' -> 'copy_cat.txt'",
     "output_type": "error",
     "traceback": [
      "\u001b[1;31m---------------------------------------------------------------------------\u001b[0m",
      "\u001b[1;31mFileNotFoundError\u001b[0m                         Traceback (most recent call last)",
      "\u001b[1;32m<ipython-input-23-63e825ffe5fa>\u001b[0m in \u001b[0;36m<module>\u001b[1;34m()\u001b[0m\n\u001b[1;32m----> 1\u001b[1;33m \u001b[0mos\u001b[0m\u001b[1;33m.\u001b[0m\u001b[0mrename\u001b[0m\u001b[1;33m(\u001b[0m\u001b[1;34m'my_file.txt'\u001b[0m\u001b[1;33m,\u001b[0m \u001b[1;34m'copy_cat.txt'\u001b[0m\u001b[1;33m)\u001b[0m\u001b[1;33m\u001b[0m\u001b[0m\n\u001b[0m",
      "\u001b[1;31mFileNotFoundError\u001b[0m: [WinError 2] The system cannot find the file specified: 'my_file.txt' -> 'copy_cat.txt'"
     ]
    }
   ],
   "source": [
    "os.rename('my_file.txt', 'copy_cat.txt')"
   ]
  },
  {
   "cell_type": "code",
   "execution_count": 24,
   "metadata": {},
   "outputs": [
    {
     "name": "stdout",
     "output_type": "stream",
     "text": [
      " Volume in drive C has no label.\n",
      " Volume Serial Number is 5889-7B5D\n",
      "\n",
      " Directory of C:\\Users\\vivek\\Documents\\GitHub\\Python-Workshop\\Introducing Python\\Chapter 10\n",
      "\n",
      "08/14/2017  06:06 AM    <DIR>          .\n",
      "08/14/2017  06:06 AM    <DIR>          ..\n",
      "08/14/2017  06:04 AM    <DIR>          .ipynb_checkpoints\n",
      "08/14/2017  06:03 AM                 0 copy_cat.txt\n",
      "08/14/2017  06:05 AM                 0 new_file.txt\n",
      "08/14/2017  06:06 AM            19,391 Python's OS Module.ipynb\n",
      "08/14/2017  06:02 AM             1,749 Systems.aux\n",
      "08/14/2017  06:02 AM            49,162 Systems.log\n",
      "08/14/2017  06:02 AM               763 Systems.nav\n",
      "08/14/2017  06:02 AM                 0 Systems.out\n",
      "08/14/2017  06:02 AM           121,583 Systems.pdf\n",
      "08/14/2017  06:02 AM                 0 Systems.snm\n",
      "08/14/2017  06:02 AM            22,271 Systems.synctex.gz\n",
      "08/14/2017  06:02 AM             2,957 Systems.tex\n",
      "08/14/2017  06:02 AM                 0 Systems.toc\n",
      "08/14/2017  06:02 AM               329 Systems.vrb\n",
      "              13 File(s)        218,205 bytes\n",
      "               3 Dir(s)  455,198,072,832 bytes free\n"
     ]
    }
   ],
   "source": [
    "%ls"
   ]
  },
  {
   "cell_type": "code",
   "execution_count": null,
   "metadata": {
    "collapsed": true
   },
   "outputs": [],
   "source": []
  },
  {
   "cell_type": "markdown",
   "metadata": {
    "collapsed": true
   },
   "source": [
    "Python's file operations are modelled after the Unis Operating System. On a Unix system, chmod() changes file permissions. There are read, write, and execute permissions for the user. The command takes an intensely compressed octal (base 8) value that combines user, group, and other permissions. "
   ]
  },
  {
   "cell_type": "code",
   "execution_count": 25,
   "metadata": {
    "collapsed": true
   },
   "outputs": [],
   "source": [
    "## To make the file my_file.txt read only by its owner:\n",
    "os.chmod('copy_cat.txt', 0o400)"
   ]
  },
  {
   "cell_type": "code",
   "execution_count": 27,
   "metadata": {},
   "outputs": [
    {
     "ename": "PermissionError",
     "evalue": "[Errno 13] Permission denied: 'copy_cat.txt'",
     "output_type": "error",
     "traceback": [
      "\u001b[1;31m---------------------------------------------------------------------------\u001b[0m",
      "\u001b[1;31mPermissionError\u001b[0m                           Traceback (most recent call last)",
      "\u001b[1;32m<ipython-input-27-b040fcd3c77b>\u001b[0m in \u001b[0;36m<module>\u001b[1;34m()\u001b[0m\n\u001b[0;32m      1\u001b[0m \u001b[1;31m# Now if we try to open the file in write mode.\u001b[0m\u001b[1;33m\u001b[0m\u001b[1;33m\u001b[0m\u001b[0m\n\u001b[1;32m----> 2\u001b[1;33m \u001b[0mf\u001b[0m \u001b[1;33m=\u001b[0m \u001b[0mopen\u001b[0m\u001b[1;33m(\u001b[0m\u001b[1;34m'copy_cat.txt'\u001b[0m\u001b[1;33m,\u001b[0m\u001b[1;34m'wt'\u001b[0m\u001b[1;33m)\u001b[0m\u001b[1;33m\u001b[0m\u001b[0m\n\u001b[0m",
      "\u001b[1;31mPermissionError\u001b[0m: [Errno 13] Permission denied: 'copy_cat.txt'"
     ]
    }
   ],
   "source": [
    "# Now if we try to open the file in write mode.\n",
    "f = open('copy_cat.txt','wt')"
   ]
  },
  {
   "cell_type": "code",
   "execution_count": 29,
   "metadata": {
    "collapsed": true
   },
   "outputs": [],
   "source": [
    "os.chmod('copy_cat.txt', 0o777)"
   ]
  },
  {
   "cell_type": "code",
   "execution_count": 31,
   "metadata": {
    "collapsed": true
   },
   "outputs": [],
   "source": [
    "# Now if we try to open the file in write mode.\n",
    "f = open('copy_cat.txt','wt')"
   ]
  },
  {
   "cell_type": "code",
   "execution_count": 32,
   "metadata": {
    "collapsed": true
   },
   "outputs": [],
   "source": [
    "f.close()"
   ]
  },
  {
   "cell_type": "markdown",
   "metadata": {},
   "source": [
    "### Get absolute path of a file with abspath()\n",
    "This function expands a relative name to an absolute one."
   ]
  },
  {
   "cell_type": "code",
   "execution_count": 33,
   "metadata": {},
   "outputs": [
    {
     "data": {
      "text/plain": [
       "'C:\\\\Users\\\\vivek\\\\Documents\\\\GitHub\\\\Python-Workshop\\\\Introducing Python\\\\Chapter 10\\\\copy_cat.txt'"
      ]
     },
     "execution_count": 33,
     "metadata": {},
     "output_type": "execute_result"
    }
   ],
   "source": [
    "os.path.abspath('copy_cat.txt')"
   ]
  },
  {
   "cell_type": "code",
   "execution_count": 34,
   "metadata": {},
   "outputs": [
    {
     "data": {
      "text/plain": [
       "False"
      ]
     },
     "execution_count": 34,
     "metadata": {},
     "output_type": "execute_result"
    }
   ],
   "source": [
    "### Remove a file using remove()\n",
    "os.remove('new_file.txt')\n",
    "os.path.exists('new_file.txt') # returns false as the file has been deleted."
   ]
  },
  {
   "cell_type": "code",
   "execution_count": null,
   "metadata": {
    "collapsed": true
   },
   "outputs": [],
   "source": []
  },
  {
   "cell_type": "markdown",
   "metadata": {
    "collapsed": true
   },
   "source": [
    "## Directory Operations\n",
    "\n",
    "In general, in almost all operating systems, files exist in directories that we commonly refer to as folders. The container all these files and directories is called the file system. Python's os module has a variety of directory operations to offer."
   ]
  },
  {
   "cell_type": "markdown",
   "metadata": {},
   "source": [
    "### Create a directory with mkdir()\n",
    "We can create a directory as follows:"
   ]
  },
  {
   "cell_type": "code",
   "execution_count": 35,
   "metadata": {
    "collapsed": true
   },
   "outputs": [],
   "source": [
    "os.mkdir('new_dir')"
   ]
  },
  {
   "cell_type": "code",
   "execution_count": 36,
   "metadata": {},
   "outputs": [
    {
     "data": {
      "text/plain": [
       "True"
      ]
     },
     "execution_count": 36,
     "metadata": {},
     "output_type": "execute_result"
    }
   ],
   "source": [
    "os.path.exists('new_dir')"
   ]
  },
  {
   "cell_type": "markdown",
   "metadata": {},
   "source": [
    "### Delete with rmdir()\n",
    "We can remove the directory as follows:"
   ]
  },
  {
   "cell_type": "code",
   "execution_count": 37,
   "metadata": {
    "collapsed": true
   },
   "outputs": [],
   "source": [
    "os.rmdir('new_dir')"
   ]
  },
  {
   "cell_type": "code",
   "execution_count": 38,
   "metadata": {},
   "outputs": [
    {
     "data": {
      "text/plain": [
       "False"
      ]
     },
     "execution_count": 38,
     "metadata": {},
     "output_type": "execute_result"
    }
   ],
   "source": [
    "os.path.exists('new_dir')"
   ]
  },
  {
   "cell_type": "code",
   "execution_count": 39,
   "metadata": {},
   "outputs": [
    {
     "data": {
      "text/plain": [
       "['.ipynb_checkpoints',\n",
       " 'copy_cat.txt',\n",
       " \"Python's OS Module.ipynb\",\n",
       " 'Systems.aux',\n",
       " 'Systems.log',\n",
       " 'Systems.nav',\n",
       " 'Systems.out',\n",
       " 'Systems.pdf',\n",
       " 'Systems.snm',\n",
       " 'Systems.synctex.gz',\n",
       " 'Systems.tex',\n",
       " 'Systems.toc',\n",
       " 'Systems.vrb']"
      ]
     },
     "execution_count": 39,
     "metadata": {},
     "output_type": "execute_result"
    }
   ],
   "source": [
    "# Get all the files and directories in a directory as follows. \n",
    "# Here, we get all the content of the parent directory.\n",
    "os.listdir('.')"
   ]
  },
  {
   "cell_type": "markdown",
   "metadata": {},
   "source": [
    "### List Matching Files with glob()\n",
    "The glob() function matches file or directory names by using Unix shell rules rather than the more complete regular expression syntax.\n",
    "\n",
    "1. '\\*' matches everything (regular expression would expect .*)\n",
    "2. ? matches a single character\n",
    "3. [abc] matches character a, b, or c\n",
    "4. [!abc] matches any character except a, b, or c"
   ]
  },
  {
   "cell_type": "code",
   "execution_count": 40,
   "metadata": {},
   "outputs": [
    {
     "data": {
      "text/plain": [
       "['copy_cat.txt']"
      ]
     },
     "execution_count": 40,
     "metadata": {},
     "output_type": "execute_result"
    }
   ],
   "source": [
    "import glob\n",
    "glob.glob('C*')"
   ]
  },
  {
   "cell_type": "code",
   "execution_count": 42,
   "metadata": {},
   "outputs": [],
   "source": [
    "#Lets change the current working directory for the next exercise\n",
    "path = '../'\n",
    "os.chdir(path)"
   ]
  },
  {
   "cell_type": "code",
   "execution_count": 43,
   "metadata": {},
   "outputs": [
    {
     "data": {
      "text/plain": [
       "'C:\\\\Users\\\\vivek\\\\Documents\\\\GitHub\\\\Python-Workshop\\\\Introducing Python'"
      ]
     },
     "execution_count": 43,
     "metadata": {},
     "output_type": "execute_result"
    }
   ],
   "source": [
    "os.getcwd()"
   ]
  },
  {
   "cell_type": "code",
   "execution_count": 44,
   "metadata": {},
   "outputs": [
    {
     "data": {
      "text/plain": [
       "['Chapter 1',\n",
       " 'Chapter 10',\n",
       " 'Chapter 2',\n",
       " 'Chapter 3',\n",
       " 'Chapter 4',\n",
       " 'Chapter 5',\n",
       " 'Chapter 6',\n",
       " 'Chapter 7',\n",
       " 'Chapter 8']"
      ]
     },
     "execution_count": 44,
     "metadata": {},
     "output_type": "execute_result"
    }
   ],
   "source": [
    "# Lets look at the files the directory contains.\n",
    "os.listdir()"
   ]
  },
  {
   "cell_type": "code",
   "execution_count": 46,
   "metadata": {},
   "outputs": [
    {
     "data": {
      "text/plain": [
       "['Chapter 1',\n",
       " 'Chapter 10',\n",
       " 'Chapter 2',\n",
       " 'Chapter 3',\n",
       " 'Chapter 4',\n",
       " 'Chapter 5',\n",
       " 'Chapter 6',\n",
       " 'Chapter 7',\n",
       " 'Chapter 8']"
      ]
     },
     "execution_count": 46,
     "metadata": {},
     "output_type": "execute_result"
    }
   ],
   "source": [
    "# Find all files that begin with s\n",
    "glob.glob('C*')"
   ]
  },
  {
   "cell_type": "code",
   "execution_count": 47,
   "metadata": {},
   "outputs": [
    {
     "data": {
      "text/plain": [
       "['Chapter 3']"
      ]
     },
     "execution_count": 47,
     "metadata": {},
     "output_type": "execute_result"
    }
   ],
   "source": [
    "# Find all files that begin with both C and ends with 3\n",
    "glob.glob('[C]*3') # Notice that 3 is from the file extension mp3"
   ]
  },
  {
   "cell_type": "code",
   "execution_count": null,
   "metadata": {
    "collapsed": true
   },
   "outputs": [],
   "source": []
  },
  {
   "cell_type": "code",
   "execution_count": null,
   "metadata": {
    "collapsed": true
   },
   "outputs": [],
   "source": []
  }
 ],
 "metadata": {
  "anaconda-cloud": {},
  "kernelspec": {
   "display_name": "Python 3",
   "language": "python",
   "name": "python3"
  },
  "language_info": {
   "codemirror_mode": {
    "name": "ipython",
    "version": 3
   },
   "file_extension": ".py",
   "mimetype": "text/x-python",
   "name": "python",
   "nbconvert_exporter": "python",
   "pygments_lexer": "ipython3",
   "version": "3.6.1"
  }
 },
 "nbformat": 4,
 "nbformat_minor": 2
}
