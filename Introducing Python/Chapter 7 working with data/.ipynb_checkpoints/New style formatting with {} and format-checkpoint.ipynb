{
 "cells": [
  {
   "cell_type": "markdown",
   "metadata": {
    "collapsed": true
   },
   "source": [
    "### String Formatting with {}"
   ]
  },
  {
   "cell_type": "code",
   "execution_count": 6,
   "metadata": {},
   "outputs": [
    {
     "name": "stdout",
     "output_type": "stream",
     "text": [
      "My dog meoh is 4 years old.\n"
     ]
    }
   ],
   "source": [
    "age = 4\n",
    "name = 'meoh'\n",
    "print('My dog {} is {} years old.'.format(name,age))"
   ]
  },
  {
   "cell_type": "markdown",
   "metadata": {
    "collapsed": true
   },
   "source": [
    "In Python 2, the arguments were supposed to be provided in order. But with the new style, we can customize the order.\n"
   ]
  },
  {
   "cell_type": "code",
   "execution_count": 2,
   "metadata": {},
   "outputs": [
    {
     "name": "stdout",
     "output_type": "stream",
     "text": [
      "The names of the three musketeers are Aramis, Athos, Porthos.\n"
     ]
    }
   ],
   "source": [
    "m1 = 'Athos'\n",
    "m2 = 'Porthos'\n",
    "m3 = 'Aramis'\n",
    "\n",
    "print('The names of the three musketeers are {2}, {0}, {1}.'.format(m1,m2,m3))"
   ]
  },
  {
   "cell_type": "code",
   "execution_count": 5,
   "metadata": {},
   "outputs": [
    {
     "name": "stdout",
     "output_type": "stream",
     "text": [
      "The last musketeers is Aramis.\n"
     ]
    }
   ],
   "source": [
    "print('The last musketeers is {2}.'.format(m1,m2,m3))"
   ]
  },
  {
   "cell_type": "markdown",
   "metadata": {},
   "source": [
    "The arguments can also be a dictionary of named arguments and the specifier can include their names:\n"
   ]
  },
  {
   "cell_type": "code",
   "execution_count": 6,
   "metadata": {},
   "outputs": [
    {
     "name": "stdout",
     "output_type": "stream",
     "text": [
      "The names of the three musketeers are Athos, Porthos, Aramis.\n"
     ]
    }
   ],
   "source": [
    "print('The names of the three musketeers are {musk_1}, {musk_2}, {musk_3}.'.format(musk_1='Athos',musk_2='Porthos',musk_3='Aramis'))"
   ]
  },
  {
   "cell_type": "code",
   "execution_count": 7,
   "metadata": {},
   "outputs": [
    {
     "name": "stdout",
     "output_type": "stream",
     "text": [
      "The last musketeers is Aramis.\n"
     ]
    }
   ],
   "source": [
    "print('The last musketeers is {musk_3}.'.format(musk_1='Athos',musk_2='Porthos',musk_3='Aramis'))"
   ]
  },
  {
   "cell_type": "code",
   "execution_count": 8,
   "metadata": {},
   "outputs": [
    {
     "name": "stdout",
     "output_type": "stream",
     "text": [
      "Year| Principal\n",
      "  1 1050.00\n",
      "  2 1102.50\n",
      "  3 1157.62\n",
      "  4 1215.51\n",
      "  5 1276.28\n"
     ]
    }
   ],
   "source": [
    "## Aligning Strings in Python 2 \n",
    "\n",
    "# Lets take a simple exampple\n",
    "# Calculate Compound Interest\n",
    "principal = 1000 # Initial amount\n",
    "rate = 0.05 # Interest rate\n",
    "numyears = 5 # Number of years\n",
    "year = 1\n",
    "print(\"Year|\", \"Principal\")\n",
    "while year <= numyears:\n",
    "    principal = principal * (1 + rate)\n",
    "    print(\"%3d %0.2f\" % (year, principal))\n",
    "    year += 1"
   ]
  },
  {
   "cell_type": "markdown",
   "metadata": {},
   "source": [
    "Don't understand what the weird sequence means??\n",
    "We'll change the values of the first formatting and we'll understand it a lil better.\n",
    "\n",
    "\"%3d\" formats an integer right-aligned in a column of width 3, and \"%0.2f\" formats a floating-point number so that only two digits appear after the decimal point. Lets change it and see the difference."
   ]
  },
  {
   "cell_type": "code",
   "execution_count": 48,
   "metadata": {},
   "outputs": [
    {
     "name": "stdout",
     "output_type": "stream",
     "text": [
      "Year| Principal\n",
      "    1 1050.0000\n",
      "    2 1102.5000\n",
      "    3 1157.6250\n",
      "    4 1215.5063\n",
      "    5 1276.2816\n"
     ]
    }
   ],
   "source": [
    "principal = 1000 # Initial amount\n",
    "rate = 0.05 # Interest rate\n",
    "numyears = 5 # Number of years\n",
    "year = 1\n",
    "print(\"Year|\", \"Principal\")\n",
    "while year <= numyears:\n",
    "    principal = principal * (1 + rate)\n",
    "    print(\"%5d %0.4f\" % (year, principal))\n",
    "    year += 1"
   ]
  },
  {
   "cell_type": "markdown",
   "metadata": {},
   "source": [
    "As you can see, \"%5d\" has formatted the integer right-aligned in a column of width 5, and \"%0.4f\" has formatted the floating-point number so that four digits appear after the decimal point."
   ]
  },
  {
   "cell_type": "markdown",
   "metadata": {},
   "source": [
    "#### Modern Approach - Format function()\n",
    "A more modern approach to string formatting is to format each part individually\n",
    "using the format() function. format() uses format specifiers that are similar to those used with the traditional string\n",
    "formatting operator (%) For example:"
   ]
  },
  {
   "cell_type": "code",
   "execution_count": 35,
   "metadata": {
    "collapsed": true
   },
   "outputs": [],
   "source": [
    "# Calculate Compound Interest\n",
    "principal = 1000 # Initial amount\n",
    "rate = 0.05 # Interest rate\n",
    "numyears = 5 # Number of years\n",
    "year = 1\n",
    "while year <= numyears:\n",
    "    principal = principal * (1 + rate)\n",
    "    # Lets print the results in individual cells for better understanding.\n",
    "    year += 1"
   ]
  },
  {
   "cell_type": "code",
   "execution_count": 50,
   "metadata": {},
   "outputs": [
    {
     "name": "stdout",
     "output_type": "stream",
     "text": [
      " 6 1276.28\n"
     ]
    }
   ],
   "source": [
    "print(format(year,\"2d\"),format(principal,\"0.2f\")) # 2d will right align it by two columns."
   ]
  },
  {
   "cell_type": "code",
   "execution_count": 51,
   "metadata": {},
   "outputs": [
    {
     "name": "stdout",
     "output_type": "stream",
     "text": [
      "   6 1276.2816\n"
     ]
    }
   ],
   "source": [
    "print(format(year,\"4d\"),format(principal,\"0.4f\")) # .04f will print the first 4 decimal points."
   ]
  },
  {
   "cell_type": "code",
   "execution_count": 52,
   "metadata": {},
   "outputs": [
    {
     "name": "stdout",
     "output_type": "stream",
     "text": [
      "     6 1276.281563\n"
     ]
    }
   ],
   "source": [
    "# Here is another variation. The number before the colon \":\" represents the variables themselves, in\n",
    "# this case year will be printed first and principal second as per the order 0 and 1.\n",
    "# The sequence after the colon represents the formatting. -- 6d right-aligned and 6 decimal points.\n",
    "print(\"{0:6d} {1:0.6f}\".format(year,principal))"
   ]
  },
  {
   "cell_type": "code",
   "execution_count": 59,
   "metadata": {},
   "outputs": [
    {
     "name": "stdout",
     "output_type": "stream",
     "text": [
      "The results are       6 1276.281563\n"
     ]
    }
   ],
   "source": [
    "# Yet another variation. It includes a message though!!\n",
    "print('The results are ',format(year,\"6d\"),format(principal,\"0.6f\"))"
   ]
  },
  {
   "cell_type": "code",
   "execution_count": 61,
   "metadata": {},
   "outputs": [
    {
     "name": "stdout",
     "output_type": "stream",
     "text": [
      "The results are      6 1276.2816\n"
     ]
    }
   ],
   "source": [
    "# And another one.\n",
    "print(\"The results are {0:6d} {1:0.4f}\".format(year,principal))"
   ]
  },
  {
   "cell_type": "markdown",
   "metadata": {},
   "source": [
    "Same as the preceding example, but the > characters make the right-alignment more\n",
    "explicit:"
   ]
  },
  {
   "cell_type": "code",
   "execution_count": 65,
   "metadata": {},
   "outputs": [
    {
     "name": "stdout",
     "output_type": "stream",
     "text": [
      "The results are      6 1276.2815625000\n"
     ]
    }
   ],
   "source": [
    "print(\"The results are {0:>6d} {1:>0.10f}\".format(year,principal))"
   ]
  },
  {
   "cell_type": "markdown",
   "metadata": {},
   "source": [
    "Minimum field width 10, centered: (^ is used for centering)"
   ]
  },
  {
   "cell_type": "code",
   "execution_count": 66,
   "metadata": {},
   "outputs": [
    {
     "name": "stdout",
     "output_type": "stream",
     "text": [
      " 6   1276.2816\n"
     ]
    }
   ],
   "source": [
    "print(format(year,\"^4d\"),format(principal,\"^0.4f\"))"
   ]
  },
  {
   "cell_type": "code",
   "execution_count": 68,
   "metadata": {},
   "outputs": [
    {
     "data": {
      "text/plain": [
       "' 6   1276.2816'"
      ]
     },
     "execution_count": 68,
     "metadata": {},
     "output_type": "execute_result"
    }
   ],
   "source": [
    "'{0:^4d} {1:^0.4f}'.format(year,principal)"
   ]
  },
  {
   "cell_type": "markdown",
   "metadata": {},
   "source": [
    "We can also fill the empty spaces of padding with a character of our choice as follows!! Here, $ symbol is a padding character. The total output has 20 places and the principal value is centered (see ^ symbol)."
   ]
  },
  {
   "cell_type": "code",
   "execution_count": 10,
   "metadata": {},
   "outputs": [
    {
     "data": {
      "text/plain": [
       "'$$$$1276.281563$$$$$'"
      ]
     },
     "execution_count": 10,
     "metadata": {},
     "output_type": "execute_result"
    }
   ],
   "source": [
    "'{0:$^20f}'.format(principal)"
   ]
  },
  {
   "cell_type": "code",
   "execution_count": null,
   "metadata": {
    "collapsed": true
   },
   "outputs": [],
   "source": []
  },
  {
   "cell_type": "code",
   "execution_count": null,
   "metadata": {
    "collapsed": true
   },
   "outputs": [],
   "source": []
  },
  {
   "cell_type": "code",
   "execution_count": null,
   "metadata": {
    "collapsed": true
   },
   "outputs": [],
   "source": []
  }
 ],
 "metadata": {
  "anaconda-cloud": {},
  "kernelspec": {
   "display_name": "Python 3",
   "language": "python",
   "name": "python3"
  },
  "language_info": {
   "codemirror_mode": {
    "name": "ipython",
    "version": 3
   },
   "file_extension": ".py",
   "mimetype": "text/x-python",
   "name": "python",
   "nbconvert_exporter": "python",
   "pygments_lexer": "ipython3",
   "version": "3.6.1"
  }
 },
 "nbformat": 4,
 "nbformat_minor": 2
}
