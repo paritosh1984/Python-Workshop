{
 "cells": [
  {
   "cell_type": "markdown",
   "metadata": {},
   "source": [
    "## Code Structures\n",
    "### Continue Lines with \\"
   ]
  },
  {
   "cell_type": "code",
   "execution_count": 2,
   "metadata": {
    "collapsed": true
   },
   "outputs": [],
   "source": [
    "alphabet = 'abcdefg' + \\\n",
    "'hijklmnop' + \\\n",
    "'qrstuv' + \\\n",
    "'wxyz'"
   ]
  },
  {
   "cell_type": "code",
   "execution_count": 4,
   "metadata": {
    "collapsed": false
   },
   "outputs": [
    {
     "data": {
      "text/plain": [
       "'abcdefghijklmnopqrstuvwxyz'"
      ]
     },
     "execution_count": 4,
     "metadata": {},
     "output_type": "execute_result"
    }
   ],
   "source": [
    "alphabet"
   ]
  },
  {
   "cell_type": "markdown",
   "metadata": {},
   "source": [
    "### If.. Else Constructs"
   ]
  },
  {
   "cell_type": "code",
   "execution_count": 5,
   "metadata": {
    "collapsed": false
   },
   "outputs": [
    {
     "name": "stdout",
     "output_type": "stream",
     "text": [
      "Learn more about it..!\n"
     ]
    }
   ],
   "source": [
    "# Simple example\n",
    "interesting = True\n",
    "easy = True\n",
    "if interesting and easy:\n",
    "    print('Learn more about it..!')\n",
    "else:\n",
    "    print('Move on..')"
   ]
  },
  {
   "cell_type": "code",
   "execution_count": 7,
   "metadata": {
    "collapsed": false
   },
   "outputs": [
    {
     "name": "stdout",
     "output_type": "stream",
     "text": [
      "Easy for you..!\n"
     ]
    }
   ],
   "source": [
    "# Nested Conditions\n",
    "interesting = True\n",
    "easy = True\n",
    "if interesting:\n",
    "    if easy:\n",
    "        print('Easy for you..!')\n",
    "    else:\n",
    "        print('Keep practicing..!')\n",
    "else:\n",
    "    print('Move on..')"
   ]
  },
  {
   "cell_type": "code",
   "execution_count": null,
   "metadata": {
    "collapsed": true
   },
   "outputs": [],
   "source": [
    "#### Use of if... elif constructs\n",
    "They are called chained conditionals."
   ]
  },
  {
   "cell_type": "code",
   "execution_count": 8,
   "metadata": {
    "collapsed": false
   },
   "outputs": [
    {
     "name": "stdout",
     "output_type": "stream",
     "text": [
      "Its time for Breakfast!!\n"
     ]
    }
   ],
   "source": [
    "# Multiple Conditions\n",
    "time = 'morning'\n",
    "if time == 'morning':\n",
    "    print('Its time for Breakfast!!')\n",
    "elif time == 'noon':\n",
    "    print('Its time for lunch!!')\n",
    "elif time == 'night':\n",
    "    print('Its time for dinner!!')\n",
    "else:\n",
    "    print('I am hungry all the time anyways')"
   ]
  },
  {
   "cell_type": "markdown",
   "metadata": {},
   "source": [
    "## Boolean Check in if..else Constructs"
   ]
  },
  {
   "cell_type": "markdown",
   "metadata": {},
   "source": [
    "Python programs use this definition of “truthiness” (or as per the case dictates, “falsiness”) to check for empty data structures as well as False\n",
    "conditions:"
   ]
  },
  {
   "cell_type": "code",
   "execution_count": 6,
   "metadata": {
    "collapsed": false
   },
   "outputs": [
    {
     "name": "stdout",
     "output_type": "stream",
     "text": [
      "Hey, it's empty!\n"
     ]
    }
   ],
   "source": [
    "some_list = []\n",
    "if some_list:\n",
    "    print(\"There's something in here\")\n",
    "else:\n",
    "    print(\"Hey, it's empty!\")"
   ]
  },
  {
   "cell_type": "raw",
   "metadata": {},
   "source": [
    "A false value doesn’t necessarily need to explicitly be False or come from an expression that evaluates to False. For example, in Python these are all\n",
    "considered False:\n",
    "\n",
    "boolean False\n",
    "null None\n",
    "zero integer 0\n",
    "zero float 0.0\n",
    "empty string ''\n",
    "empty list []\n",
    "empty tuple ()\n",
    "empty dict {}\n",
    "empty set set()\n",
    "\n",
    "This explains why the previous example resulted in \"Hey, it's empty!\" which comes from the else block."
   ]
  },
  {
   "cell_type": "code",
   "execution_count": 9,
   "metadata": {
    "collapsed": false
   },
   "outputs": [
    {
     "name": "stdout",
     "output_type": "stream",
     "text": [
      "Its False\n"
     ]
    }
   ],
   "source": [
    "# Example 1\n",
    "a = 0\n",
    "if a:\n",
    "    print('Its  True')\n",
    "else:\n",
    "    print('Its False')"
   ]
  },
  {
   "cell_type": "code",
   "execution_count": 13,
   "metadata": {
    "collapsed": false
   },
   "outputs": [
    {
     "name": "stdout",
     "output_type": "stream",
     "text": [
      "I dont see no sum\n"
     ]
    }
   ],
   "source": [
    "# Example 2\n",
    "def add(x,y):\n",
    "    if type(x) is int and type(y) is int:\n",
    "        return(x+y)\n",
    "sum = add(5,'now') # Passing an integer '5' and string 'now'\n",
    "    \n",
    "if sum:\n",
    "    print('The sum is', sum)\n",
    "else:\n",
    "    print('I dont see no sum')"
   ]
  },
  {
   "cell_type": "code",
   "execution_count": 14,
   "metadata": {
    "collapsed": false
   },
   "outputs": [
    {
     "name": "stdout",
     "output_type": "stream",
     "text": [
      "None\n"
     ]
    }
   ],
   "source": [
    "# The  reason being, the return is None\n",
    "print(sum)"
   ]
  },
  {
   "cell_type": "markdown",
   "metadata": {},
   "source": [
    "Anything else is considered True. "
   ]
  },
  {
   "cell_type": "markdown",
   "metadata": {},
   "source": [
    "If what you’re testing is an expression rather than a simple variable, Python evaluates\n",
    "the expression and returns a boolean result. So, if you type the following:\n",
    "    \n",
    "if color == \"red\":\n",
    "    \n",
    "Python evaluates color == \"red\". In our example, we assigned the string \"puce\" to\n",
    "color earlier, so color == \"red\" is False, and Python moves on to the next test:\n",
    "    \n",
    "elif color == \"green\":"
   ]
  },
  {
   "cell_type": "markdown",
   "metadata": {},
   "source": [
    "## Repeat with while\n",
    "Testing with if, elif, and else runs from top to bottom. Sometimes, we need to do\n",
    "something more than once. We need a loop, and the simplest looping mechanism in\n",
    "Python is while. "
   ]
  },
  {
   "cell_type": "code",
   "execution_count": 15,
   "metadata": {
    "collapsed": false
   },
   "outputs": [
    {
     "name": "stdout",
     "output_type": "stream",
     "text": [
      "1\n",
      "2\n",
      "3\n",
      "4\n",
      "5\n"
     ]
    }
   ],
   "source": [
    "count = 1\n",
    "while count <= 5:\n",
    "    print(count)\n",
    "    count += 1"
   ]
  },
  {
   "cell_type": "markdown",
   "metadata": {},
   "source": [
    "## Breaking out with Break"
   ]
  },
  {
   "cell_type": "code",
   "execution_count": 17,
   "metadata": {
    "collapsed": false
   },
   "outputs": [
    {
     "name": "stdout",
     "output_type": "stream",
     "text": [
      "The count is 1\n",
      "The count is 2\n"
     ]
    }
   ],
   "source": [
    "count = 1\n",
    "while count < 5:\n",
    "    print('The count is', count)\n",
    "    count += 1\n",
    "    if count == 3:\n",
    "        break"
   ]
  },
  {
   "cell_type": "markdown",
   "metadata": {},
   "source": [
    "## Break With User Interation"
   ]
  },
  {
   "cell_type": "code",
   "execution_count": 18,
   "metadata": {
    "collapsed": false
   },
   "outputs": [
    {
     "name": "stdout",
     "output_type": "stream",
     "text": [
      "String to capitalize [type q to quit]: hello\n",
      "Hello\n",
      "String to capitalize [type q to quit]: world\n",
      "World\n",
      "String to capitalize [type q to quit]: common\n",
      "Common\n",
      "String to capitalize [type q to quit]: you\n",
      "You\n",
      "String to capitalize [type q to quit]: got \n",
      "Got \n",
      "String to capitalize [type q to quit]: to\n",
      "To\n",
      "String to capitalize [type q to quit]: stop\n",
      "Stop\n",
      "String to capitalize [type q to quit]: now\n",
      "Now\n",
      "String to capitalize [type q to quit]: q\n"
     ]
    }
   ],
   "source": [
    "while True:\n",
    "    stuff = input(\"String to capitalize [type q to quit]: \")\n",
    "    if stuff == \"q\":\n",
    "        break\n",
    "    print(stuff.capitalize())"
   ]
  },
  {
   "cell_type": "markdown",
   "metadata": {},
   "source": [
    "## Skip Ahead with Continue\n",
    "Sometimes you don’t want to break out of a loop but just want to skip ahead to the next\n",
    "iteration for some reason. Here’s a contrived example: let’s read an integer, print its\n",
    "square if it’s odd, and skip it if it’s even. Again, we’ll\n",
    "use q to stop the loop:"
   ]
  },
  {
   "cell_type": "code",
   "execution_count": 20,
   "metadata": {
    "collapsed": false
   },
   "outputs": [
    {
     "name": "stdout",
     "output_type": "stream",
     "text": [
      "Integer, please enter q to quit: 10\n",
      "Integer, please enter q to quit: 9\n",
      "9 squared is 81\n",
      "Integer, please enter q to quit: 8\n",
      "Integer, please enter q to quit: 7\n",
      "7 squared is 49\n",
      "Integer, please enter q to quit: 6\n",
      "Integer, please enter q to quit: 5\n",
      "5 squared is 25\n",
      "Integer, please enter q to quit: 4\n",
      "Integer, please enter q to quit: 3\n",
      "3 squared is 9\n",
      "Integer, please enter q to quit: 2\n",
      "Integer, please enter q to quit: 1\n",
      "1 squared is 1\n",
      "Integer, please enter q to quit: q\n"
     ]
    }
   ],
   "source": [
    "while True:\n",
    "    value = input(\"Integer, please enter q to quit: \")\n",
    "    if value == 'q': # quit\n",
    "        break\n",
    "    number = int(value)\n",
    "    if number % 2 == 0: # an even number\n",
    "        continue\n",
    "    print('{} squared is {}'.format(number, number*number))"
   ]
  },
  {
   "cell_type": "markdown",
   "metadata": {},
   "source": [
    "As you can see, whenever an even number is input by the user, the code skips it as per the instruction given, but still continues to work and waits for the next user input. When an odd number is input, it computes the square. 'q' breaks from the loop."
   ]
  },
  {
   "cell_type": "markdown",
   "metadata": {
    "collapsed": true
   },
   "source": [
    "## Using else with while construct\n",
    "If the while loop ended normally (no break call), control passes to an optional else.\n",
    "You use this when you’ve coded a while loop to check for something, and breaking as\n",
    "soon as it’s found."
   ]
  },
  {
   "cell_type": "code",
   "execution_count": 21,
   "metadata": {
    "collapsed": false
   },
   "outputs": [
    {
     "name": "stdout",
     "output_type": "stream",
     "text": [
      "No even number found\n"
     ]
    }
   ],
   "source": [
    "numbers = [1, 3, 5]\n",
    "position = 0\n",
    "while position < len(numbers):\n",
    "    number = numbers[position]\n",
    "    if number % 2 == 0:\n",
    "        print('Found even number', number)\n",
    "        break\n",
    "    position += 1\n",
    "else: # break not called\n",
    "    print('No even number found')"
   ]
  },
  {
   "cell_type": "code",
   "execution_count": null,
   "metadata": {
    "collapsed": true
   },
   "outputs": [],
   "source": []
  }
 ],
 "metadata": {
  "anaconda-cloud": {},
  "kernelspec": {
   "display_name": "Python [conda env:data]",
   "language": "python",
   "name": "conda-env-data-py"
  },
  "language_info": {
   "codemirror_mode": {
    "name": "ipython",
    "version": 3
   },
   "file_extension": ".py",
   "mimetype": "text/x-python",
   "name": "python",
   "nbconvert_exporter": "python",
   "pygments_lexer": "ipython3",
   "version": "3.5.3"
  }
 },
 "nbformat": 4,
 "nbformat_minor": 2
}
