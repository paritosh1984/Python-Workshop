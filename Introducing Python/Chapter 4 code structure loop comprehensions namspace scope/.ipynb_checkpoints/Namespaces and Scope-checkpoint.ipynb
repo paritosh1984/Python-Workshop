{
 "cells": [
  {
   "cell_type": "markdown",
   "metadata": {},
   "source": [
    "### Demonstrating Global Variables"
   ]
  },
  {
   "cell_type": "code",
   "execution_count": 1,
   "metadata": {},
   "outputs": [
    {
     "name": "stdout",
     "output_type": "stream",
     "text": [
      "I am a Global Variable and I am all over the place\n"
     ]
    }
   ],
   "source": [
    "g_variable = 'I am all over the place'\n",
    "\n",
    "def simple_func():\n",
    "    print('Global Variable says', g_variable)\n",
    "\n",
    "print('I am a Global Variable and', g_variable)"
   ]
  },
  {
   "cell_type": "code",
   "execution_count": 2,
   "metadata": {},
   "outputs": [
    {
     "name": "stdout",
     "output_type": "stream",
     "text": [
      "Global Variable says I am all over the place\n"
     ]
    }
   ],
   "source": [
    "simple_func()"
   ]
  },
  {
   "cell_type": "markdown",
   "metadata": {},
   "source": [
    "However, if we try to modify the value of a global variable inside a function, we get an error. This is because, unless it is explicitly mentioned in the function if a variable is global, all variables are treated local and they must be initialized before use."
   ]
  },
  {
   "cell_type": "code",
   "execution_count": 3,
   "metadata": {
    "collapsed": true
   },
   "outputs": [],
   "source": [
    "def tamper_with_global_variable():\n",
    "    print('Global Variable says', g_variable) # get the global variable\n",
    "    g_variable = 'This is from the inside!!'\n",
    "    print(g_variable)"
   ]
  },
  {
   "cell_type": "code",
   "execution_count": 4,
   "metadata": {},
   "outputs": [
    {
     "ename": "UnboundLocalError",
     "evalue": "local variable 'g_variable' referenced before assignment",
     "output_type": "error",
     "traceback": [
      "\u001b[1;31m---------------------------------------------------------------------------\u001b[0m",
      "\u001b[1;31mUnboundLocalError\u001b[0m                         Traceback (most recent call last)",
      "\u001b[1;32m<ipython-input-4-951baea85ccc>\u001b[0m in \u001b[0;36m<module>\u001b[1;34m()\u001b[0m\n\u001b[1;32m----> 1\u001b[1;33m \u001b[0mtamper_with_global_variable\u001b[0m\u001b[1;33m(\u001b[0m\u001b[1;33m)\u001b[0m\u001b[1;33m\u001b[0m\u001b[0m\n\u001b[0m",
      "\u001b[1;32m<ipython-input-3-33c86b8d0e62>\u001b[0m in \u001b[0;36mtamper_with_global_variable\u001b[1;34m()\u001b[0m\n\u001b[0;32m      1\u001b[0m \u001b[1;32mdef\u001b[0m \u001b[0mtamper_with_global_variable\u001b[0m\u001b[1;33m(\u001b[0m\u001b[1;33m)\u001b[0m\u001b[1;33m:\u001b[0m\u001b[1;33m\u001b[0m\u001b[0m\n\u001b[1;32m----> 2\u001b[1;33m     \u001b[0mprint\u001b[0m\u001b[1;33m(\u001b[0m\u001b[1;34m'Global Variable says'\u001b[0m\u001b[1;33m,\u001b[0m \u001b[0mg_variable\u001b[0m\u001b[1;33m)\u001b[0m \u001b[1;31m# get the global variable\u001b[0m\u001b[1;33m\u001b[0m\u001b[0m\n\u001b[0m\u001b[0;32m      3\u001b[0m     \u001b[0mg_variable\u001b[0m \u001b[1;33m=\u001b[0m \u001b[1;34m'This is from the inside!!'\u001b[0m\u001b[1;33m\u001b[0m\u001b[0m\n\u001b[0;32m      4\u001b[0m     \u001b[0mprint\u001b[0m\u001b[1;33m(\u001b[0m\u001b[0mg_variable\u001b[0m\u001b[1;33m)\u001b[0m\u001b[1;33m\u001b[0m\u001b[0m\n",
      "\u001b[1;31mUnboundLocalError\u001b[0m: local variable 'g_variable' referenced before assignment"
     ]
    }
   ],
   "source": [
    "tamper_with_global_variable()"
   ]
  },
  {
   "cell_type": "markdown",
   "metadata": {},
   "source": [
    "In the following function, we are directly creating a local variable with the same name as the global variable. "
   ]
  },
  {
   "cell_type": "code",
   "execution_count": 6,
   "metadata": {
    "collapsed": true
   },
   "outputs": [],
   "source": [
    "def change_local():\n",
    "    # We are not getting the global variable here\n",
    "    # We are directly assigning a value to the name g_variable\n",
    "    g_variable = 'Now I am changed!'\n",
    "    print('Local Variable says', g_variable)"
   ]
  },
  {
   "cell_type": "markdown",
   "metadata": {},
   "source": [
    "Here, in above function, g_variable is a local variable. Moreover, we have initialized the variable before use."
   ]
  },
  {
   "cell_type": "code",
   "execution_count": 7,
   "metadata": {},
   "outputs": [
    {
     "name": "stdout",
     "output_type": "stream",
     "text": [
      "Local Variable says Now I am changed!\n"
     ]
    }
   ],
   "source": [
    "change_local() # This should print the new value"
   ]
  },
  {
   "cell_type": "markdown",
   "metadata": {},
   "source": [
    "### Use id() to print the unique value for each object "
   ]
  },
  {
   "cell_type": "code",
   "execution_count": 12,
   "metadata": {},
   "outputs": [
    {
     "name": "stdout",
     "output_type": "stream",
     "text": [
      "Local Variable with a value 2567537781256 says Now I am changed!\n"
     ]
    }
   ],
   "source": [
    "g_variable='global variable'\n",
    "\n",
    "def one_more_time():\n",
    "    g_variable = 'Now I am changed!'\n",
    "    print('Local Variable with a value',id(g_variable),'says', g_variable)\n",
    "one_more_time()"
   ]
  },
  {
   "cell_type": "code",
   "execution_count": 13,
   "metadata": {},
   "outputs": [
    {
     "data": {
      "text/plain": [
       "2567537737072"
      ]
     },
     "execution_count": 13,
     "metadata": {},
     "output_type": "execute_result"
    }
   ],
   "source": [
    "# Lets get the id of the actual global variable too.\n",
    "id(g_variable)"
   ]
  },
  {
   "cell_type": "markdown",
   "metadata": {},
   "source": [
    "As we can see, The ids of the two variables are different."
   ]
  },
  {
   "cell_type": "markdown",
   "metadata": {},
   "source": [
    "Python provides two functions to access the contents of your namespaces:\n",
    "1. locals() returns a dictionary of the contents of the local namespace.\n",
    "2. globals() returns a dictionary of the contents of the global namespace."
   ]
  },
  {
   "cell_type": "code",
   "execution_count": 14,
   "metadata": {},
   "outputs": [
    {
     "name": "stdout",
     "output_type": "stream",
     "text": [
      "globals {'__name__': '__main__', '__doc__': 'Automatically created module for IPython interactive environment', '__package__': None, '__loader__': None, '__spec__': None, '__builtin__': <module 'builtins' (built-in)>, '__builtins__': <module 'builtins' (built-in)>, '_ih': ['', \"def tamper_with_global_variable():\\n    print('Global Variable says', g_variable) # get the global variable\\n    g_variable = 'This is from the inside!!'\\n    print(g_variable)\", 'tamper_with_global_variable()', \"def tamper_with_global_variable():\\n    print('Global Variable says', g_variable) # get the global variable\\n    g_variable = 'This is from the inside!!'\\n    print(g_variable)\", 'tamper_with_global_variable()', 'change_local() # This should print the new value', \"def change_local():\\n    # We are not getting the global variable here\\n    # We are directly assigning a value to the name g_variable\\n    g_variable = 'Now I am changed!'\\n    print('Local Variable says', g_variable)\", 'change_local() # This should print the new value', \"def one_more_time():\\n    g_variable = 'Now I am changed!'\\n    print('Local Variable with a value',id(g_variable),'says', g_variable)\\none_more_time()\", '# Lets get the id of the actual global variable too.\\nid(g_variable)', \"def one_more_time():\\n    g_variable = 'Now I am changed!'\\n    print('Local Variable with a value',id(g_variable),'says', g_variable)\\none_more_time()\", '# Lets get the id of the actual global variable too.\\nid(g_variable)', \"g_variable='global variable'\\n\\ndef one_more_time():\\n    g_variable = 'Now I am changed!'\\n    print('Local Variable with a value',id(g_variable),'says', g_variable)\\none_more_time()\", '# Lets get the id of the actual global variable too.\\nid(g_variable)', \"print('globals',globals())\"], '_oh': {13: 2567537737072}, '_dh': ['C:\\\\Users\\\\vivek\\\\Documents\\\\GitHub\\\\Python-Workshop\\\\Introducing Python\\\\Chapter 4'], '_sh': <module 'IPython.core.shadowns' from 'C:\\\\ProgramData\\\\Anaconda3\\\\lib\\\\site-packages\\\\IPython\\\\core\\\\shadowns.py'>, 'In': ['', \"def tamper_with_global_variable():\\n    print('Global Variable says', g_variable) # get the global variable\\n    g_variable = 'This is from the inside!!'\\n    print(g_variable)\", 'tamper_with_global_variable()', \"def tamper_with_global_variable():\\n    print('Global Variable says', g_variable) # get the global variable\\n    g_variable = 'This is from the inside!!'\\n    print(g_variable)\", 'tamper_with_global_variable()', 'change_local() # This should print the new value', \"def change_local():\\n    # We are not getting the global variable here\\n    # We are directly assigning a value to the name g_variable\\n    g_variable = 'Now I am changed!'\\n    print('Local Variable says', g_variable)\", 'change_local() # This should print the new value', \"def one_more_time():\\n    g_variable = 'Now I am changed!'\\n    print('Local Variable with a value',id(g_variable),'says', g_variable)\\none_more_time()\", '# Lets get the id of the actual global variable too.\\nid(g_variable)', \"def one_more_time():\\n    g_variable = 'Now I am changed!'\\n    print('Local Variable with a value',id(g_variable),'says', g_variable)\\none_more_time()\", '# Lets get the id of the actual global variable too.\\nid(g_variable)', \"g_variable='global variable'\\n\\ndef one_more_time():\\n    g_variable = 'Now I am changed!'\\n    print('Local Variable with a value',id(g_variable),'says', g_variable)\\none_more_time()\", '# Lets get the id of the actual global variable too.\\nid(g_variable)', \"print('globals',globals())\"], 'Out': {13: 2567537737072}, 'get_ipython': <bound method InteractiveShell.get_ipython of <ipykernel.zmqshell.ZMQInteractiveShell object at 0x00000255CD148908>>, 'exit': <IPython.core.autocall.ZMQExitAutocall object at 0x00000255CD1F0EB8>, 'quit': <IPython.core.autocall.ZMQExitAutocall object at 0x00000255CD1F0EB8>, '_': 2567537737072, '__': '', '___': '', '_i': '# Lets get the id of the actual global variable too.\\nid(g_variable)', '_ii': \"g_variable='global variable'\\n\\ndef one_more_time():\\n    g_variable = 'Now I am changed!'\\n    print('Local Variable with a value',id(g_variable),'says', g_variable)\\none_more_time()\", '_iii': '# Lets get the id of the actual global variable too.\\nid(g_variable)', '_i1': \"def tamper_with_global_variable():\\n    print('Global Variable says', g_variable) # get the global variable\\n    g_variable = 'This is from the inside!!'\\n    print(g_variable)\", 'tamper_with_global_variable': <function tamper_with_global_variable at 0x00000255CD2C5048>, '_i2': 'tamper_with_global_variable()', '_i3': \"def tamper_with_global_variable():\\n    print('Global Variable says', g_variable) # get the global variable\\n    g_variable = 'This is from the inside!!'\\n    print(g_variable)\", '_i4': 'tamper_with_global_variable()', '_i5': 'change_local() # This should print the new value', '_i6': \"def change_local():\\n    # We are not getting the global variable here\\n    # We are directly assigning a value to the name g_variable\\n    g_variable = 'Now I am changed!'\\n    print('Local Variable says', g_variable)\", 'change_local': <function change_local at 0x00000255CD2C51E0>, '_i7': 'change_local() # This should print the new value', '_i8': \"def one_more_time():\\n    g_variable = 'Now I am changed!'\\n    print('Local Variable with a value',id(g_variable),'says', g_variable)\\none_more_time()\", 'one_more_time': <function one_more_time at 0x00000255CD2C5268>, '_i9': '# Lets get the id of the actual global variable too.\\nid(g_variable)', '_i10': \"def one_more_time():\\n    g_variable = 'Now I am changed!'\\n    print('Local Variable with a value',id(g_variable),'says', g_variable)\\none_more_time()\", '_i11': '# Lets get the id of the actual global variable too.\\nid(g_variable)', '_i12': \"g_variable='global variable'\\n\\ndef one_more_time():\\n    g_variable = 'Now I am changed!'\\n    print('Local Variable with a value',id(g_variable),'says', g_variable)\\none_more_time()\", 'g_variable': 'global variable', '_i13': '# Lets get the id of the actual global variable too.\\nid(g_variable)', '_13': 2567537737072, '_i14': \"print('globals',globals())\"}\n"
     ]
    }
   ],
   "source": [
    "print('globals',globals())"
   ]
  },
  {
   "cell_type": "markdown",
   "metadata": {},
   "source": [
    "The globals() function will return all the global names in the current program as seen in the huge dictionary above."
   ]
  },
  {
   "cell_type": "code",
   "execution_count": 19,
   "metadata": {},
   "outputs": [
    {
     "name": "stdout",
     "output_type": "stream",
     "text": [
      "Local Variable with a value 1271412161320 says Now I am changed!\n",
      "Local names are {'g_variable': 'Now I am changed!'}\n"
     ]
    }
   ],
   "source": [
    "# Lets see how locals() work\n",
    "def yet_again():\n",
    "    g_variable = 'Now I am changed!'\n",
    "    print('Local Variable with a value',id(g_variable),'says', g_variable)\n",
    "    print('Local names are', locals())\n",
    "yet_again()"
   ]
  },
  {
   "cell_type": "markdown",
   "metadata": {},
   "source": [
    "The local namespace within yet_again() contained only the local variable\n",
    "g_variable. The global namespace contained the separate global variable g_variable and a\n",
    "number of other things."
   ]
  },
  {
   "cell_type": "code",
   "execution_count": null,
   "metadata": {
    "collapsed": true
   },
   "outputs": [],
   "source": []
  },
  {
   "cell_type": "code",
   "execution_count": null,
   "metadata": {
    "collapsed": true
   },
   "outputs": [],
   "source": []
  },
  {
   "cell_type": "markdown",
   "metadata": {},
   "source": [
    "### So how do we solve the error we saw earlier?\n",
    "To access the global variable rather than the local variable within a function, we need to be\n",
    "explicit and use the global keyword.\n",
    "\n",
    "Lets try and change the global variable from inside the function. Before that, we'll print the global variable to see what it currently holds."
   ]
  },
  {
   "cell_type": "code",
   "execution_count": 15,
   "metadata": {},
   "outputs": [
    {
     "data": {
      "text/plain": [
       "'global variable'"
      ]
     },
     "execution_count": 15,
     "metadata": {},
     "output_type": "execute_result"
    }
   ],
   "source": [
    "g_variable"
   ]
  },
  {
   "cell_type": "code",
   "execution_count": 16,
   "metadata": {
    "collapsed": true
   },
   "outputs": [],
   "source": [
    "# Its still the same. So lets change it."
   ]
  },
  {
   "cell_type": "code",
   "execution_count": 17,
   "metadata": {
    "collapsed": true
   },
   "outputs": [],
   "source": [
    "def change_now():\n",
    "    global g_variable\n",
    "    g_variable = 'At last its changed'\n",
    "    print('From inside the function -', g_variable)"
   ]
  },
  {
   "cell_type": "code",
   "execution_count": 18,
   "metadata": {},
   "outputs": [
    {
     "name": "stdout",
     "output_type": "stream",
     "text": [
      "From inside the function - At last its changed\n"
     ]
    }
   ],
   "source": [
    "change_now()"
   ]
  },
  {
   "cell_type": "code",
   "execution_count": 19,
   "metadata": {},
   "outputs": [
    {
     "data": {
      "text/plain": [
       "'At last its changed'"
      ]
     },
     "execution_count": 19,
     "metadata": {},
     "output_type": "execute_result"
    }
   ],
   "source": [
    "# Print the global variable now\n",
    "g_variable"
   ]
  },
  {
   "cell_type": "markdown",
   "metadata": {},
   "source": [
    "So, we can access and change the value of a global variable from inside a function using global keyword."
   ]
  },
  {
   "cell_type": "code",
   "execution_count": null,
   "metadata": {
    "collapsed": true
   },
   "outputs": [],
   "source": []
  },
  {
   "cell_type": "code",
   "execution_count": null,
   "metadata": {
    "collapsed": true
   },
   "outputs": [],
   "source": []
  },
  {
   "cell_type": "code",
   "execution_count": null,
   "metadata": {
    "collapsed": true
   },
   "outputs": [],
   "source": []
  },
  {
   "cell_type": "markdown",
   "metadata": {},
   "source": [
    "### Uses of _ and __ in Names"
   ]
  },
  {
   "cell_type": "markdown",
   "metadata": {},
   "source": [
    "In Python we have Names that begin and end with two underscores (__) and they are reserved for use within Python. These underscores are thus not to be used with our own variables. This naming pattern was chosen because it seemed unlikely to be selected by application developers for their own\n",
    "variables."
   ]
  },
  {
   "cell_type": "markdown",
   "metadata": {},
   "source": [
    "For instance, the name of a function is in the system variable function .\\_\\_name\\_\\_, and\n",
    "its documentation string is function .\\_\\_doc\\_\\_:"
   ]
  },
  {
   "cell_type": "code",
   "execution_count": 21,
   "metadata": {},
   "outputs": [
    {
     "data": {
      "text/plain": [
       "'change_local'"
      ]
     },
     "execution_count": 21,
     "metadata": {},
     "output_type": "execute_result"
    }
   ],
   "source": [
    "# Example \n",
    "change_local.__name__"
   ]
  },
  {
   "cell_type": "markdown",
   "metadata": {},
   "source": [
    "### The Name \\_\\_main\\_\\_"
   ]
  },
  {
   "cell_type": "code",
   "execution_count": 27,
   "metadata": {},
   "outputs": [],
   "source": [
    "def main():\n",
    "    print('hello')"
   ]
  },
  {
   "cell_type": "code",
   "execution_count": 28,
   "metadata": {},
   "outputs": [
    {
     "data": {
      "text/plain": [
       "'__main__'"
      ]
     },
     "execution_count": 28,
     "metadata": {},
     "output_type": "execute_result"
    }
   ],
   "source": [
    "__name__"
   ]
  },
  {
   "cell_type": "code",
   "execution_count": 29,
   "metadata": {},
   "outputs": [
    {
     "name": "stdout",
     "output_type": "stream",
     "text": [
      "hello\n"
     ]
    }
   ],
   "source": [
    "if __name__ == '__main__':\n",
    "    main()"
   ]
  },
  {
   "cell_type": "markdown",
   "metadata": {},
   "source": [
    "The reason why this works is because the name of current namespace is \\_\\_main\\_\\_"
   ]
  },
  {
   "cell_type": "code",
   "execution_count": 49,
   "metadata": {},
   "outputs": [
    {
     "data": {
      "text/plain": [
       "'__main__'"
      ]
     },
     "execution_count": 49,
     "metadata": {},
     "output_type": "execute_result"
    }
   ],
   "source": [
    "# This is better demonstrated by the following statement\n",
    "__name__"
   ]
  },
  {
   "cell_type": "markdown",
   "metadata": {},
   "source": [
    "When the Python interpreter interprets a source file, before executing the code, it defines a few special variables.\n",
    "\n",
    "The \\_\\_name\\_\\_ is one such special variable.\n",
    "\n",
    "For example, if the python interpreter is running the current module (the source file) as the main program, it sets the special \\_\\_name\\_\\_ variable to have a value \"\\_\\_main\\_\\_\". If this file is being imported from another module, \\_\\_name\\_\\_ will be set to the module's name."
   ]
  },
  {
   "cell_type": "code",
   "execution_count": 1,
   "metadata": {
    "collapsed": true
   },
   "outputs": [],
   "source": [
    "# For example\n",
    "import numpy as np"
   ]
  },
  {
   "cell_type": "code",
   "execution_count": 3,
   "metadata": {},
   "outputs": [
    {
     "data": {
      "text/plain": [
       "'numpy'"
      ]
     },
     "execution_count": 3,
     "metadata": {},
     "output_type": "execute_result"
    }
   ],
   "source": [
    "np.__name__"
   ]
  }
 ],
 "metadata": {
  "kernelspec": {
   "display_name": "Python 3",
   "language": "python",
   "name": "python3"
  },
  "language_info": {
   "codemirror_mode": {
    "name": "ipython",
    "version": 3
   },
   "file_extension": ".py",
   "mimetype": "text/x-python",
   "name": "python",
   "nbconvert_exporter": "python",
   "pygments_lexer": "ipython3",
   "version": "3.6.1"
  }
 },
 "nbformat": 4,
 "nbformat_minor": 1
}
